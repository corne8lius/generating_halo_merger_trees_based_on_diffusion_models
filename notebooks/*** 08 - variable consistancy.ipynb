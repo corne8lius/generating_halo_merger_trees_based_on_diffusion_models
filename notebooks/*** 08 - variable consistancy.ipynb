{
 "cells": [
  {
   "cell_type": "code",
   "execution_count": 2,
   "id": "d066274b",
   "metadata": {},
   "outputs": [
    {
     "data": {
      "text/html": [
       "<style>.container { width:70% !important; }</style>"
      ],
      "text/plain": [
       "<IPython.core.display.HTML object>"
      ]
     },
     "metadata": {},
     "output_type": "display_data"
    }
   ],
   "source": [
    "import pandas as pd\n",
    "import torch\n",
    "import torch.nn as nn\n",
    "import tqdm\n",
    "import torch.nn.functional as F\n",
    "import os\n",
    "import numpy as np\n",
    "import random\n",
    "import re\n",
    "from torch.utils.data import DataLoader\n",
    "import torchvision.transforms as transforms\n",
    "import torch.optim as optim\n",
    "import matplotlib.pyplot as plt\n",
    "from scipy.stats import ks_2samp\n",
    "import math\n",
    "import torchvision\n",
    "from IPython.display import display, HTML\n",
    "from IPython.display import display\n",
    "display(HTML(\"<style>.container { width:70% !important; }</style>\"))\n",
    "\n",
    "from useful_functions_notebook_8to13 import *"
   ]
  },
  {
   "cell_type": "code",
   "execution_count": 3,
   "id": "40d5c0ef",
   "metadata": {},
   "outputs": [
    {
     "data": {
      "text/plain": [
       "(torch.Size([8161, 3, 29, 6]),\n",
       " torch.Size([8161, 3, 29, 6]),\n",
       " torch.Size([38348, 3, 29, 10]),\n",
       " torch.Size([38500, 3, 29, 10]))"
      ]
     },
     "execution_count": 3,
     "metadata": {},
     "output_type": "execute_result"
    }
   ],
   "source": [
    "dataset = torch.load('data/dataset.pt')\n",
    "dataset = dataset.permute(1, 0, 2, 3)\n",
    "\n",
    "norm_dataset = torch.load(\"data/dataset_distlognorm_massnorm.pt\")\n",
    "\n",
    "fake_original = torch.load('data/fake_dataset.pt')\n",
    "\n",
    "fake_data = torch.load(\"models/attempt1/generated_images.pt\")\n",
    "\n",
    "six_branches = torch.load('data/six_branch_norm.pt')\n",
    "six_dataset = six_branches[:, :, :, :6]\n",
    "\n",
    "fake_data.shape, six_dataset.shape, dataset.shape, fake_original.shape"
   ]
  },
  {
   "cell_type": "markdown",
   "id": "029c1c24",
   "metadata": {},
   "source": [
    "# mass - monotonicity\n",
    "- Generated mass should be within the mass range of the original merger trees\n",
    "- Usually, progenitor masses in a branch are expected to increase monotonically as time (number of row) elapses [3], if not, it is expected to preserve its mass.\n",
    "    - the deeper in a branch, the more mass it should be\n",
    "    - a mass branch should increase or stay the same in value the further down in a branch we go\n",
    "- It is worth noting that the behavior of other variables like progenitor type and distance to main branch affects the expected behavior of the mass assembly history structure and patterns"
   ]
  },
  {
   "cell_type": "code",
   "execution_count": 4,
   "id": "5f9eb6c3",
   "metadata": {},
   "outputs": [
    {
     "name": "stdout",
     "output_type": "stream",
     "text": [
      "original dataset with nonzero mass values between 7.64 and 10.98:\n",
      "\"drastic jump\"threshold =  -0.4\n",
      "number of occurences where mass is not preserved = 52068\n",
      "perc of occurences where mass is not preserved = 2.14%\n",
      "\n",
      "\n",
      "log scaled and normalized dataset:\n",
      "\"drastic jump\"threshold =  -0.05\n",
      "number of occurences where mass is not preserved = 28581\n",
      "perc of occurences where mass is not preserved = 1.17%\n",
      "\n",
      "\n"
     ]
    }
   ],
   "source": [
    "original_mass = dataset[:, 1]\n",
    "scaled_mass = norm_dataset[:, 1]\n",
    "\n",
    "def mass_not_preserved(dataset, threshold = -0.05):\n",
    "    branches = dataset.shape[-1]\n",
    "\n",
    "    total_diffs = []\n",
    "\n",
    "    not_preserving_mass = 0\n",
    "    total_progenitors = 0\n",
    "\n",
    "    max_decrease = threshold\n",
    "\n",
    "\n",
    "    for im in dataset:\n",
    "        for i in range(branches - 1):\n",
    "            branch = im[:, i]\n",
    "            nonzero_values = branch[branch.nonzero()].squeeze(-1)\n",
    "            total_progenitors += len(nonzero_values)\n",
    "\n",
    "            if len(nonzero_values) > 1:\n",
    "                diffs = nonzero_values[1:] - nonzero_values[:-1]\n",
    "                not_preserved = diffs[diffs < max_decrease]\n",
    "                not_preserving_mass += len(not_preserved)\n",
    "                total_diffs.append(diffs.flatten().tolist())\n",
    "            \n",
    "    print(\"\\\"drastic jump\\\"threshold = \",max_decrease)\n",
    "    print(f\"number of occurences where mass is not preserved = {not_preserving_mass}\")\n",
    "    print(f\"perc of occurences where mass is not preserved = {(100 * not_preserving_mass / total_progenitors):.2f}%\")\n",
    "    print(\"\\n\")\n",
    "    return total_diffs, total_progenitors\n",
    "\n",
    "print(\"original dataset with nonzero mass values between 7.64 and 10.98:\")\n",
    "original_total_diffs, total_progenitors = mass_not_preserved(original_mass, threshold = -0.4)\n",
    "print(\"log scaled and normalized dataset:\")\n",
    "norm_total_diffs, total_progenitors = mass_not_preserved(scaled_mass, threshold = -0.05)\n",
    "\n",
    "\n"
   ]
  },
  {
   "cell_type": "code",
   "execution_count": 6,
   "id": "3dd8d605",
   "metadata": {},
   "outputs": [
    {
     "name": "stdout",
     "output_type": "stream",
     "text": [
      "\"drastic jump\"threshold =  -1e-05\n",
      "number of occurences where mass is not preserved = 627106\n",
      "perc of occurences where mass is not preserved = 25.74%\n",
      "\n",
      "\n",
      "\"drastic jump\"threshold =  -1e-05\n",
      "number of occurences where mass is not preserved = 627765\n",
      "perc of occurences where mass is not preserved = 25.77%\n",
      "\n",
      "\n"
     ]
    }
   ],
   "source": [
    "norm_total_diffs, total_progenitors = mass_not_preserved(scaled_mass, threshold = -0.00001)\n",
    "original_total_diffs, total_progenitors = mass_not_preserved(original_mass, threshold = -0.00001)"
   ]
  },
  {
   "cell_type": "code",
   "execution_count": 10,
   "id": "2f84b023",
   "metadata": {},
   "outputs": [
    {
     "name": "stdout",
     "output_type": "stream",
     "text": [
      "normalized:\n"
     ]
    },
    {
     "data": {
      "image/png": "[encoded data removed]",
      "text/plain": [
       "<Figure size 640x480 with 1 Axes>"
      ]
     },
     "metadata": {},
     "output_type": "display_data"
    },
    {
     "data": {
      "image/png": "[encoded data removed]",
      "text/plain": [
       "<Figure size 640x480 with 1 Axes>"
      ]
     },
     "metadata": {},
     "output_type": "display_data"
    },
    {
     "name": "stdout",
     "output_type": "stream",
     "text": [
      "Number of values below threshold: 0.19\n",
      "\n",
      "original:\n"
     ]
    },
    {
     "data": {
      "image/png": "[encoded data removed]",
      "text/plain": [
       "<Figure size 640x480 with 1 Axes>"
      ]
     },
     "metadata": {},
     "output_type": "display_data"
    },
    {
     "name": "stdout",
     "output_type": "stream",
     "text": [
      "Number of values below threshold: 0.28\n"
     ]
    }
   ],
   "source": [
    "print(\"normalized:\")\n",
    "totals = [item for sublist in norm_total_diffs for item in sublist]\n",
    "plt.hist(totals, bins = 100)\n",
    "plt.show()\n",
    "negative_data = [value for value in totals if value < 0]\n",
    "plt.hist(negative_data, bins = 100)\n",
    "plt.show()\n",
    "threshold = -0.1\n",
    "# Count the number of values below the threshold\n",
    "count_below_threshold = sum(1 for value in negative_data if value < threshold)\n",
    "print(\"Number of values below threshold:\", round(100 * count_below_threshold / total_progenitors, 2))\n",
    "\n",
    "print(\"\\noriginal:\")\n",
    "totals = [item for sublist in original_total_diffs for item in sublist]\n",
    "negative_data = [value for value in totals if value < 0]\n",
    "plt.hist(negative_data, bins = 100)\n",
    "plt.show()\n",
    "threshold = -1\n",
    "# Count the number of values below the threshold\n",
    "count_below_threshold = sum(1 for value in negative_data if value < threshold)\n",
    "print(\"Number of values below threshold:\", round(100 * count_below_threshold / total_progenitors, 2))"
   ]
  },
  {
   "cell_type": "markdown",
   "id": "cb77c4a7",
   "metadata": {},
   "source": [
    "### with a hard threshold for \"drastic jump\", there is no good answer of what a drastic jump is. as seen, the decrease in mass has an exponential shape in both datasets. and for the normalized dataset which ranges form 0 - 1, a decrease of 0.1 happens in 20% of all mass steps, which is a lot given that the mass can increase as well\n",
    "\n",
    "### maybe one option is to look at a \"drastic jump\" as a percentage decrease"
   ]
  },
  {
   "cell_type": "code",
   "execution_count": 11,
   "id": "dfdcbe14",
   "metadata": {},
   "outputs": [
    {
     "name": "stdout",
     "output_type": "stream",
     "text": [
      "monotonicity threshold = -0.05% change\n",
      "number of occurences where mass is not preserved = 41765\n",
      "perc of occurences where mass is not preserved = 1.71%\n",
      "\n",
      "\n"
     ]
    },
    {
     "data": {
      "image/png": "[encoded data removed]",
      "text/plain": [
       "<Figure size 640x480 with 1 Axes>"
      ]
     },
     "metadata": {},
     "output_type": "display_data"
    },
    {
     "name": "stdout",
     "output_type": "stream",
     "text": [
      "min jump =  tensor(-0.2242)\n",
      "max jump =  tensor(0.2861)\n",
      "average jump =  tensor(0.0029)\n",
      "percentage of mass jumps with a decrease in mass:\n",
      "monotonicity threshold = -1e-06% change\n",
      "number of occurences where mass is not preserved = 627774\n",
      "perc of occurences where mass is not preserved = 25.77%\n",
      "\n",
      "\n",
      "percentage of mass jumps with a decrease in mass greater than 1%:\n",
      "monotonicity threshold = -0.01% change\n",
      "number of occurences where mass is not preserved = 270962\n",
      "perc of occurences where mass is not preserved = 11.12%\n",
      "\n",
      "\n",
      "percentage of mass jumps with a decrease in mass greater than 5%:\n",
      "monotonicity threshold = -0.05% change\n",
      "number of occurences where mass is not preserved = 41765\n",
      "perc of occurences where mass is not preserved = 1.71%\n",
      "\n",
      "\n",
      "percentage of mass jumps with a decrease in mass greater than 10%:\n",
      "monotonicity threshold = -0.1% change\n",
      "number of occurences where mass is not preserved = 7701\n",
      "perc of occurences where mass is not preserved = 0.32%\n",
      "\n",
      "\n"
     ]
    }
   ],
   "source": [
    "original_mass = dataset[:, 1]\n",
    "scaled_mass = norm_dataset[:, 1]\n",
    "\n",
    "def mass_not_preserved_percentage_decrease(dataset, threshold = -0.05):\n",
    "    branches = dataset.shape[-1]\n",
    "\n",
    "    total_diffs = []\n",
    "\n",
    "    not_preserving_mass = 0\n",
    "    total_progenitors = 0\n",
    "\n",
    "    max_decrease = threshold\n",
    "\n",
    "\n",
    "    for im in dataset:\n",
    "        for i in range(branches - 1):\n",
    "            branch = im[:, i]\n",
    "            nonzero_values = branch[branch.nonzero()].squeeze(-1)\n",
    "            total_progenitors += len(nonzero_values)\n",
    "\n",
    "            if len(nonzero_values) > 1:\n",
    "                diffs = nonzero_values[1:] - nonzero_values[:-1]\n",
    "                percentage_diffs = diffs / nonzero_values[:-1]\n",
    "                not_preserved = percentage_diffs[percentage_diffs < max_decrease]\n",
    "                not_preserving_mass += len(not_preserved)\n",
    "                total_diffs.append(percentage_diffs.flatten().tolist())\n",
    "                \n",
    "    print(f\"monotonicity threshold = {max_decrease}% change\")\n",
    "    print(f\"number of occurences where mass is not preserved = {not_preserving_mass}\")\n",
    "    print(f\"perc of occurences where mass is not preserved = {(100 * not_preserving_mass / total_progenitors):.2f}%\")\n",
    "    print(\"\\n\")\n",
    "    return total_diffs\n",
    "\n",
    "jumps = mass_not_preserved_percentage_decrease(scaled_mass)\n",
    "\n",
    "jumps = [item for sublist in jumps for item in sublist]   \n",
    "j = torch.tensor(jumps)\n",
    "plt.hist(j.numpy(), bins = 100)\n",
    "plt.show()\n",
    "print(\"min jump = \", j.min())\n",
    "print(\"max jump = \", j.max())\n",
    "print(\"average jump = \", j.mean())\n",
    "\n",
    "print(\"percentage of mass jumps with a decrease in mass:\")\n",
    "original_total_diffs = mass_not_preserved_percentage_decrease(scaled_mass, threshold = -0.000001)\n",
    "print(\"percentage of mass jumps with a decrease in mass greater than 1%:\")\n",
    "original_total_diffs = mass_not_preserved_percentage_decrease(scaled_mass, threshold = -0.01)\n",
    "\n",
    "print(\"percentage of mass jumps with a decrease in mass greater than 5%:\")\n",
    "original_total_diffs = mass_not_preserved_percentage_decrease(scaled_mass, threshold = -0.05)\n",
    "\n",
    "print(\"percentage of mass jumps with a decrease in mass greater than 10%:\")\n",
    "original_total_diffs = mass_not_preserved_percentage_decrease(scaled_mass, threshold = -0.1)"
   ]
  },
  {
   "cell_type": "markdown",
   "id": "e8a54d48",
   "metadata": {},
   "source": [
    "### this is a better way to measure monotonicity in the mass variable. However, 1/4 mass jumps are decreasing in the original training data. 11.12% of the mass jumps decrease with more than 1%, 1.71% decrease with more than 5% and 0.32% of mass jumps decrease with more than 10%. This indicates that monotonicity in the mass variable is not intact in the traning data, therefore it is unfair to put the criterion on the generated data. \n",
    "\n",
    "### when that is said, it is still a good measure to make sure the generated data somewhat preserve monotonicity"
   ]
  },
  {
   "cell_type": "markdown",
   "id": "595a6f41",
   "metadata": {},
   "source": [
    "# Distance\n",
    "- (1) no set range of distance\n",
    "- (2) The distance variable should decrease the closer the branch gets to a merge in time. However, there are no set rule for the exact time of occurrence.\n",
    "- (3) no dramatic jumps - what is a dramastic jump?"
   ]
  },
  {
   "cell_type": "code",
   "execution_count": 10,
   "id": "4d39dc82",
   "metadata": {},
   "outputs": [
    {
     "data": {
      "text/plain": [
       "tensor([[0.0000, 0.0000, 0.0000, 0.0000, 0.0000, 0.0000],\n",
       "        [0.0000, 0.0000, 0.0000, 0.0000, 0.0000, 0.0000],\n",
       "        [0.0000, 0.0000, 0.0000, 0.0000, 0.0000, 0.0000],\n",
       "        [0.0000, 0.0000, 0.0000, 0.0000, 0.0000, 0.0000],\n",
       "        [0.0000, 0.0000, 0.0000, 0.0000, 0.0000, 0.0000],\n",
       "        [0.0000, 0.0000, 0.0313, 0.0000, 0.0000, 0.0000],\n",
       "        [0.0000, 0.0178, 0.0358, 0.0000, 0.0000, 0.0000],\n",
       "        [0.0000, 0.0185, 0.0369, 0.0000, 0.0000, 0.0000],\n",
       "        [0.0000, 0.0167, 0.0376, 0.0000, 0.0550, 0.0000],\n",
       "        [0.0000, 0.0102, 0.0417, 0.0000, 0.0497, 0.0000],\n",
       "        [0.0000, 0.0000, 0.0463, 0.0000, 0.0538, 0.0000],\n",
       "        [0.0000, 0.0000, 0.0449, 0.0000, 0.0579, 0.0532],\n",
       "        [0.0000, 0.0000, 0.0395, 0.0000, 0.0662, 0.0000],\n",
       "        [0.0000, 0.0000, 0.0193, 0.0991, 0.0789, 0.0000],\n",
       "        [0.0000, 0.0000, 0.0113, 0.0991, 0.0907, 0.0000],\n",
       "        [0.0000, 0.0000, 0.0107, 0.0853, 0.0919, 0.0000],\n",
       "        [0.0000, 0.0000, 0.0000, 0.0853, 0.0944, 0.0000],\n",
       "        [0.0000, 0.0000, 0.0000, 0.0480, 0.0964, 0.0000],\n",
       "        [0.0000, 0.0000, 0.0000, 0.0000, 0.0903, 0.0000],\n",
       "        [0.0000, 0.0000, 0.0000, 0.0000, 0.0616, 0.0000],\n",
       "        [0.0000, 0.0000, 0.0000, 0.0000, 0.0616, 0.0000],\n",
       "        [0.0000, 0.0000, 0.0000, 0.0000, 0.0475, 0.0000],\n",
       "        [0.0000, 0.0000, 0.0000, 0.0000, 0.0000, 0.0000],\n",
       "        [0.0000, 0.0000, 0.0000, 0.0000, 0.0000, 0.0000],\n",
       "        [0.0000, 0.0000, 0.0000, 0.0000, 0.0000, 0.0000],\n",
       "        [0.0000, 0.0000, 0.0000, 0.0000, 0.0000, 0.0000],\n",
       "        [0.0000, 0.0000, 0.0000, 0.0000, 0.0000, 0.0000],\n",
       "        [0.0000, 0.0000, 0.0000, 0.0000, 0.0000, 0.0000],\n",
       "        [0.0000, 0.0000, 0.0000, 0.0000, 0.0000, 0.0000]], dtype=torch.float64)"
      ]
     },
     "execution_count": 10,
     "metadata": {},
     "output_type": "execute_result"
    }
   ],
   "source": [
    "# decrease as the snapshot increase, further down the branch\n",
    "i = random.randint(0, len(dataset))\n",
    "i = 10000\n",
    "dataset[i, 0, :, :6]"
   ]
  },
  {
   "cell_type": "markdown",
   "id": "bbc12aba",
   "metadata": {},
   "source": [
    "#### inspecting distance, we see that the distance to the main branch decrease the closer the branch gets to the merge in time (last nonzero element in a branch), however, this is not consistent. In many branches, the distance increase first, then decrease. In branch 5, the distance start at 0.0550, decresae to 0.497, then increase up to 0.964, then decrease all the way back to 0.475. There is no clear linear or continuous decreasing in distance to the mian branch.\n",
    "\n",
    "#### one feature worth noting is that the last nonzero value (merging event) is the lowest distance to the main branch in each branch. so that is something worth checking."
   ]
  },
  {
   "cell_type": "code",
   "execution_count": 9,
   "id": "868aa214",
   "metadata": {},
   "outputs": [
    {
     "name": "stdout",
     "output_type": "stream",
     "text": [
      "total branches where the last halo distance to main branche is not the lowest in the branch is =  61705\n",
      "percentage of all branches where the last halo distance to main branche is not the lowest in the branch is =  17.88\n"
     ]
    }
   ],
   "source": [
    "# last distance to main branch before a merging event is the smallest\n",
    "distance = dataset[:, 0, :, 1:]\n",
    "branches = distance.shape[-1]\n",
    "\n",
    "total_merger_distance_fail = 0\n",
    "\n",
    "for im in distance:\n",
    "    \n",
    "    for i in range(branches):\n",
    "        \n",
    "        branch = im[:, i]\n",
    "        nonzero_values = branch[branch.nonzero()].squeeze(-1)\n",
    "        if len(nonzero_values) > 0:\n",
    "            minimum_branch = nonzero_values.min()\n",
    "        \n",
    "            last = nonzero_values[-1]\n",
    "        else:\n",
    "            continue\n",
    "        \n",
    "        if last != minimum_branch:\n",
    "            total_merger_distance_fail += 1\n",
    "        \n",
    "print(\"total branches where the last halo distance to main branche is not the lowest in the branch is = \", total_merger_distance_fail)\n",
    "perc = round(100 * total_merger_distance_fail / (branches * len(distance)), 2)\n",
    "print(\"percentage of all branches where the last halo distance to main branche is not the lowest in the branch is = \", perc)"
   ]
  },
  {
   "cell_type": "code",
   "execution_count": 16,
   "id": "489d2af0",
   "metadata": {},
   "outputs": [
    {
     "name": "stdout",
     "output_type": "stream",
     "text": [
      "total distance progentors = 1479606 \n",
      "number of occurences where distance increase (not preserved) = 736753\n",
      "perc of occurences where mass increase (not preserved) = 49.79%\n",
      "\n",
      "\n",
      "total branches where the last halo distance to main branche is not the lowest in the branch is =  59650\n",
      "percentage of all branches where the last halo distance to main branche is not the lowest in the branch is =  17.28\n",
      "\n",
      "\n"
     ]
    },
    {
     "data": {
      "image/png": "[encoded data removed]",
      "text/plain": [
       "<Figure size 640x480 with 1 Axes>"
      ]
     },
     "metadata": {},
     "output_type": "display_data"
    },
    {
     "name": "stdout",
     "output_type": "stream",
     "text": [
      "min jump =  tensor(-0.9657)\n",
      "max jump =  tensor(17.2160)\n",
      "average jump =  tensor(-0.0593)\n",
      "Values above the 1: 0.88889%\n",
      "Values above the 0.5: 6.585%\n",
      "Values above the 0.4: 10.16%\n",
      "Values above the 0.3: 15.43%\n",
      "Values above the 0.2: 23.55%\n",
      "Values above the 0.15: 29.69%\n",
      "Values above the 0.1: 39.00%\n"
     ]
    }
   ],
   "source": [
    "# dramastic jump\n",
    "distance = dataset[:, 0, :, 1:]\n",
    "branches = distance.shape[-1]\n",
    "\n",
    "def distance_drastic_jumps(dataset):\n",
    "    branches = dataset.shape[-1]\n",
    "\n",
    "    total_diffs = []\n",
    "    \n",
    "    not_preserved_dist = 0\n",
    "    total_progenitors = 0\n",
    "\n",
    "    #max_decrease = threshold\n",
    "    \n",
    "    total_merger_distance_fail = 0\n",
    "\n",
    "\n",
    "    for im in dataset:\n",
    "        for i in range(branches - 1):\n",
    "            branch = im[:, i]\n",
    "            nonzero_values = branch[branch.nonzero()].squeeze(-1)\n",
    "            total_progenitors += len(nonzero_values)\n",
    "\n",
    "            if len(nonzero_values) > 1:\n",
    "                diffs = nonzero_values[1:] - nonzero_values[:-1]\n",
    "                percentage_diffs = diffs / nonzero_values[:-1]\n",
    "                not_preserved = percentage_diffs[percentage_diffs < 0.0]\n",
    "                not_preserved_dist += len(not_preserved)\n",
    "                total_diffs.append(percentage_diffs.flatten().tolist())\n",
    "                \n",
    "                minimum_branch = nonzero_values.min()\n",
    "                last = nonzero_values[-1]\n",
    "                if last != minimum_branch:\n",
    "                    total_merger_distance_fail += 1\n",
    "                \n",
    "    print(f\"total distance progentors = {total_progenitors} \")\n",
    "    print(f\"number of occurences where distance increase (not preserved) = {not_preserved_dist}\")\n",
    "    print(f\"perc of occurences where mass increase (not preserved) = {(100 * not_preserved_dist / total_progenitors):.2f}%\")\n",
    "    print(\"\\n\")\n",
    "    print(\"total branches where the last halo distance to main branche is not the lowest in the branch is = \", total_merger_distance_fail)\n",
    "    perc = round(100 * total_merger_distance_fail / (branches * len(distance)), 2)\n",
    "    print(\"percentage of all branches where the last halo distance to main branche is not the lowest in the branch is = \", perc)\n",
    "    print(\"\\n\")\n",
    "    return total_diffs, total_progenitors\n",
    "\n",
    "jumps, total_progenitors = distance_drastic_jumps(distance)\n",
    "\n",
    "jumps = [item for sublist in jumps for item in sublist]   \n",
    "j = torch.tensor(jumps)\n",
    "plt.hist(j.numpy(), bins = 100)\n",
    "plt.show()\n",
    "print(\"min jump = \", j.min())\n",
    "print(\"max jump = \", j.max())\n",
    "print(\"average jump = \", j.mean())\n",
    "\n",
    "\n",
    "\n",
    "abs_j = torch.abs(j)\n",
    "\n",
    "threshold = 1\n",
    "# Boolean indexing to get values above the threshold\n",
    "values_above_threshold = abs_j[abs_j > threshold]\n",
    "print(f\"Values above the {threshold}: {100 * (len(values_above_threshold) / (total_progenitors)):.5f}%\")\n",
    "\n",
    "\n",
    "threshold = 0.5\n",
    "# Boolean indexing to get values above the threshold\n",
    "values_above_threshold = abs_j[abs_j > threshold]\n",
    "print(f\"Values above the {threshold}: {100 * (len(values_above_threshold) / (total_progenitors)):.3f}%\")\n",
    "\n",
    "\n",
    "threshold = 0.4\n",
    "# Boolean indexing to get values above the threshold\n",
    "values_above_threshold = abs_j[abs_j > threshold]\n",
    "print(f\"Values above the {threshold}: {100 * (len(values_above_threshold) / (total_progenitors)):.2f}%\")\n",
    "\n",
    "\n",
    "threshold = 0.3\n",
    "# Boolean indexing to get values above the threshold\n",
    "values_above_threshold = abs_j[abs_j > threshold]\n",
    "print(f\"Values above the {threshold}: {100 * (len(values_above_threshold) / (total_progenitors)):.2f}%\")\n",
    "\n",
    "threshold = 0.2\n",
    "# Boolean indexing to get values above the threshold\n",
    "values_above_threshold = abs_j[abs_j > threshold]\n",
    "print(f\"Values above the {threshold}: {100 * (len(values_above_threshold) / (total_progenitors)):.2f}%\")\n",
    "\n",
    "threshold = 0.15\n",
    "# Boolean indexing to get values above the threshold\n",
    "values_above_threshold = abs_j[abs_j > threshold]\n",
    "print(f\"Values above the {threshold}: {100 * (len(values_above_threshold) / (total_progenitors)):.2f}%\")\n",
    "\n",
    "\n",
    "threshold = 0.1\n",
    "# Boolean indexing to get values above the threshold\n",
    "values_above_threshold = abs_j[abs_j > threshold]\n",
    "print(f\"Values above the {threshold}: {100 * (len(values_above_threshold) / (total_progenitors)):.2f}%\")"
   ]
  },
  {
   "cell_type": "code",
   "execution_count": 15,
   "id": "9746cf57",
   "metadata": {},
   "outputs": [
    {
     "name": "stdout",
     "output_type": "stream",
     "text": [
      "total distance progentors = 1479606 \n",
      "number of occurences where distance increase (not preserved) = 736753\n",
      "perc of occurences where mass increase (not preserved) = 49.79%\n",
      "\n",
      "\n",
      "total branches where the last halo distance to main branche is not the lowest in the branch is =  59650\n",
      "percentage of all branches where the last halo distance to main branche is not the lowest in the branch is =  17.28\n",
      "\n",
      "\n"
     ]
    },
    {
     "data": {
      "image/png": "[encoded data removed]",
      "text/plain": [
       "<Figure size 640x480 with 1 Axes>"
      ]
     },
     "metadata": {},
     "output_type": "display_data"
    },
    {
     "name": "stdout",
     "output_type": "stream",
     "text": [
      "min jump =  tensor(-0.8070)\n",
      "max jump =  tensor(5.0933)\n",
      "average jump =  tensor(-0.0260)\n",
      "Values above the 1: 0.00237%\n",
      "Values above the 0.5: 0.155%\n",
      "Values above the 0.4: 0.52%\n",
      "Values above the 0.3: 1.65%\n",
      "Values above the 0.2: 4.76%\n",
      "Values above the 0.15: 7.91%\n",
      "Values above the 0.1: 13.42%\n"
     ]
    }
   ],
   "source": [
    "# dramastic jump\n",
    "distance = norm_dataset[:, 0, :, 1:]\n",
    "branches = distance.shape[-1]\n",
    "\n",
    "jumps, total_progenitors = distance_drastic_jumps(distance)\n",
    "\n",
    "jumps = [item for sublist in jumps for item in sublist]             \n",
    "\n",
    "j = torch.tensor(jumps)\n",
    "plt.hist(j.numpy(), bins = 100)\n",
    "plt.show()\n",
    "print(\"min jump = \", j.min())\n",
    "print(\"max jump = \", j.max())\n",
    "print(\"average jump = \", j.mean())\n",
    "\n",
    "abs_j = torch.abs(j)\n",
    "\n",
    "threshold = 1\n",
    "# Boolean indexing to get values above the threshold\n",
    "values_above_threshold = abs_j[abs_j > threshold]\n",
    "print(f\"Values above the {threshold}: {100 * (len(values_above_threshold) / (total_progenitors)):.5f}%\")\n",
    "\n",
    "\n",
    "threshold = 0.5\n",
    "# Boolean indexing to get values above the threshold\n",
    "values_above_threshold = abs_j[abs_j > threshold]\n",
    "print(f\"Values above the {threshold}: {100 * (len(values_above_threshold) / (total_progenitors)):.3f}%\")\n",
    "\n",
    "\n",
    "threshold = 0.4\n",
    "# Boolean indexing to get values above the threshold\n",
    "values_above_threshold = abs_j[abs_j > threshold]\n",
    "print(f\"Values above the {threshold}: {100 * (len(values_above_threshold) / (total_progenitors)):.2f}%\")\n",
    "\n",
    "\n",
    "threshold = 0.3\n",
    "# Boolean indexing to get values above the threshold\n",
    "values_above_threshold = abs_j[abs_j > threshold]\n",
    "print(f\"Values above the {threshold}: {100 * (len(values_above_threshold) / (total_progenitors)):.2f}%\")\n",
    "\n",
    "threshold = 0.2\n",
    "# Boolean indexing to get values above the threshold\n",
    "values_above_threshold = abs_j[abs_j > threshold]\n",
    "print(f\"Values above the {threshold}: {100 * (len(values_above_threshold) / (total_progenitors)):.2f}%\")\n",
    "\n",
    "threshold = 0.15\n",
    "# Boolean indexing to get values above the threshold\n",
    "values_above_threshold = abs_j[abs_j > threshold]\n",
    "print(f\"Values above the {threshold}: {100 * (len(values_above_threshold) / (total_progenitors)):.2f}%\")\n",
    "\n",
    "\n",
    "threshold = 0.1\n",
    "# Boolean indexing to get values above the threshold\n",
    "values_above_threshold = abs_j[abs_j > threshold]\n",
    "print(f\"Values above the {threshold}: {100 * (len(values_above_threshold) / (total_progenitors)):.2f}%\")"
   ]
  },
  {
   "cell_type": "markdown",
   "id": "78492f31",
   "metadata": {},
   "source": [
    "### (1) no need to include in evaluation\n",
    "\n",
    "### (2) hard to use in an evaluation since the percentage of branches where the last halo is not the lowest distance to the main branch is 17.88% in the training data. This is not really a way to check for consistency where almost 1 in every 5 branch fails this criteria. However, it is possible to keep in mind and make sure the percentage in the generated trees are not significantly higher\n",
    "\n",
    "### additionally, 50% of the distance jumps are increasing, which is contradictory to \"The distance variable should decrease the closer the branch gets to a merge in time\"\n",
    "\n",
    "### (3) what is a drastic jump? using the original dataset, the lowest decresaing jump is og 96.57% decrease, while the biggest increase jump is 1700.2% increase in distance. 0.88% of distance jumps have a change (positive or negative) with more than 100% and 39% of the jumps has a change of more than 10%. these big numbers are most likely due to the low distance variables in the original dataset. small numerical changes will lead to big percentage changes\n",
    "\n",
    "### using the normalized data the lowest decresaing jump is og 80.07% decrease, while the biggest increase jump is 500.1% increase in distance. 0.00237% of distance jumps have a change (positive or negative) with more than 100% and 13.42% of the jumps has a change of more than 10%.\n",
    "\n",
    "### using this results, a \"drastic jump\" can be qualified as a 20% or more change in the distance value (negative or positive change). This corresponds to less than 5% of the distance jumps in the normalized dataset.\n",
    "\n",
    "### since these \"drastic jump\" rate is fairly high, the drastic distance jump should not be used as a strict metric, but as a guidline."
   ]
  },
  {
   "cell_type": "markdown",
   "id": "7c9c4ef9",
   "metadata": {},
   "source": [
    "# Subhalo\n",
    "- (1) In the main branch, progenitor types are expected to be main haloes. There are a few exceptions early in time\n",
    "- (2) In other branches, the progenitor types can be both main halo or satellite/subhalo. Usually, progenitors become satellites as they approach the other merging halo, as a result of gravitational infall"
   ]
  },
  {
   "cell_type": "code",
   "execution_count": 14,
   "id": "35eb2bd6",
   "metadata": {},
   "outputs": [
    {
     "name": "stdout",
     "output_type": "stream",
     "text": [
      "tensor([0.0000, 0.0000, 1.0000, 1.0000, 1.0000, 1.0000, 1.0000, 1.0000, 1.0000,\n",
      "        1.0000, 1.0000, 1.0000, 1.0000, 1.0000, 0.5000, 0.5000, 1.0000, 1.0000,\n",
      "        1.0000, 1.0000, 1.0000, 1.0000, 1.0000, 1.0000, 1.0000, 1.0000, 1.0000,\n",
      "        1.0000, 1.0000], dtype=torch.float64)\n",
      "(tensor([14, 15]),)\n",
      "number of trees with subhalo in main branch later than 25 = 1824\n",
      "Percentage of trees with subhalo in main branch later than 25 : 4.76\n"
     ]
    },
    {
     "data": {
      "image/png": "[encoded data removed]",
      "text/plain": [
       "<Figure size 640x480 with 1 Axes>"
      ]
     },
     "metadata": {},
     "output_type": "display_data"
    },
    {
     "data": {
      "image/png": "[encoded data removed]",
      "text/plain": [
       "<Figure size 640x480 with 1 Axes>"
      ]
     },
     "metadata": {},
     "output_type": "display_data"
    }
   ],
   "source": [
    "subhalo = norm_dataset[:, 2]\n",
    "main_branch = subhalo[:, :, 0]\n",
    "\n",
    "value = 0.5\n",
    "earliest = []\n",
    "latest = []\n",
    "late05 = 0\n",
    "\n",
    "for i, tensor in enumerate(main_branch):\n",
    "    # Find indices where the value occurs\n",
    "    indices = torch.where(tensor == value)\n",
    "    if i == 4:\n",
    "        print(tensor)\n",
    "        print(indices)\n",
    "    \n",
    "\n",
    "    # If the value exists in the tensor\n",
    "    if len(indices[0]) > 0:\n",
    "        # Find the minimum index (earliest appearance)\n",
    "        earliest_appearance_index = indices[0].min()\n",
    "        latest_appearance_index = indices[0].max()\n",
    "        earliest.append(earliest_appearance_index)\n",
    "        latest.append(latest_appearance_index)\n",
    "        if latest_appearance_index > 25:\n",
    "            late05 += 1\n",
    "            \n",
    "print(\"number of trees with subhalo in main branch later than 25 =\",late05)\n",
    "print(\"Percentage of trees with subhalo in main branch later than 25 :\", round(late05 * 100 / len(main_branch), 2))\n",
    "        \n",
    "unique_values_early, counts_early = np.unique(earliest, return_counts=True)\n",
    "unique_values_late, counts_late = np.unique(latest, return_counts=True)\n",
    "plt.bar(unique_values_early, counts_early)\n",
    "plt.show()\n",
    "plt.bar(unique_values_late, counts_late)\n",
    "plt.title(\"latest appearance of a progenitor of type subhalo in main branch\")\n",
    "plt.show()\n",
    "            \n",
    "#print(earliest, i)"
   ]
  },
  {
   "cell_type": "code",
   "execution_count": 53,
   "id": "f55f4ea2",
   "metadata": {},
   "outputs": [],
   "source": [
    "def subhalo_last_type_is_sattelite(dataset):\n",
    "    branches = dataset.shape[-1]\n",
    "\n",
    "    not_preserving_subhalo = 0\n",
    "    total_branches = 0\n",
    "    for im in dataset:\n",
    "        for i in range(branches - 1):\n",
    "            branch = im[:, i + 1]\n",
    "            nonzero_values = branch[branch.nonzero()].squeeze(-1)\n",
    "            total_branches += 1\n",
    "\n",
    "            if len(nonzero_values):\n",
    "                if nonzero_values[-1] != 0.5:\n",
    "                    not_preserving_subhalo += 1\n",
    "                \n",
    "    print(f\"perc of branches where last progenitor type is not subhalo = {(100 * not_preserving_subhalo / total_branches):.2f}%\")\n",
    "    print(\"\\n\")\n",
    "    return"
   ]
  },
  {
   "cell_type": "code",
   "execution_count": 54,
   "id": "8eec664c",
   "metadata": {},
   "outputs": [
    {
     "name": "stdout",
     "output_type": "stream",
     "text": [
      "perc of branches where last progenitor type is not subhalo = 14.52%\n",
      "\n",
      "\n"
     ]
    }
   ],
   "source": [
    "subhalo = norm_dataset[:, 2]\n",
    "subhalo_last_type_is_sattelite(subhalo)"
   ]
  },
  {
   "cell_type": "markdown",
   "id": "06d5a203",
   "metadata": {},
   "source": [
    "### (1) - no need to deal with in evaluation: No need to check further on subhalo in main branch, since yes most of the subhaloes in the main branch is main haloes, and some are subhaloes. However, the subhaloes does not just appear in early snapshots as stated in the paper. In fact the most freqent last subhalo in the main branch is at snapshot 27. 5% of merger trees has subhalo in main branch later than snapshot 25\n",
    "\n",
    "### (2) - since the progenitor type can be both main/sattelite, there is no need to check this. \"usually\" doesnt mean that any earlier subhaloes, however, it is worth keeping in mind that the lower haloes in a branch can be subhaloes. This means a more green-ish color (green is subhalo, blue is main halo)"
   ]
  },
  {
   "cell_type": "markdown",
   "id": "8d5c0520",
   "metadata": {},
   "source": [
    "# conclusion:\n",
    "## - subhalo: no need to evaluate or deal with\n",
    "## - distance: \n",
    "    - possible to check that the last progenitor is the closest to the main branch (but not a huge requirement or strict rule), 17.88% of the training data is inconsistent in terms of this. \n",
    "    - additionally, 50% of the distance jumps increase, which is contradictory to \"The distance variable should decrease the closer the branch gets to a merge in time\"\n",
    "    - \"drastic jumps\" are qualified as a 20% or higher change (negative or positive) in a distance jump on the normalized distance variable. Not a strict requirement for evaluation since 5% of the normalized distance value have jumps higher than this ranging up to a 500% change.\n",
    "## - mass:\n",
    "    - mass not preserved = decrease by more than 1% in a mass jump. However, this mass monotonicity is not preserved in the original data, so it is not a strict requirement. however, worth checking.\n",
    "    "
   ]
  },
  {
   "cell_type": "code",
   "execution_count": 4,
   "id": "4bb51e41",
   "metadata": {},
   "outputs": [
    {
     "name": "stdout",
     "output_type": "stream",
     "text": [
      "==================================================================================================================================\n",
      "MASS:\n",
      "==================================================================================================================================\n",
      "monotonicity threshold = -1e-06% change\n",
      "number of occurences where mass is not preserved = 627774\n",
      "perc of occurences where mass is not preserved = 25.77% vs. 25.77% in training data\n",
      "\n",
      "\n",
      "\n",
      "\n",
      "monotonicity threshold = -0.01% change\n",
      "number of occurences where mass is not preserved = 270962\n",
      "perc of occurences where mass is not preserved = 11.12% vs. 11.12% in training data\n",
      "\n",
      "\n",
      "\n",
      "\n",
      "monotonicity threshold = -0.05% change\n",
      "number of occurences where mass is not preserved = 41765\n",
      "perc of occurences where mass is not preserved = 1.71% vs. 1.71% in training data\n",
      "\n",
      "\n",
      "\n",
      "\n",
      "monotonicity threshold = -0.1% change\n",
      "number of occurences where mass is not preserved = 7701\n",
      "perc of occurences where mass is not preserved = 0.32% vs. 0.32% in training data\n",
      "\n",
      "\n",
      "\n",
      "\n",
      "==================================================================================================================================\n",
      "==================================================================================================================================\n",
      "\n",
      "\n",
      "\n",
      "==================================================================================================================================\n",
      "DISTANCE:\n",
      "==================================================================================================================================\n",
      "total distance progentors = 1518348 \n",
      "number of occurences where distance increase (not preserved) = 754149\n",
      "perc of occurences where mass increase (not preserved) = 49.67% vs. 49.67% in training data\n",
      "\n",
      "\n",
      "total branches where the last halo distance to main branche is not the lowest in the branch is =  61705\n",
      "percentage of all branches where the last halo distance to main branch is not the lowest in the branch is = 17.88% vs. 17.88% in training data\n",
      "\n",
      "\n",
      "jumps greater than 20.0% (negative or positive) = 4.74% of all jumps vs. 4.76% in training data\n",
      "==================================================================================================================================\n",
      "==================================================================================================================================\n",
      "\n",
      "\n",
      "\n",
      "==================================================================================================================================\n",
      "SUBHALO:\n",
      "==================================================================================================================================\n",
      "perc of branches where last progenitor type is not subhalo = 14.52% vs 14.52% in training data\n",
      "\n",
      "\n",
      "==================================================================================================================================\n",
      "==================================================================================================================================\n"
     ]
    }
   ],
   "source": [
    "\n",
    "variable_consistancy_check(norm_dataset, False)\n"
   ]
  },
  {
   "cell_type": "code",
   "execution_count": 5,
   "id": "57886348",
   "metadata": {
    "scrolled": false
   },
   "outputs": [
    {
     "name": "stdout",
     "output_type": "stream",
     "text": [
      "==================================================================================================================================\n",
      "MASS:\n",
      "==================================================================================================================================\n",
      "monotonicity threshold = -1e-06% change\n",
      "number of occurences where mass is not preserved = 89776\n",
      "perc of occurences where mass is not preserved = 22.67% vs. 25.77% in training data\n",
      "\n",
      "\n",
      "\n",
      "\n",
      "monotonicity threshold = -0.01% change\n",
      "number of occurences where mass is not preserved = 36826\n",
      "perc of occurences where mass is not preserved = 9.30% vs. 11.12% in training data\n",
      "\n",
      "\n",
      "\n",
      "\n",
      "monotonicity threshold = -0.05% change\n",
      "number of occurences where mass is not preserved = 6336\n",
      "perc of occurences where mass is not preserved = 1.60% vs. 1.71% in training data\n",
      "\n",
      "\n",
      "\n",
      "\n",
      "monotonicity threshold = -0.1% change\n",
      "number of occurences where mass is not preserved = 1180\n",
      "perc of occurences where mass is not preserved = 0.30% vs. 0.32% in training data\n",
      "\n",
      "\n",
      "\n",
      "\n",
      "==================================================================================================================================\n",
      "==================================================================================================================================\n",
      "\n",
      "\n",
      "\n",
      "==================================================================================================================================\n",
      "DISTANCE:\n",
      "==================================================================================================================================\n",
      "total distance progentors = 266699 \n",
      "number of occurences where distance increase (not preserved) = 133606\n",
      "perc of occurences where mass increase (not preserved) = 50.10% vs. 49.67% in training data\n",
      "\n",
      "\n",
      "total branches where the last halo distance to main branche is not the lowest in the branch is =  10151\n",
      "percentage of all branches where the last halo distance to main branch is not the lowest in the branch is = 24.88% vs. 17.88% in training data\n",
      "\n",
      "\n",
      "jumps greater than 20.0% (negative or positive) = 4.62% of all jumps vs. 4.76% in training data\n",
      "==================================================================================================================================\n",
      "==================================================================================================================================\n",
      "\n",
      "\n",
      "\n",
      "==================================================================================================================================\n",
      "SUBHALO:\n",
      "==================================================================================================================================\n",
      "perc of branches where last progenitor type is not subhalo = 21.27% vs 14.52% in training data\n",
      "\n",
      "\n",
      "==================================================================================================================================\n",
      "==================================================================================================================================\n"
     ]
    }
   ],
   "source": [
    "variable_consistancy_check(six_dataset, False)"
   ]
  },
  {
   "cell_type": "code",
   "execution_count": 6,
   "id": "6a9699a2",
   "metadata": {},
   "outputs": [
    {
     "name": "stdout",
     "output_type": "stream",
     "text": [
      "==================================================================================================================================\n",
      "MASS:\n",
      "==================================================================================================================================\n",
      "monotonicity threshold = -1e-06% change\n",
      "number of occurences where mass is not preserved = 1199076\n",
      "perc of occurences where mass is not preserved = 32.70% vs. 25.77% in training data\n",
      "\n",
      "\n",
      "\n",
      "\n",
      "monotonicity threshold = -0.01% change\n",
      "number of occurences where mass is not preserved = 734231\n",
      "perc of occurences where mass is not preserved = 20.03% vs. 11.12% in training data\n",
      "\n",
      "\n",
      "\n",
      "\n",
      "monotonicity threshold = -0.05% change\n",
      "number of occurences where mass is not preserved = 444697\n",
      "perc of occurences where mass is not preserved = 12.13% vs. 1.71% in training data\n",
      "\n",
      "\n",
      "\n",
      "\n",
      "monotonicity threshold = -0.1% change\n",
      "number of occurences where mass is not preserved = 420930\n",
      "perc of occurences where mass is not preserved = 11.48% vs. 0.32% in training data\n",
      "\n",
      "\n",
      "\n",
      "\n",
      "==================================================================================================================================\n",
      "==================================================================================================================================\n",
      "\n",
      "\n",
      "\n",
      "==================================================================================================================================\n",
      "DISTANCE:\n",
      "==================================================================================================================================\n",
      "total distance progentors = 1650500 \n",
      "number of occurences where distance increase (not preserved) = 853862\n",
      "perc of occurences where mass increase (not preserved) = 51.73% vs. 49.67% in training data\n",
      "\n",
      "\n",
      "total branches where the last halo distance to main branche is not the lowest in the branch is =  66773\n",
      "percentage of all branches where the last halo distance to main branch is not the lowest in the branch is = 19.27% vs. 17.88% in training data\n",
      "\n",
      "\n",
      "jumps greater than 20.0% (negative or positive) = 30.26% of all jumps vs. 4.76% in training data\n",
      "==================================================================================================================================\n",
      "==================================================================================================================================\n",
      "\n",
      "\n",
      "\n",
      "==================================================================================================================================\n",
      "SUBHALO:\n",
      "==================================================================================================================================\n",
      "perc of branches where last progenitor type is not subhalo = 40.03% vs 14.52% in training data\n",
      "\n",
      "\n",
      "==================================================================================================================================\n",
      "==================================================================================================================================\n"
     ]
    }
   ],
   "source": [
    "variable_consistancy_check(fake_original, False)"
   ]
  },
  {
   "cell_type": "code",
   "execution_count": null,
   "id": "02fbaa52",
   "metadata": {},
   "outputs": [],
   "source": []
  }
 ],
 "metadata": {
  "kernelspec": {
   "display_name": "Python 3 (ipykernel)",
   "language": "python",
   "name": "python3"
  },
  "language_info": {
   "codemirror_mode": {
    "name": "ipython",
    "version": 3
   },
   "file_extension": ".py",
   "mimetype": "text/x-python",
   "name": "python",
   "nbconvert_exporter": "python",
   "pygments_lexer": "ipython3",
   "version": "3.11.4"
  }
 },
 "nbformat": 4,
 "nbformat_minor": 5
}
