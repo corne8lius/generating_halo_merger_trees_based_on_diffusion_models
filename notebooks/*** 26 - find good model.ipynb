version https://git-lfs.github.com/spec/v1
oid sha256:01ea4f7429fba72ec2264e1dfe1d6a51f8b02a841821b270f17c3aea3b84b6a8
size 400093
