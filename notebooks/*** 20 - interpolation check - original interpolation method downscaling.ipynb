version https://git-lfs.github.com/spec/v1
oid sha256:a54d4d8bfefa57fd6f1c7b9cc71f47e5ab075b4daf1e39c89b0b465a5e239331
size 956192
