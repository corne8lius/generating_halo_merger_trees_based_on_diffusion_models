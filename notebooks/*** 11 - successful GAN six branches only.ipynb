{
 "cells": [
  {
   "cell_type": "markdown",
   "id": "45796a39",
   "metadata": {},
   "source": [
    "# Load modules"
   ]
  },
  {
   "cell_type": "code",
   "execution_count": 22,
   "id": "bbc768ab",
   "metadata": {},
   "outputs": [
    {
     "data": {
      "text/html": [
       "<style>.container { width:70% !important; }</style>"
      ],
      "text/plain": [
       "<IPython.core.display.HTML object>"
      ]
     },
     "metadata": {},
     "output_type": "display_data"
    }
   ],
   "source": [
    "import pandas as pd\n",
    "import torch\n",
    "import torch.nn as nn\n",
    "import tqdm\n",
    "import torch.nn.functional as F\n",
    "import os\n",
    "import numpy as np\n",
    "import random\n",
    "import re\n",
    "from torch.utils.data import DataLoader\n",
    "import torchvision.transforms as transforms\n",
    "import torch.optim as optim\n",
    "import matplotlib.pyplot as plt\n",
    "from scipy.stats import ks_2samp\n",
    "import math\n",
    "import torchvision\n",
    "from IPython.display import display, HTML\n",
    "from IPython.display import display\n",
    "display(HTML(\"<style>.container { width:70% !important; }</style>\"))\n",
    "\n",
    "from useful_functions_notebook_8to13 import *"
   ]
  },
  {
   "cell_type": "markdown",
   "id": "0b3ff9a6",
   "metadata": {},
   "source": [
    "# Load datasets"
   ]
  },
  {
   "cell_type": "code",
   "execution_count": 4,
   "id": "40281280",
   "metadata": {},
   "outputs": [
    {
     "name": "stdout",
     "output_type": "stream",
     "text": [
      "tensor(0.0726, dtype=torch.float64) tensor(0.1852, dtype=torch.float64)\n",
      "tensor(0.0633, dtype=torch.float64) tensor(0.1668, dtype=torch.float64)\n",
      "tensor(0.1117, dtype=torch.float64) tensor(0.2414, dtype=torch.float64)\n"
     ]
    }
   ],
   "source": [
    "device = torch.device(\"cuda\" if torch.cuda.is_available() else \"cpu\")\n",
    "\n",
    "dataset = torch.load('data/dataset_distlognorm_massnorm.pt')\n",
    "print(dataset[:, 0].mean(), dataset[:, 1].mean())\n",
    "# mean dist should be 0.0726\n",
    "# mean mass should be 0.1852\n",
    "\n",
    "six_branches = torch.load('data/six_branch_norm.pt')\n",
    "print(six_branches[:, 0].mean(), six_branches[:, 1].mean())\n",
    "# mean dist should be 0.0633\n",
    "# mean mass should be 0.1668\n",
    "\n",
    "ten_branches = torch.load('data/ten_branches_norm.pt')\n",
    "print(ten_branches[:, 0].mean(), ten_branches[:, 1].mean())\n",
    "# mean dist should be 0.0633\n",
    "# mean mass should be 0.1668"
   ]
  },
  {
   "cell_type": "markdown",
   "id": "11bed2ff",
   "metadata": {},
   "source": [
    "# remove empty branches so data have correct shape as in paper\n",
    "\n",
    "data should have shape (bs, 3, 29, 6)"
   ]
  },
  {
   "cell_type": "code",
   "execution_count": 29,
   "id": "d2cf5093",
   "metadata": {},
   "outputs": [
    {
     "data": {
      "text/plain": [
       "torch.Size([8161, 3, 29, 6])"
      ]
     },
     "execution_count": 29,
     "metadata": {},
     "output_type": "execute_result"
    }
   ],
   "source": [
    "six_dataset = six_branches[:, :, :, :6]\n",
    "six_dataset.shape"
   ]
  },
  {
   "cell_type": "markdown",
   "id": "4e100671",
   "metadata": {},
   "source": [
    "# create simple Conv GAN"
   ]
  },
  {
   "cell_type": "code",
   "execution_count": 25,
   "id": "5594787b",
   "metadata": {},
   "outputs": [],
   "source": [
    "class Discriminator(nn.Module):\n",
    "    def __init__(self, nvar, nbr):\n",
    "        super().__init__()\n",
    "\n",
    "        self.num_branches = nbr\n",
    "\n",
    "        self.layers = nn.Sequential(\n",
    "            nn.Conv2d(nvar, 16, kernel_size=(1, 3), stride=1),\n",
    "            nn.ELU(),\n",
    "            nn.Conv2d(16, 32, kernel_size=(1, 3), stride=1),\n",
    "            nn.ELU(),\n",
    "            nn.Conv2d(32, 64, kernel_size=(3, 1), stride=1),\n",
    "            nn.ELU(),\n",
    "            nn.Conv2d(64, 128, kernel_size=(3, 1), stride=1),\n",
    "            nn.ELU(),\n",
    "            nn.Conv2d(128, 256, kernel_size=(3, 1), stride=1),\n",
    "            nn.ELU(),\n",
    "            nn.Flatten()\n",
    "        )\n",
    "\n",
    "        if self.num_branches == 6:\n",
    "            self.linear = nn.Linear(11776, 1)\n",
    "        else:\n",
    "            self.linear = nn.Linear(35328, 1)\n",
    "\n",
    "    def forward(self, x):\n",
    "        x = self.layers(x)\n",
    "        x = self.linear(x)\n",
    "        return x\n",
    "\n",
    "\n",
    "class Encoder(nn.Module):\n",
    "    def __init__(self, nvar, nbr, latent_size):\n",
    "        super().__init__()\n",
    "\n",
    "        self.num_branches = nbr\n",
    "\n",
    "        self.layers = nn.Sequential(\n",
    "            nn.Conv2d(nvar, 16, kernel_size=(1, 3), stride=1),\n",
    "            nn.ELU(),\n",
    "            nn.Conv2d(16, 32, kernel_size=(1, 3), stride=1),\n",
    "            nn.ELU(),\n",
    "            nn.Conv2d(32, 64, kernel_size=(3, 1), stride=1),\n",
    "            nn.ELU(),\n",
    "            nn.Conv2d(64, 128, kernel_size=(3, 1), stride=1),\n",
    "            nn.ELU(),\n",
    "            nn.Conv2d(128, 256, kernel_size=(3, 1), stride=1),\n",
    "            nn.ELU(),\n",
    "            nn.Flatten()\n",
    "            )\n",
    "        \n",
    "        if self.num_branches == 6:\n",
    "            self.linear = nn.Linear(11776, latent_size)\n",
    "        else:\n",
    "            self.linear = nn.Linear(35328, latent_size)\n",
    "\n",
    "    def forward(self, x, t = 0):\n",
    "        x = self.layers(x)\n",
    "        x = self.linear(x)\n",
    "        return x\n",
    "\n",
    "\n",
    "class Generator(nn.Module):\n",
    "    def __init__(self, nvar, nbr, latent_size):\n",
    "        super().__init__()\n",
    "\n",
    "        self.num_branches = nbr\n",
    "\n",
    "        self.layers = nn.Sequential(\n",
    "            nn.ConvTranspose2d(256, 128, kernel_size=(3, 1), stride=1),\n",
    "            nn.ELU(),\n",
    "            nn.ConvTranspose2d(128, 64, kernel_size=(3, 1), stride=1),\n",
    "            nn.ELU(),\n",
    "            nn.ConvTranspose2d(64, 32, kernel_size=(3, 1), stride=1),\n",
    "            nn.ELU(),\n",
    "            nn.ConvTranspose2d(32, 16, kernel_size=(1, 3), stride=1),\n",
    "            nn.ELU(),\n",
    "            nn.ConvTranspose2d(16, nvar, kernel_size=(1, 3), stride=1),\n",
    "            #nn.Sigmoid()\n",
    "            nn.ReLU()\n",
    "        )\n",
    "        \n",
    "        if self.num_branches == 6:\n",
    "            self.linear = nn.Linear(latent_size, 11776)\n",
    "        else:\n",
    "            self.linear = nn.Linear(latent_size, 35328)\n",
    "        self.elu = nn.ELU()\n",
    "\n",
    "\n",
    "    def forward(self, x, t = 0):\n",
    "        x = self.elu(self.linear(x))\n",
    "        if self.num_branches == 6:\n",
    "            x = x.view(-1, 256, 23, 2)\n",
    "        else:\n",
    "            x = x.view(-1, 256, 23, 6)\n",
    "\n",
    "        return self.layers(x)\n",
    "        "
   ]
  },
  {
   "cell_type": "markdown",
   "id": "f8f612c6",
   "metadata": {},
   "source": [
    "# reconstruction loss, classic generator loss and classic discriminator loss"
   ]
  },
  {
   "cell_type": "code",
   "execution_count": 26,
   "id": "d2c277b1",
   "metadata": {},
   "outputs": [],
   "source": [
    "def custom_reconstruction_loss(output, target, scale = 10):\n",
    "    # Calculate the reconstruction loss\n",
    "    recon_loss = F.mse_loss(output, target, reduction='none')\n",
    "    \n",
    "    # Apply higher penalty if target is zero\n",
    "    penalty = torch.where((target == 0.0) |(target == 0.5) | (target == 1.0), scale * recon_loss, recon_loss)\n",
    "    \n",
    "    # Calculate the mean loss\n",
    "    mean_loss = torch.mean(penalty)\n",
    "    \n",
    "    return mean_loss\n",
    "\n",
    "def generator_classic_loss(disc_gen_values, epsilon = 1e-5):\n",
    "    \n",
    "    loss = 1 / len(disc_gen_values) * torch.sum(torch.log(disc_gen_values + epsilon))\n",
    "    \n",
    "    return loss\n",
    "\n",
    "\n",
    "\n",
    "def discriminator_classic_loss(disc_real_values, disc_gen_values, epsilon = 1e-5):\n",
    "    \n",
    "    loss = 1 / len(disc_gen_values) * torch.sum(torch.log(disc_real_values + epsilon) + torch.log(1 - disc_gen_values + epsilon))\n",
    "    \n",
    "    return loss"
   ]
  },
  {
   "cell_type": "markdown",
   "id": "c7996637",
   "metadata": {},
   "source": [
    "# training loops"
   ]
  },
  {
   "cell_type": "markdown",
   "id": "90c9e92d",
   "metadata": {},
   "source": [
    "# successful attempt #1"
   ]
  },
  {
   "cell_type": "markdown",
   "id": "f9334835",
   "metadata": {},
   "source": [
    "### - only data with 6 branches\n",
    "### - BCEWithLogitsLoss\n",
    "### - recon scale = 10\n",
    "### - num_train_gen = 1\n",
    "### - uniform noise"
   ]
  },
  {
   "cell_type": "code",
   "execution_count": 30,
   "id": "96a2b8a4",
   "metadata": {
    "scrolled": true
   },
   "outputs": [
    {
     "name": "stdout",
     "output_type": "stream",
     "text": [
      "Epoch: 1 / 1\n",
      "Training generator\n"
     ]
    },
    {
     "name": "stderr",
     "output_type": "stream",
     "text": [
      "100%|███████████████████████████████████████████| 64/64 [01:30<00:00,  1.42s/it]"
     ]
    },
    {
     "name": "stdout",
     "output_type": "stream",
     "text": [
      "real image:\n"
     ]
    },
    {
     "name": "stderr",
     "output_type": "stream",
     "text": [
      "\n"
     ]
    },
    {
     "data": {
      "image/png": "[encoded data removed]",
      "text/plain": [
       "<Figure size 640x480 with 1 Axes>"
      ]
     },
     "metadata": {},
     "output_type": "display_data"
    },
    {
     "name": "stderr",
     "output_type": "stream",
     "text": [
      "Clipping input data to the valid range for imshow with RGB data ([0..1] for floats or [0..255] for integers).\n"
     ]
    },
    {
     "name": "stdout",
     "output_type": "stream",
     "text": [
      "reconstructed image:\n"
     ]
    },
    {
     "data": {
      "image/png": "[encoded data removed]",
      "text/plain": [
       "<Figure size 640x480 with 1 Axes>"
      ]
     },
     "metadata": {},
     "output_type": "display_data"
    },
    {
     "name": "stdout",
     "output_type": "stream",
     "text": [
      "random created images:\n"
     ]
    },
    {
     "name": "stderr",
     "output_type": "stream",
     "text": [
      "Clipping input data to the valid range for imshow with RGB data ([0..1] for floats or [0..255] for integers).\n"
     ]
    },
    {
     "data": {
      "image/png": "[encoded data removed]",
      "text/plain": [
       "<Figure size 640x480 with 1 Axes>"
      ]
     },
     "metadata": {},
     "output_type": "display_data"
    },
    {
     "name": "stderr",
     "output_type": "stream",
     "text": [
      "Clipping input data to the valid range for imshow with RGB data ([0..1] for floats or [0..255] for integers).\n"
     ]
    },
    {
     "data": {
      "image/png": "[encoded data removed]",
      "text/plain": [
       "<Figure size 640x480 with 1 Axes>"
      ]
     },
     "metadata": {},
     "output_type": "display_data"
    },
    {
     "name": "stderr",
     "output_type": "stream",
     "text": [
      "Clipping input data to the valid range for imshow with RGB data ([0..1] for floats or [0..255] for integers).\n"
     ]
    },
    {
     "data": {
      "image/png": "[encoded data removed]",
      "text/plain": [
       "<Figure size 640x480 with 1 Axes>"
      ]
     },
     "metadata": {},
     "output_type": "display_data"
    },
    {
     "name": "stderr",
     "output_type": "stream",
     "text": [
      "Clipping input data to the valid range for imshow with RGB data ([0..1] for floats or [0..255] for integers).\n"
     ]
    },
    {
     "data": {
      "image/png": "[encoded data removed]",
      "text/plain": [
       "<Figure size 640x480 with 1 Axes>"
      ]
     },
     "metadata": {},
     "output_type": "display_data"
    },
    {
     "name": "stdout",
     "output_type": "stream",
     "text": [
      "Epoch [0/1]Discriminator Loss: 0.0151, Generator Loss: 13.2805\n",
      "tensor([[17.4213],\n",
      "        [-1.7431],\n",
      "        [ 9.0926]], requires_grad=True)\n",
      "tensor([[-22.3774],\n",
      "        [-21.4702],\n",
      "        [-13.3322]], requires_grad=True)\n",
      "mean disc rating of real images: tensor(13.4493)\n",
      "mean disc rating of fake images: tensor(-12.3625)\n"
     ]
    }
   ],
   "source": [
    "nsnap = six_dataset.shape[2]\n",
    "nbr = six_dataset.shape[3]\n",
    "nvar = six_dataset.shape[1]\n",
    "printer = False\n",
    "\n",
    "num_epochs = 1\n",
    "lr = 3e-4\n",
    "batch_size = 128\n",
    "latent_dim = 300\n",
    "\n",
    "dataloader = DataLoader(six_dataset, shuffle=True, batch_size = batch_size)\n",
    "\n",
    "discriminator = Discriminator(nvar, nbr).to(device)\n",
    "encoder = Encoder(nvar, nbr, latent_dim).to(device)\n",
    "generator = Generator(nvar, nbr, latent_dim).to(device)\n",
    "\n",
    "optimizer_enc_dec = optim.Adam(list(encoder.parameters()) + list(generator.parameters()), lr=3e-4)\n",
    "optimizer_discriminator = optim.Adam(discriminator.parameters(), lr=3e-4)\n",
    "\n",
    "# Define loss function\n",
    "criterion = nn.BCEWithLogitsLoss()\n",
    "\n",
    "num_train_gen = 1\n",
    "noise_uniform = True\n",
    "custom_loss = False\n",
    "recon_scale = 10\n",
    "\n",
    "for epoch in range(num_epochs):\n",
    "    print(f\"Epoch: {epoch + 1} / {num_epochs}\")\n",
    "    if epoch % num_train_gen == 0: \n",
    "        print(\"Training generator\")\n",
    "        \n",
    "    discriminator.train()\n",
    "    encoder.train()\n",
    "    generator.train()\n",
    "    for real_images in tqdm.tqdm(dataloader):\n",
    "        bs = real_images.shape[0]\n",
    "        # Train Discriminator\n",
    "        discriminator.zero_grad()\n",
    "        real_images = real_images.to(dtype=torch.float32).to(device)\n",
    "\n",
    "        # Discriminator forward pass with real images\n",
    "        real_output = discriminator(real_images).view(-1, 1)\n",
    "        \n",
    "        # Generate fake images\n",
    "        if noise_uniform:\n",
    "            high = 1.0\n",
    "            low = -1.0\n",
    "            uniform_noise = torch.rand(bs, latent_dim) * (high - (low)) + (low)\n",
    "            noise = uniform_noise.to(device)\n",
    "        \n",
    "        else:\n",
    "            noise = torch.randn(bs, latent_dim).to(device)\n",
    "        fake_images = generator(noise)\n",
    "\n",
    "        inputs = torch.cat([real_images, fake_images.detach()])\n",
    "        labels = torch.cat([torch.ones(bs, 1), torch.zeros(bs, 1)]) # fake\n",
    "        \n",
    "        # Discriminator forward pass with fake images\n",
    "        fake_output = discriminator(fake_images.detach()).view(-1, 1)\n",
    "        output = discriminator(inputs)\n",
    "        if custom_loss:\n",
    "            fake_loss = - discriminator_classic_loss(real_output, fake_output)\n",
    "        else:\n",
    "            fake_loss = criterion(output, labels)\n",
    "        \n",
    "        # Backpropagate and update discriminator weights\n",
    "        d_loss = fake_loss\n",
    "        d_loss.backward()\n",
    "        optimizer_discriminator.step()\n",
    "        \n",
    "        if epoch % num_train_gen == 0: \n",
    "            # Train Generator (Encoder + Decoder)\n",
    "            encoder.zero_grad()\n",
    "            generator.zero_grad()\n",
    "\n",
    "            recon = encoder(real_images)\n",
    "            recon_images = generator(recon)\n",
    "            output = discriminator(fake_images).view(-1, 1)\n",
    "\n",
    "            # Generator loss\n",
    "            if custom_loss:\n",
    "                g_loss = -generator_classic_loss(output)\n",
    "            else:\n",
    "                real_labels = torch.ones(bs, 1)\n",
    "                g_loss = criterion(output, real_labels)\n",
    "                \n",
    "            loss_rec = custom_reconstruction_loss(real_images, recon_images) * recon_scale\n",
    "\n",
    "            loss_g = g_loss + loss_rec\n",
    "            # Backpropagate and update generator weights\n",
    "            loss_g.backward()\n",
    "            optimizer_enc_dec.step()\n",
    "        \n",
    "        # Print losses\n",
    "        \n",
    "    if epoch % 1 == 0 or epoch + 1 == num_epochs:\n",
    "        with torch.no_grad():\n",
    "            discriminator.eval()\n",
    "            encoder.eval()\n",
    "            generator.eval()\n",
    "\n",
    "            print(\"real image:\")\n",
    "            test = real_images[0]\n",
    "            img = test.permute(1, 2, 0).detach().numpy()\n",
    "            plt.imshow(img)\n",
    "            plt.axis('off')  # Optional: Turn off axis ticks and labels\n",
    "            plt.show()\n",
    "\n",
    "            print(\"reconstructed image:\")\n",
    "            real = real_images.to(dtype=torch.float32)\n",
    "            encoded = encoder(real)\n",
    "            reconstructed = generator(encoded)\n",
    "            recon = reconstructed.reshape(-1, nvar, nsnap, nbr)\n",
    "            img = recon[0].permute(1, 2, 0).detach().numpy()\n",
    "            plt.imshow(img)\n",
    "            plt.axis('off')  # Optional: Turn off axis ticks and labels\n",
    "            plt.show()\n",
    "\n",
    "\n",
    "            # generate and show fake images\n",
    "            print(\"random created images:\")\n",
    "            fixed_noise = torch.randn((batch_size, latent_dim)).to(device)\n",
    "            fake = generator(fixed_noise).reshape(-1, nvar, nsnap, nbr)\n",
    "            im = random.randint(0, batch_size - 5)\n",
    "            img = fake[im : im + 4]\n",
    "            #print(img[0])\n",
    "            for im in img:\n",
    "                img = im.permute(1, 2, 0).detach().numpy()\n",
    "                plt.imshow(img)\n",
    "                plt.axis('off')  # Optional: Turn off axis ticks and labels\n",
    "                plt.show()\n",
    "                \n",
    "                \n",
    "            print(f\"Epoch [{epoch}/{num_epochs}]\"\n",
    "                  f\"Discriminator Loss: {d_loss.item():.4f}, Generator Loss: {g_loss.item():.4f}\")\n",
    "\n",
    "            print(real_output[:3])\n",
    "            print(fake_output[:3])\n",
    "            print(\"mean disc rating of real images:\", torch.mean(real_output))\n",
    "            print(\"mean disc rating of fake images:\", torch.mean(fake_output))"
   ]
  },
  {
   "cell_type": "code",
   "execution_count": 194,
   "id": "515e10e2",
   "metadata": {},
   "outputs": [
    {
     "name": "stdout",
     "output_type": "stream",
     "text": [
      "saved discriminator as models/attempt1/discriminator_first_success.pt\n",
      "saved generator as models/attempt1/generator_first_success.pt\n",
      "saved encoder as models/attempt1/encoder_first_success.pt\n"
     ]
    }
   ],
   "source": [
    "#disc_name = \"models/attempt1/discriminator_first_success.pt\"\n",
    "#gen_name = \"models/attempt1/generator_first_success.pt\"\n",
    "#enc_name = \"models/attempt1/encoder_first_success.pt\"\n",
    "    \n",
    "    \n",
    "#save_model(encoder, decoder, discriminator,\n",
    "#               optimizer_discriminator, optimizer_enc_dec,\n",
    "#               disc_name, gen_name, enc_name,\n",
    "#               nbr, nsnap, nvar, latent_dim)"
   ]
  },
  {
   "cell_type": "code",
   "execution_count": 5,
   "id": "d77e2979",
   "metadata": {},
   "outputs": [
    {
     "data": {
      "text/plain": [
       "<All keys matched successfully>"
      ]
     },
     "execution_count": 5,
     "metadata": {},
     "output_type": "execute_result"
    }
   ],
   "source": [
    "disc_name = \"models/attempt1/discriminator_first_success.pt\"\n",
    "gen_name = \"models/attempt1/generator_first_success.pt\"\n",
    "enc_name = \"models/attempt1/encoder_first_success.pt\"\n",
    "\n",
    "saved_generator1_state_dict = torch.load(gen_name)\n",
    "generator_trained1 = saved_generator1_state_dict[\"generator\"]\n",
    "latent_dim1 = saved_generator1_state_dict[\"latent_space\"]\n",
    "num_branches1 = saved_generator1_state_dict[\"num_branches\"]\n",
    "nsnap1 = saved_generator1_state_dict[\"nsnap\"]\n",
    "nvar1 = saved_generator1_state_dict[\"nvar\"]\n",
    "printer = False\n",
    "\n",
    "model = Generator_big(nvar1, nsnap1, num_branches1, latent_dim1, printer)\n",
    "model.load_state_dict(generator_trained1)\n"
   ]
  },
  {
   "cell_type": "code",
   "execution_count": 6,
   "id": "e7ae43b7",
   "metadata": {},
   "outputs": [
    {
     "name": "stderr",
     "output_type": "stream",
     "text": [
      "Clipping input data to the valid range for imshow with RGB data ([0..1] for floats or [0..255] for integers).\n"
     ]
    },
    {
     "name": "stdout",
     "output_type": "stream",
     "text": [
      "reconstructed image:\n"
     ]
    },
    {
     "data": {
      "image/png": "[encoded data removed]",
      "text/plain": [
       "<Figure size 640x480 with 1 Axes>"
      ]
     },
     "metadata": {},
     "output_type": "display_data"
    },
    {
     "name": "stdout",
     "output_type": "stream",
     "text": [
      "generated 8161 images\n"
     ]
    }
   ],
   "source": [
    "generated_images_model1 = create_generated_images(model, latent_dim1, six_dataset.shape, noise_uniform = True)"
   ]
  },
  {
   "cell_type": "code",
   "execution_count": 8,
   "id": "2f7ec180",
   "metadata": {},
   "outputs": [],
   "source": [
    "torch.save(generated_images_model1, \"models/attempt1/6_branch_generated_trees.pt\")"
   ]
  },
  {
   "cell_type": "code",
   "execution_count": 1,
   "id": "5af11013",
   "metadata": {
    "scrolled": true
   },
   "outputs": [
    {
     "name": "stdout",
     "output_type": "stream",
     "text": [
      "==================================================================================================================================\n",
      "Consistency:\n",
      "==================================================================================================================================\n",
      "\n",
      "\n",
      "Percentage of consistant images = 10.53% vs. 97.51% in training data\n",
      "\n",
      "Inconsistency reasons:\n",
      "inconsistency due to zero / nonzero mistake = 65.84%\n",
      "inconsistency due to distance not zero in main branch =  56.09%\n",
      "inconsistency due to gap between branches =  26.91%\n",
      "inconsistency due to zgap in branch 56.00%\n",
      "inconsistency due to last descendant dont exist 0.30%\n",
      "\n",
      "Number of images with two or more inconsistencies = 5147, which is  70.49%\n",
      "That corresponds to 63.07% of all images\n",
      "\n",
      "\n",
      "Of all images, 58.91% have zero inconsistency\n",
      "Of all images, 50.19% have distance main branch inconsistency\n",
      "Of all images, 24.08% have gap between branches inconsistency\n",
      "Of all images, 50.10% have gap within branch inconsistency\n",
      "Of all images, 0.27% have last descendant inconsistency\n",
      "==================================================================================================================================\n",
      "==================================================================================================================================\n",
      "\n",
      "\n",
      "\n",
      "==================================================================================================================================\n",
      "Complexity:\n",
      "==================================================================================================================================\n",
      "number of images with 1 branches is: 0\n",
      "number of images with 2 branches is: 2\n",
      "number of images with 3 branches is: 34\n",
      "number of images with 4 branches is: 338\n",
      "number of images with 5 branches is: 1865\n",
      "number of images with 6 branches is: 5922\n",
      "number of images with 7 branches is: 0\n",
      "number of images with 8 branches is: 0\n",
      "number of images with 9 branches is: 0\n",
      "number of images with 10 branches is: 0\n",
      "\n",
      "total images = 8161\n",
      "\n",
      "average number of branches in an image = 5.68 vs. 7.12 in training data\n",
      "Average branch length = 10.47 vs. 9.06 in training data\n",
      "Average nonzero entries (progenitors) = 59.43 vs. 64.55 in training data\n",
      "==================================================================================================================================\n",
      "==================================================================================================================================\n",
      "\n",
      "\n",
      "\n",
      "==================================================================================================================================\n",
      "MASS:\n",
      "==================================================================================================================================\n",
      "monotonicity threshold = -1e-06% change\n",
      "number of occurences where mass is not preserved = 169834\n",
      "perc of occurences where mass is not preserved = 41.73% vs. 25.77% in training data\n",
      "\n",
      "\n",
      "\n",
      "\n",
      "monotonicity threshold = -0.01% change\n",
      "number of occurences where mass is not preserved = 129290\n",
      "perc of occurences where mass is not preserved = 31.77% vs. 11.12% in training data\n",
      "\n",
      "\n",
      "\n",
      "\n",
      "monotonicity threshold = -0.05% change\n",
      "number of occurences where mass is not preserved = 43089\n",
      "perc of occurences where mass is not preserved = 10.59% vs. 1.71% in training data\n",
      "\n",
      "\n",
      "\n",
      "\n",
      "monotonicity threshold = -0.1% change\n",
      "number of occurences where mass is not preserved = 15266\n",
      "perc of occurences where mass is not preserved = 3.75% vs. 0.32% in training data\n",
      "\n",
      "\n",
      "\n",
      "\n"
     ]
    },
    {
     "data": {
      "image/png": "[encoded data removed]",
      "text/plain": [
       "<Figure size 640x480 with 1 Axes>"
      ]
     },
     "metadata": {},
     "output_type": "display_data"
    },
    {
     "name": "stdout",
     "output_type": "stream",
     "text": [
      "min mass change = 0.00% vs. -22.42% in training data\n",
      "max mass change = 36813900.00% vs. 28.61% in training data\n",
      "average mass change = 18406950.00% vs. 00.29% in training data\n",
      "==================================================================================================================================\n",
      "==================================================================================================================================\n",
      "\n",
      "\n",
      "\n",
      "==================================================================================================================================\n",
      "DISTANCE:\n",
      "==================================================================================================================================\n"
     ]
    },
    {
     "name": "stderr",
     "output_type": "stream",
     "text": [
      "/Users/corneliusbencsik/Documents/master/notebooks/useful_functions_notebook_8to13.py:574: UserWarning: To copy construct from a tensor, it is recommended to use sourceTensor.clone().detach() or sourceTensor.clone().detach().requires_grad_(True), rather than torch.tensor(sourceTensor).\n",
      "  print(f\"average mass change = {100 * torch.tensor(j, dtype = torch.float32).mean():.2f}% vs. 00.29% in training data\", flush=True)\n"
     ]
    },
    {
     "name": "stdout",
     "output_type": "stream",
     "text": [
      "total distance progentors = 284175 \n",
      "number of occurences where distance increase (not preserved) = 138292\n",
      "perc of occurences where mass increase (not preserved) = 48.66% vs. 49.67% in training data\n",
      "\n",
      "\n",
      "total branches where the last halo distance to main branche is not the lowest in the branch is =  18972\n",
      "percentage of all branches where the last halo distance to main branch is not the lowest in the branch is = 46.49% vs. 17.88% in training data\n",
      "\n",
      "\n",
      "jumps greater than 20.0% (negative or positive) = 23.35% of all jumps vs. 4.76% in training data\n"
     ]
    },
    {
     "data": {
      "image/png": "[encoded data removed]",
      "text/plain": [
       "<Figure size 640x480 with 1 Axes>"
      ]
     },
     "metadata": {},
     "output_type": "display_data"
    },
    {
     "name": "stdout",
     "output_type": "stream",
     "text": [
      "min jump = 0.00 vs. -80.70% in training data\n",
      "max jump = 24615700.00 vs. 509.33% in training data\n",
      "average jump = 12307849.00 vs. -2.60% in training data\n",
      "==================================================================================================================================\n",
      "==================================================================================================================================\n",
      "\n",
      "\n",
      "\n",
      "==================================================================================================================================\n",
      "SUBHALO:\n",
      "==================================================================================================================================\n"
     ]
    },
    {
     "name": "stderr",
     "output_type": "stream",
     "text": [
      "/Users/corneliusbencsik/Documents/master/notebooks/useful_functions_notebook_8to13.py:591: UserWarning: To copy construct from a tensor, it is recommended to use sourceTensor.clone().detach() or sourceTensor.clone().detach().requires_grad_(True), rather than torch.tensor(sourceTensor).\n",
      "  print(f\"average jump = {100 * torch.tensor(j, dtype = torch.float32).mean():.2f} vs. -2.60% in training data\", flush=True)\n"
     ]
    },
    {
     "name": "stdout",
     "output_type": "stream",
     "text": [
      "perc of branches where last progenitor type is not subhalo = 17.83% vs 14.52% in training data\n",
      "\n",
      "\n",
      "==================================================================================================================================\n",
      "==================================================================================================================================\n"
     ]
    }
   ],
   "source": [
    "from useful_functions_notebook_8to13 import *\n",
    "generated_images_model1 = torch.load(\"models/attempt1/6_branch_generated_trees.pt\")\n",
    "\n",
    "consist_data, inconsistent_images = check_consistency(generated_images_model1)\n",
    "check_branch_length(generated_images_model1)\n",
    "variable_consistancy_check(generated_images_model1)"
   ]
  },
  {
   "cell_type": "code",
   "execution_count": 2,
   "id": "f47ae438",
   "metadata": {},
   "outputs": [
    {
     "name": "stdout",
     "output_type": "stream",
     "text": [
      "==================================================================================================================================\n",
      "Consistency:\n",
      "==================================================================================================================================\n",
      "\n",
      "\n",
      "Percentage of consistant images = 100.00% vs. 97.51% in training data\n",
      "==================================================================================================================================\n",
      "==================================================================================================================================\n",
      "\n",
      "\n",
      "\n",
      "==================================================================================================================================\n",
      "Complexity:\n",
      "==================================================================================================================================\n",
      "number of images with 1 branches is: 0\n",
      "number of images with 2 branches is: 0\n",
      "number of images with 3 branches is: 2\n",
      "number of images with 4 branches is: 21\n",
      "number of images with 5 branches is: 88\n",
      "number of images with 6 branches is: 748\n",
      "number of images with 7 branches is: 0\n",
      "number of images with 8 branches is: 0\n",
      "number of images with 9 branches is: 0\n",
      "number of images with 10 branches is: 0\n",
      "\n",
      "total images = 859\n",
      "\n",
      "average number of branches in an image = 5.84 vs. 7.12 in training data\n",
      "Average branch length = 9.65 vs. 9.06 in training data\n",
      "Average nonzero entries (progenitors) = 56.39 vs. 64.55 in training data\n",
      "==================================================================================================================================\n",
      "==================================================================================================================================\n",
      "\n",
      "\n",
      "\n",
      "==================================================================================================================================\n",
      "MASS:\n",
      "==================================================================================================================================\n",
      "monotonicity threshold = -1e-06% change\n",
      "number of occurences where mass is not preserved = 16696\n",
      "perc of occurences where mass is not preserved = 41.13% vs. 25.77% in training data\n",
      "\n",
      "\n",
      "\n",
      "\n",
      "monotonicity threshold = -0.01% change\n",
      "number of occurences where mass is not preserved = 12544\n",
      "perc of occurences where mass is not preserved = 30.90% vs. 11.12% in training data\n",
      "\n",
      "\n",
      "\n",
      "\n",
      "monotonicity threshold = -0.05% change\n",
      "number of occurences where mass is not preserved = 3814\n",
      "perc of occurences where mass is not preserved = 9.40% vs. 1.71% in training data\n",
      "\n",
      "\n",
      "\n",
      "\n",
      "monotonicity threshold = -0.1% change\n",
      "number of occurences where mass is not preserved = 1200\n",
      "perc of occurences where mass is not preserved = 2.96% vs. 0.32% in training data\n",
      "\n",
      "\n",
      "\n",
      "\n"
     ]
    },
    {
     "data": {
      "image/png": "[encoded data removed]",
      "text/plain": [
       "<Figure size 640x480 with 1 Axes>"
      ]
     },
     "metadata": {},
     "output_type": "display_data"
    },
    {
     "name": "stdout",
     "output_type": "stream",
     "text": [
      "min mass change = 0.00% vs. -22.42% in training data\n",
      "max mass change = 3632200.00% vs. 28.61% in training data\n",
      "average mass change = 1816100.00% vs. 00.29% in training data\n",
      "==================================================================================================================================\n",
      "==================================================================================================================================\n",
      "\n",
      "\n",
      "\n",
      "==================================================================================================================================\n",
      "DISTANCE:\n",
      "==================================================================================================================================\n",
      "total distance progentors = 27384 \n",
      "number of occurences where distance increase (not preserved) = 13370\n",
      "perc of occurences where mass increase (not preserved) = 48.82% vs. 49.67% in training data\n",
      "\n",
      "\n",
      "total branches where the last halo distance to main branche is not the lowest in the branch is =  1825\n",
      "percentage of all branches where the last halo distance to main branch is not the lowest in the branch is = 42.49% vs. 17.88% in training data\n",
      "\n",
      "\n",
      "jumps greater than 20.0% (negative or positive) = 22.77% of all jumps vs. 4.76% in training data\n"
     ]
    },
    {
     "data": {
      "image/png": "[encoded data removed]",
      "text/plain": [
       "<Figure size 640x480 with 1 Axes>"
      ]
     },
     "metadata": {},
     "output_type": "display_data"
    },
    {
     "name": "stdout",
     "output_type": "stream",
     "text": [
      "min jump = 0.00 vs. -80.70% in training data\n",
      "max jump = 2322400.00 vs. 509.33% in training data\n",
      "average jump = 1161200.00 vs. -2.60% in training data\n",
      "==================================================================================================================================\n",
      "==================================================================================================================================\n",
      "\n",
      "\n",
      "\n",
      "==================================================================================================================================\n",
      "SUBHALO:\n",
      "==================================================================================================================================\n",
      "perc of branches where last progenitor type is not subhalo = 18.02% vs 14.52% in training data\n",
      "\n",
      "\n",
      "==================================================================================================================================\n",
      "==================================================================================================================================\n"
     ]
    }
   ],
   "source": [
    "consist_data, inconsistent_images = check_consistency(consist_data)\n",
    "check_branch_length(consist_data)\n",
    "variable_consistancy_check(consist_data)"
   ]
  },
  {
   "cell_type": "code",
   "execution_count": null,
   "id": "a366fe0e",
   "metadata": {},
   "outputs": [],
   "source": []
  },
  {
   "cell_type": "code",
   "execution_count": null,
   "id": "35b27ebd",
   "metadata": {},
   "outputs": [],
   "source": []
  },
  {
   "cell_type": "code",
   "execution_count": null,
   "id": "e7f31953",
   "metadata": {},
   "outputs": [],
   "source": []
  },
  {
   "cell_type": "code",
   "execution_count": null,
   "id": "2c6de3f0",
   "metadata": {},
   "outputs": [],
   "source": []
  },
  {
   "cell_type": "code",
   "execution_count": 25,
   "id": "68937b94",
   "metadata": {
    "scrolled": true
   },
   "outputs": [
    {
     "name": "stdout",
     "output_type": "stream",
     "text": [
      "\n",
      "Run 1 / 10:\n"
     ]
    },
    {
     "name": "stderr",
     "output_type": "stream",
     "text": [
      "Clipping input data to the valid range for imshow with RGB data ([0..1] for floats or [0..255] for integers).\n"
     ]
    },
    {
     "name": "stdout",
     "output_type": "stream",
     "text": [
      "reconstructed image:\n"
     ]
    },
    {
     "data": {
      "image/png": "[encoded data removed]",
      "text/plain": [
       "<Figure size 640x480 with 1 Axes>"
      ]
     },
     "metadata": {},
     "output_type": "display_data"
    },
    {
     "name": "stdout",
     "output_type": "stream",
     "text": [
      "generated 8161 images\n",
      "\n",
      "\n",
      "Percentage of consistant images = 9.81%\n",
      "\n",
      "Run 2 / 10:\n",
      "reconstructed image:\n"
     ]
    },
    {
     "data": {
      "image/png": "[encoded data removed]",
      "text/plain": [
       "<Figure size 640x480 with 1 Axes>"
      ]
     },
     "metadata": {},
     "output_type": "display_data"
    },
    {
     "name": "stdout",
     "output_type": "stream",
     "text": [
      "generated 8161 images\n",
      "\n",
      "\n",
      "Percentage of consistant images = 10.61%\n",
      "\n",
      "Run 3 / 10:\n",
      "reconstructed image:\n"
     ]
    },
    {
     "data": {
      "image/png": "[encoded data removed]",
      "text/plain": [
       "<Figure size 640x480 with 1 Axes>"
      ]
     },
     "metadata": {},
     "output_type": "display_data"
    },
    {
     "name": "stdout",
     "output_type": "stream",
     "text": [
      "generated 8161 images\n",
      "\n",
      "\n",
      "Percentage of consistant images = 10.57%\n",
      "\n",
      "Run 4 / 10:\n",
      "reconstructed image:\n"
     ]
    },
    {
     "data": {
      "image/png": "[encoded data removed]",
      "text/plain": [
       "<Figure size 640x480 with 1 Axes>"
      ]
     },
     "metadata": {},
     "output_type": "display_data"
    },
    {
     "name": "stdout",
     "output_type": "stream",
     "text": [
      "generated 8161 images\n",
      "\n",
      "\n",
      "Percentage of consistant images = 9.64%\n",
      "\n",
      "Run 5 / 10:\n",
      "reconstructed image:\n"
     ]
    },
    {
     "data": {
      "image/png": "[encoded data removed]",
      "text/plain": [
       "<Figure size 640x480 with 1 Axes>"
      ]
     },
     "metadata": {},
     "output_type": "display_data"
    },
    {
     "name": "stdout",
     "output_type": "stream",
     "text": [
      "generated 8161 images\n",
      "\n",
      "\n",
      "Percentage of consistant images = 9.29%\n",
      "\n",
      "Run 6 / 10:\n"
     ]
    },
    {
     "name": "stderr",
     "output_type": "stream",
     "text": [
      "Clipping input data to the valid range for imshow with RGB data ([0..1] for floats or [0..255] for integers).\n"
     ]
    },
    {
     "name": "stdout",
     "output_type": "stream",
     "text": [
      "reconstructed image:\n"
     ]
    },
    {
     "data": {
      "image/png": "[encoded data removed]",
      "text/plain": [
       "<Figure size 640x480 with 1 Axes>"
      ]
     },
     "metadata": {},
     "output_type": "display_data"
    },
    {
     "name": "stdout",
     "output_type": "stream",
     "text": [
      "generated 8161 images\n",
      "\n",
      "\n",
      "Percentage of consistant images = 10.06%\n",
      "\n",
      "Run 7 / 10:\n",
      "reconstructed image:\n"
     ]
    },
    {
     "data": {
      "image/png": "[encoded data removed]",
      "text/plain": [
       "<Figure size 640x480 with 1 Axes>"
      ]
     },
     "metadata": {},
     "output_type": "display_data"
    },
    {
     "name": "stdout",
     "output_type": "stream",
     "text": [
      "generated 8161 images\n",
      "\n",
      "\n",
      "Percentage of consistant images = 9.74%\n",
      "\n",
      "Run 8 / 10:\n",
      "reconstructed image:\n"
     ]
    },
    {
     "data": {
      "image/png": "[encoded data removed]",
      "text/plain": [
       "<Figure size 640x480 with 1 Axes>"
      ]
     },
     "metadata": {},
     "output_type": "display_data"
    },
    {
     "name": "stdout",
     "output_type": "stream",
     "text": [
      "generated 8161 images\n",
      "\n",
      "\n",
      "Percentage of consistant images = 10.45%\n",
      "\n",
      "Run 9 / 10:\n",
      "reconstructed image:\n"
     ]
    },
    {
     "data": {
      "image/png": "[encoded data removed]",
      "text/plain": [
       "<Figure size 640x480 with 1 Axes>"
      ]
     },
     "metadata": {},
     "output_type": "display_data"
    },
    {
     "name": "stdout",
     "output_type": "stream",
     "text": [
      "generated 8161 images\n",
      "\n",
      "\n",
      "Percentage of consistant images = 10.44%\n",
      "\n",
      "Run 10 / 10:\n",
      "reconstructed image:\n"
     ]
    },
    {
     "data": {
      "image/png": "[encoded data removed]",
      "text/plain": [
       "<Figure size 640x480 with 1 Axes>"
      ]
     },
     "metadata": {},
     "output_type": "display_data"
    },
    {
     "name": "stdout",
     "output_type": "stream",
     "text": [
      "generated 8161 images\n",
      "\n",
      "\n",
      "Percentage of consistant images = 10.53%\n",
      "Constistancy average = 10.12%\n",
      "Constistancy min = 9.29%\n",
      "Constistancy max = 10.61%\n"
     ]
    }
   ],
   "source": [
    "consistancy = []\n",
    "for i in range(10):\n",
    "    print(f\"\\nRun {i + 1} / 10:\")\n",
    "    generated_images_model1 = create_generated_images(model, latent_dim1, six_dataset.shape, noise_uniform = True)\n",
    "    consist_data, inconsistent_images, percentage = check_consistency(generated_images_model1)\n",
    "    consistancy.append(percentage)\n",
    "    \n",
    "consistancy = torch.tensor(consistancy, dtype=torch.float32)\n",
    "    \n",
    "print(f\"Constistancy average = {consistancy.mean():.2f}%\")\n",
    "print(f\"Constistancy min = {consistancy.min():.2f}%\")\n",
    "print(f\"Constistancy max = {consistancy.max():.2f}%\")"
   ]
  },
  {
   "cell_type": "code",
   "execution_count": 78,
   "id": "27534f9f",
   "metadata": {
    "scrolled": true
   },
   "outputs": [
    {
     "name": "stderr",
     "output_type": "stream",
     "text": [
      "Clipping input data to the valid range for imshow with RGB data ([0..1] for floats or [0..255] for integers).\n"
     ]
    },
    {
     "name": "stdout",
     "output_type": "stream",
     "text": [
      "image 36:\n"
     ]
    },
    {
     "data": {
      "image/png": "[encoded data removed]",
      "text/plain": [
       "<Figure size 640x480 with 1 Axes>"
      ]
     },
     "metadata": {},
     "output_type": "display_data"
    },
    {
     "name": "stdout",
     "output_type": "stream",
     "text": [
      "image 580:\n"
     ]
    },
    {
     "data": {
      "image/png": "[encoded data removed]",
      "text/plain": [
       "<Figure size 640x480 with 1 Axes>"
      ]
     },
     "metadata": {},
     "output_type": "display_data"
    },
    {
     "name": "stdout",
     "output_type": "stream",
     "text": [
      "image 123:\n"
     ]
    },
    {
     "data": {
      "image/png": "[encoded data removed]",
      "text/plain": [
       "<Figure size 640x480 with 1 Axes>"
      ]
     },
     "metadata": {},
     "output_type": "display_data"
    }
   ],
   "source": [
    "images = plot_images(consist_data, 3)"
   ]
  },
  {
   "cell_type": "code",
   "execution_count": 55,
   "id": "e5de0fa5",
   "metadata": {
    "scrolled": true
   },
   "outputs": [
    {
     "name": "stdout",
     "output_type": "stream",
     "text": [
      "Real images:\n"
     ]
    },
    {
     "data": {
      "image/png": "[encoded data removed]",
      "text/plain": [
       "<Figure size 640x480 with 1 Axes>"
      ]
     },
     "metadata": {},
     "output_type": "display_data"
    },
    {
     "data": {
      "image/png": "[encoded data removed]",
      "text/plain": [
       "<Figure size 640x480 with 1 Axes>"
      ]
     },
     "metadata": {},
     "output_type": "display_data"
    },
    {
     "name": "stdout",
     "output_type": "stream",
     "text": [
      "number of nonzero values = 468178\n",
      "Generated images:\n"
     ]
    },
    {
     "data": {
      "image/png": "[encoded data removed]",
      "text/plain": [
       "<Figure size 640x480 with 1 Axes>"
      ]
     },
     "metadata": {},
     "output_type": "display_data"
    },
    {
     "data": {
      "image/png": "[encoded data removed]",
      "text/plain": [
       "<Figure size 640x480 with 1 Axes>"
      ]
     },
     "metadata": {},
     "output_type": "display_data"
    },
    {
     "name": "stdout",
     "output_type": "stream",
     "text": [
      "number of nonzero values = 484350\n"
     ]
    },
    {
     "data": {
      "image/png": "[encoded data removed]",
      "text/plain": [
       "<Figure size 640x480 with 1 Axes>"
      ]
     },
     "metadata": {},
     "output_type": "display_data"
    },
    {
     "name": "stdout",
     "output_type": "stream",
     "text": [
      "Full distribution:\n",
      "KS Statistic: 0.1262338911207147\n",
      "P-value: 0.0\n",
      "\n",
      "According to regular significance level of 0.05:\n",
      "The distributions are significantly different (reject H0)\n",
      "\n",
      "According to large sample significance level of 0.05, giving significance level of 0.0014:\n",
      "The distributions are significantly different (reject H0), KS statistic 0.1262 > 0.0014\n"
     ]
    },
    {
     "data": {
      "image/png": "[encoded data removed]",
      "text/plain": [
       "<Figure size 640x480 with 1 Axes>"
      ]
     },
     "metadata": {},
     "output_type": "display_data"
    },
    {
     "name": "stdout",
     "output_type": "stream",
     "text": [
      "Nonzero distribution:\n",
      "KS Statistic: 0.13183861363327112\n",
      "P-value: 0.0\n",
      "\n",
      "According to regular significance level of 0.05:\n",
      "The distributions are significantly different (reject H0)\n",
      "\n",
      "According to large sample significance level of 0.05, giving significance level of 0.0028:\n",
      "The distributions are significantly different (reject H0), KS statistic 0.1318 > 0.0028\n"
     ]
    },
    {
     "data": {
      "text/plain": [
       "(0.1262338911207147, 0.13183861363327112)"
      ]
     },
     "execution_count": 55,
     "metadata": {},
     "output_type": "execute_result"
    }
   ],
   "source": [
    "test = torch.cat([consist_data, consist_data, consist_data, consist_data, consist_data, consist_data,\n",
    "                 consist_data, consist_data, consist_data, consist_data])\n",
    "ks_test(six_branches, test.detach(), dim = 1)"
   ]
  },
  {
   "cell_type": "code",
   "execution_count": 28,
   "id": "56b55eb2",
   "metadata": {
    "scrolled": false
   },
   "outputs": [
    {
     "name": "stdout",
     "output_type": "stream",
     "text": [
      "0.8361501693725586 0.06066314876079559 1.1830883026123047 40498.93359375\n",
      "0.8432592954678704 0.7161649025418501 1.0\n"
     ]
    },
    {
     "data": {
      "text/plain": [
       "(48435, 468178)"
      ]
     },
     "execution_count": 28,
     "metadata": {},
     "output_type": "execute_result"
    }
   ],
   "source": [
    "variable = consist_data[:, 1]\n",
    "\n",
    "# extract nonzero values\n",
    "nonzero_indices = torch.nonzero(variable.flatten())\n",
    "nonzero_value = variable.flatten()[nonzero_indices[:, 0]]\n",
    "print(nonzero_value.mean().item(), nonzero_value.min().item(), nonzero_value.max().item(), nonzero_value.sum().item())\n",
    "\n",
    "variable = six_branches[:, 1]\n",
    "\n",
    "# extract nonzero values\n",
    "nonzero_indices = torch.nonzero(variable.flatten())\n",
    "nonzero_value_six = variable.flatten()[nonzero_indices[:, 0]]\n",
    "print(nonzero_value_six.mean().item(), nonzero_value_six.min().item(), nonzero_value_six.max().item())\n",
    "\n",
    "\n",
    "len(nonzero_value), len(nonzero_value_six.flatten().numpy())"
   ]
  },
  {
   "cell_type": "code",
   "execution_count": null,
   "id": "abcba90f",
   "metadata": {},
   "outputs": [],
   "source": []
  },
  {
   "cell_type": "code",
   "execution_count": 29,
   "id": "8ea1edd5",
   "metadata": {},
   "outputs": [
    {
     "data": {
      "text/plain": [
       "94.71250129038918"
      ]
     },
     "execution_count": 29,
     "metadata": {},
     "output_type": "execute_result"
    }
   ],
   "source": [
    "mask = (nonzero_value > 0.7161649025418501 ) & (nonzero_value < 1.0)\n",
    "\n",
    "# Count the number of True values in the mask\n",
    "count = torch.sum(mask).item()\n",
    "count * 100 / len(nonzero_value)"
   ]
  },
  {
   "cell_type": "markdown",
   "id": "d1821d70",
   "metadata": {},
   "source": [
    "# Inconsistency check"
   ]
  },
  {
   "cell_type": "code",
   "execution_count": 157,
   "id": "8e7e53f1",
   "metadata": {},
   "outputs": [
    {
     "name": "stdout",
     "output_type": "stream",
     "text": [
      "inconsistent images:\n",
      " image index = 0, inconsistent because gaps in branch 2 at row 13\n",
      " image index = 1, inconsistent because zero not same index: zero in 99.18% of same spots across channels\n",
      " image index = 1, inconsistent because gaps in branch 5 at row 27\n",
      " image index = 2, inconsistent because zero not same index: zero in 99.11% of same spots across channels\n",
      " image index = 2, inconsistent because dist in main branch is not zero: zero in 96.55% of distance main branch\n",
      " image index = 3, inconsistent because zero not same index: zero in 98.37% of same spots across channels\n",
      " image index = 4, inconsistent because zero not same index: zero in 99.13% of same spots across channels\n",
      " image index = 4, inconsistent because dist in main branch is not zero: zero in 93.10% of distance main branch\n",
      " image index = 4, inconsistent because gaps in branch 3 at row 12\n",
      " image index = 5, inconsistent because zero not same index: zero in 99.19% of same spots across channels\n",
      " image index = 5, inconsistent because gaps between branches 1 and 3 in channel 0\n",
      " image index = 6, inconsistent because zero not same index: zero in 99.10% of same spots across channels\n",
      " image index = 7, inconsistent because zero not same index: zero in 97.89% of same spots across channels\n",
      " image index = 7, inconsistent because dist in main branch is not zero: zero in 96.55% of distance main branch\n",
      " image index = 7, inconsistent because gaps in branch 5 at row 20\n",
      " image index = 8, inconsistent because gaps between branches 4 and 6 in channel 0\n",
      " image index = 8, inconsistent because gaps in branch 3 at row 20\n",
      " image index = 9, inconsistent because zero not same index: zero in 97.00% of same spots across channels\n",
      " image index = 9, inconsistent because dist in main branch is not zero: zero in 93.10% of distance main branch\n",
      " image index = 9, inconsistent because gaps in branch 0 at row 12\n",
      "\n",
      "\n",
      "Percentage of consistant images = 0.0%\n"
     ]
    }
   ],
   "source": [
    "consist_data_test, inconsistent_images_test, percentage_test = check_consistency(inconsistent_images[:10], True)"
   ]
  },
  {
   "cell_type": "code",
   "execution_count": 160,
   "id": "07528508",
   "metadata": {
    "scrolled": true
   },
   "outputs": [
    {
     "name": "stdout",
     "output_type": "stream",
     "text": [
      "image 6:\n"
     ]
    },
    {
     "data": {
      "image/png": "[encoded data removed]",
      "text/plain": [
       "<Figure size 640x480 with 1 Axes>"
      ]
     },
     "metadata": {},
     "output_type": "display_data"
    },
    {
     "name": "stdout",
     "output_type": "stream",
     "text": [
      "image 5:\n"
     ]
    },
    {
     "data": {
      "image/png": "[encoded data removed]",
      "text/plain": [
       "<Figure size 640x480 with 1 Axes>"
      ]
     },
     "metadata": {},
     "output_type": "display_data"
    },
    {
     "name": "stdout",
     "output_type": "stream",
     "text": [
      "image 8:\n"
     ]
    },
    {
     "data": {
      "image/png": "[encoded data removed]",
      "text/plain": [
       "<Figure size 640x480 with 1 Axes>"
      ]
     },
     "metadata": {},
     "output_type": "display_data"
    },
    {
     "name": "stdout",
     "output_type": "stream",
     "text": [
      "image 4:\n"
     ]
    },
    {
     "data": {
      "image/png": "[encoded data removed]",
      "text/plain": [
       "<Figure size 640x480 with 1 Axes>"
      ]
     },
     "metadata": {},
     "output_type": "display_data"
    },
    {
     "name": "stdout",
     "output_type": "stream",
     "text": [
      "image 1:\n"
     ]
    },
    {
     "data": {
      "image/png": "[encoded data removed]",
      "text/plain": [
       "<Figure size 640x480 with 1 Axes>"
      ]
     },
     "metadata": {},
     "output_type": "display_data"
    }
   ],
   "source": [
    "merger_trees_consistent_generated = plot_images(inconsistent_images_test, 5)"
   ]
  },
  {
   "cell_type": "code",
   "execution_count": 163,
   "id": "9e48e8f8",
   "metadata": {},
   "outputs": [
    {
     "data": {
      "text/plain": [
       "tensor([[[0.0000, 0.0000, 0.0000, 0.0000, 0.0000, 0.0000],\n",
       "         [0.0000, 0.0000, 0.0000, 0.0000, 0.0000, 0.0000],\n",
       "         [0.0000, 0.0000, 0.0000, 0.0000, 0.0000, 0.0000],\n",
       "         [0.0000, 0.0000, 0.0000, 0.0000, 0.0000, 0.0000],\n",
       "         [0.0000, 0.4277, 0.0000, 0.0000, 0.0000, 0.0000],\n",
       "         [0.0000, 0.4496, 0.0000, 0.0000, 0.0000, 0.0000],\n",
       "         [0.0000, 0.4730, 0.0000, 0.4780, 0.0000, 0.0000],\n",
       "         [0.0000, 0.3993, 0.0000, 0.0000, 0.0000, 0.0000],\n",
       "         [0.0000, 0.4243, 0.0000, 0.0000, 0.0000, 0.0000],\n",
       "         [0.0000, 0.4593, 0.0000, 0.0000, 0.0000, 0.0000],\n",
       "         [0.0000, 0.5226, 0.0000, 0.0000, 0.0000, 0.0000],\n",
       "         [0.0000, 0.3796, 0.0000, 0.7182, 0.0000, 0.0000],\n",
       "         [0.0679, 0.0000, 0.6978, 0.6412, 0.6252, 0.0000],\n",
       "         [0.0619, 0.0000, 0.6411, 0.6943, 0.7509, 0.0000],\n",
       "         [0.0000, 0.0000, 0.4181, 0.6044, 0.7181, 0.0000],\n",
       "         [0.0000, 0.0000, 0.3245, 0.5045, 0.6536, 0.0000],\n",
       "         [0.0000, 0.0000, 0.0000, 0.4812, 0.6452, 0.0000],\n",
       "         [0.0000, 0.0000, 0.0000, 0.4733, 0.5808, 0.0000],\n",
       "         [0.0000, 0.0000, 0.0000, 0.5300, 0.5272, 0.0000],\n",
       "         [0.0000, 0.0000, 0.0000, 0.5493, 0.5220, 0.0000],\n",
       "         [0.0000, 0.0000, 0.0000, 0.0000, 0.5569, 0.0000],\n",
       "         [0.0000, 0.0000, 0.0000, 0.0000, 0.5456, 0.0000],\n",
       "         [0.0000, 0.0000, 0.0000, 0.0000, 0.5201, 0.0000],\n",
       "         [0.0000, 0.0000, 0.0000, 0.0000, 0.0000, 0.0000],\n",
       "         [0.0000, 0.0000, 0.0000, 0.0000, 0.0000, 0.0000],\n",
       "         [0.0000, 0.0000, 0.0000, 0.0000, 0.0000, 0.0000],\n",
       "         [0.0000, 0.0000, 0.0000, 0.0000, 0.0000, 0.0000],\n",
       "         [0.0000, 0.0000, 0.0000, 0.0000, 0.0000, 0.0000],\n",
       "         [0.0000, 0.0000, 0.0000, 0.0000, 0.0000, 0.0000]],\n",
       "\n",
       "        [[0.0000, 0.0000, 0.0000, 0.0000, 0.0000, 0.0000],\n",
       "         [0.0000, 0.0000, 0.0000, 0.0000, 0.0000, 0.0000],\n",
       "         [0.8607, 0.0000, 0.0000, 0.0000, 0.0000, 0.0000],\n",
       "         [0.8657, 0.0000, 0.0000, 0.0000, 0.0000, 0.0000],\n",
       "         [0.8722, 0.7987, 0.0000, 0.0000, 0.0000, 0.0000],\n",
       "         [0.8931, 0.8026, 0.0000, 0.0000, 0.0000, 0.0000],\n",
       "         [0.9124, 0.8184, 0.0000, 0.8023, 0.0000, 0.0000],\n",
       "         [0.8754, 0.8161, 0.0000, 0.0000, 0.0000, 0.0000],\n",
       "         [0.8471, 0.8302, 0.0000, 0.0000, 0.0000, 0.0000],\n",
       "         [0.8323, 0.8291, 0.0000, 0.0000, 0.0000, 0.0000],\n",
       "         [0.8363, 0.8154, 0.0000, 0.0000, 0.0000, 0.0000],\n",
       "         [0.8801, 0.7972, 0.0000, 0.7105, 0.0000, 0.0000],\n",
       "         [0.8632, 0.0000, 0.7814, 0.7513, 0.8030, 0.0000],\n",
       "         [0.9285, 0.0000, 0.7558, 0.7698, 0.7965, 0.0000],\n",
       "         [0.9060, 0.0000, 0.8061, 0.7810, 0.8255, 0.0000],\n",
       "         [0.9438, 0.0000, 0.7783, 0.7486, 0.8664, 0.0000],\n",
       "         [0.9260, 0.0000, 0.0000, 0.7639, 0.8212, 0.0000],\n",
       "         [0.8628, 0.0000, 0.0000, 0.7953, 0.8516, 0.0000],\n",
       "         [0.8926, 0.0000, 0.0000, 0.7496, 0.8569, 0.0000],\n",
       "         [0.8976, 0.0000, 0.0000, 0.7341, 0.8751, 0.0000],\n",
       "         [0.8785, 0.0000, 0.0000, 0.0000, 0.8483, 0.0000],\n",
       "         [0.8718, 0.0000, 0.0000, 0.0000, 0.7545, 0.0000],\n",
       "         [0.9543, 0.0000, 0.0000, 0.0000, 0.7716, 0.0000],\n",
       "         [0.9092, 0.0000, 0.0000, 0.0000, 0.0000, 0.0000],\n",
       "         [0.9167, 0.0000, 0.0000, 0.0000, 0.0000, 0.0000],\n",
       "         [0.9021, 0.0000, 0.0000, 0.0000, 0.0000, 0.0000],\n",
       "         [0.9285, 0.0000, 0.0000, 0.0000, 0.0000, 0.0000],\n",
       "         [0.9119, 0.0000, 0.0000, 0.0000, 0.0000, 0.0000],\n",
       "         [0.9068, 0.0000, 0.0000, 0.0000, 0.0000, 0.0000]],\n",
       "\n",
       "        [[0.0000, 0.0000, 0.0000, 0.0000, 0.0000, 0.0000],\n",
       "         [0.0000, 0.0000, 0.0000, 0.0000, 0.0000, 0.0000],\n",
       "         [1.0000, 0.0000, 0.0000, 0.0000, 0.0000, 0.0000],\n",
       "         [1.0000, 0.0000, 0.0000, 0.0000, 0.0000, 0.0000],\n",
       "         [1.0000, 1.0000, 0.0000, 0.0000, 0.0000, 0.0000],\n",
       "         [1.0000, 1.0000, 0.0000, 0.0000, 0.0000, 0.0000],\n",
       "         [1.0000, 1.0000, 0.0000, 0.5000, 0.0000, 0.0000],\n",
       "         [1.0000, 1.0000, 0.0000, 0.0000, 0.0000, 0.0000],\n",
       "         [1.0000, 1.0000, 0.0000, 0.0000, 0.0000, 0.0000],\n",
       "         [1.0000, 1.0000, 0.0000, 0.0000, 0.0000, 0.0000],\n",
       "         [1.0000, 0.5000, 0.0000, 0.0000, 0.0000, 0.0000],\n",
       "         [1.0000, 0.5000, 0.0000, 1.0000, 0.0000, 0.0000],\n",
       "         [1.0000, 0.0000, 1.0000, 1.0000, 1.0000, 0.0000],\n",
       "         [1.0000, 0.0000, 1.0000, 1.0000, 1.0000, 0.0000],\n",
       "         [1.0000, 0.0000, 0.5000, 1.0000, 1.0000, 0.0000],\n",
       "         [1.0000, 0.0000, 0.5000, 0.5000, 1.0000, 0.0000],\n",
       "         [1.0000, 0.0000, 0.0000, 0.5000, 1.0000, 0.0000],\n",
       "         [1.0000, 0.0000, 0.0000, 0.5000, 1.0000, 0.0000],\n",
       "         [1.0000, 0.0000, 0.0000, 0.5000, 1.0000, 0.0000],\n",
       "         [1.0000, 0.0000, 0.0000, 0.5000, 0.5000, 0.0000],\n",
       "         [1.0000, 0.0000, 0.0000, 0.0000, 0.5000, 0.0000],\n",
       "         [1.0000, 0.0000, 0.0000, 0.0000, 0.0000, 0.0000],\n",
       "         [1.0000, 0.0000, 0.0000, 0.0000, 0.5000, 0.0000],\n",
       "         [1.0000, 0.0000, 0.0000, 0.0000, 0.0000, 0.0000],\n",
       "         [1.0000, 0.0000, 0.0000, 0.0000, 0.0000, 0.0000],\n",
       "         [1.0000, 0.0000, 0.0000, 0.0000, 0.0000, 0.0000],\n",
       "         [1.0000, 0.0000, 0.0000, 0.0000, 0.0000, 0.0000],\n",
       "         [1.0000, 0.0000, 0.0000, 0.0000, 0.0000, 0.0000],\n",
       "         [1.0000, 0.0000, 0.0000, 0.0000, 0.0000, 0.0000]]])"
      ]
     },
     "execution_count": 163,
     "metadata": {},
     "output_type": "execute_result"
    }
   ],
   "source": [
    "merger_trees_consistent_generated[3]"
   ]
  },
  {
   "cell_type": "code",
   "execution_count": 162,
   "id": "74ad52fd",
   "metadata": {},
   "outputs": [
    {
     "data": {
      "text/plain": [
       "0.0034482758620689655"
      ]
     },
     "execution_count": 162,
     "metadata": {},
     "output_type": "execute_result"
    }
   ],
   "source": []
  },
  {
   "cell_type": "code",
   "execution_count": null,
   "id": "2f3dce87",
   "metadata": {},
   "outputs": [],
   "source": []
  },
  {
   "cell_type": "code",
   "execution_count": null,
   "id": "38a87d64",
   "metadata": {},
   "outputs": [],
   "source": []
  },
  {
   "cell_type": "code",
   "execution_count": 30,
   "id": "7ec6c2c1",
   "metadata": {
    "scrolled": true
   },
   "outputs": [
    {
     "name": "stdout",
     "output_type": "stream",
     "text": [
      "\n",
      "Dist:\n"
     ]
    },
    {
     "data": {
      "image/png": "[encoded data removed]",
      "text/plain": [
       "<Figure size 640x480 with 1 Axes>"
      ]
     },
     "metadata": {},
     "output_type": "display_data"
    },
    {
     "data": {
      "image/png": "[encoded data removed]",
      "text/plain": [
       "<Figure size 640x480 with 1 Axes>"
      ]
     },
     "metadata": {},
     "output_type": "display_data"
    },
    {
     "name": "stdout",
     "output_type": "stream",
     "text": [
      "\n",
      "Mass:\n"
     ]
    },
    {
     "data": {
      "image/png": "[encoded data removed]",
      "text/plain": [
       "<Figure size 640x480 with 1 Axes>"
      ]
     },
     "metadata": {},
     "output_type": "display_data"
    },
    {
     "data": {
      "image/png": "[encoded data removed]",
      "text/plain": [
       "<Figure size 640x480 with 1 Axes>"
      ]
     },
     "metadata": {},
     "output_type": "display_data"
    },
    {
     "name": "stdout",
     "output_type": "stream",
     "text": [
      "\n",
      "Subhalo\n"
     ]
    },
    {
     "data": {
      "image/png": "[encoded data removed]",
      "text/plain": [
       "<Figure size 640x480 with 1 Axes>"
      ]
     },
     "metadata": {},
     "output_type": "display_data"
    },
    {
     "data": {
      "image/png": "[encoded data removed]",
      "text/plain": [
       "<Figure size 640x480 with 1 Axes>"
      ]
     },
     "metadata": {},
     "output_type": "display_data"
    }
   ],
   "source": [
    "im = random.randint(0, len(six_dataset_zero_one))\n",
    "image = six_dataset_zero_one[im : im + 16].to(dtype=torch.float32)\n",
    "\n",
    "recon_enc = encoder_big(image)\n",
    "recon = generator_big(recon_enc)\n",
    "\n",
    "\n",
    "i = random.randint(0, 15)\n",
    "\n",
    "\n",
    "for j in range(3):\n",
    "    if j == 0:\n",
    "        print(\"\\nDist:\")\n",
    "    elif j == 1:\n",
    "        print(\"\\nMass:\")\n",
    "    else:\n",
    "        print(\"\\nSubhalo\")\n",
    "    img1 = image[i][j].unsqueeze(0)\n",
    "    img1 = img1.permute(1, 2, 0).detach().numpy()\n",
    "    plt.imshow(img1)\n",
    "    plt.axis('off')  # Optional: Turn off axis ticks and labels\n",
    "    plt.show()\n",
    "\n",
    "    img2 = recon[i][j].unsqueeze(0)\n",
    "    img2 = img2.permute(1, 2, 0).detach().numpy()\n",
    "    plt.imshow(img2)\n",
    "    plt.axis('off')  # Optional: Turn off axis ticks and labels\n",
    "    plt.show()\n",
    "\n",
    "\n"
   ]
  },
  {
   "cell_type": "code",
   "execution_count": 105,
   "id": "f2688ee3",
   "metadata": {
    "scrolled": true
   },
   "outputs": [
    {
     "data": {
      "image/png": "[encoded data removed]",
      "text/plain": [
       "<Figure size 640x480 with 1 Axes>"
      ]
     },
     "metadata": {},
     "output_type": "display_data"
    },
    {
     "data": {
      "image/png": "[encoded data removed]",
      "text/plain": [
       "<Figure size 640x480 with 1 Axes>"
      ]
     },
     "metadata": {},
     "output_type": "display_data"
    }
   ],
   "source": [
    "recon_enc = encoder_big(image)[0]\n",
    "\n",
    "high = 1.0\n",
    "low = 0.0\n",
    "scale = 0.7\n",
    "\n",
    "uniform_noise = scale * torch.rand(latent_size) * (high - (low)) + (low)\n",
    "recon_enc1 = recon_enc + uniform_noise\n",
    "recon_enc1.mean()\n",
    "\n",
    "recon = generator_big(recon_enc1)[0]\n",
    "img1 = recon.permute(1, 2, 0).detach().numpy()\n",
    "plt.imshow(img1)\n",
    "plt.axis('off')  # Optional: Turn off axis ticks and labels\n",
    "plt.show()\n",
    "\n",
    "\n",
    "recon1 = generator_big(recon_enc)[0]\n",
    "img1 = recon1.permute(1, 2, 0).detach().numpy()\n",
    "plt.imshow(img1)\n",
    "plt.axis('off')  # Optional: Turn off axis ticks and labels\n",
    "plt.show()"
   ]
  },
  {
   "cell_type": "code",
   "execution_count": 185,
   "id": "4b098df6",
   "metadata": {
    "scrolled": true
   },
   "outputs": [
    {
     "data": {
      "image/png": "[encoded data removed]",
      "text/plain": [
       "<Figure size 640x480 with 1 Axes>"
      ]
     },
     "metadata": {},
     "output_type": "display_data"
    },
    {
     "data": {
      "image/png": "[encoded data removed]",
      "text/plain": [
       "<Figure size 640x480 with 1 Axes>"
      ]
     },
     "metadata": {},
     "output_type": "display_data"
    },
    {
     "data": {
      "image/png": "[encoded data removed]",
      "text/plain": [
       "<Figure size 640x480 with 1 Axes>"
      ]
     },
     "metadata": {},
     "output_type": "display_data"
    },
    {
     "data": {
      "image/png": "[encoded data removed]",
      "text/plain": [
       "<Figure size 640x480 with 1 Axes>"
      ]
     },
     "metadata": {},
     "output_type": "display_data"
    },
    {
     "data": {
      "image/png": "[encoded data removed]",
      "text/plain": [
       "<Figure size 640x480 with 1 Axes>"
      ]
     },
     "metadata": {},
     "output_type": "display_data"
    },
    {
     "data": {
      "image/png": "[encoded data removed]",
      "text/plain": [
       "<Figure size 640x480 with 1 Axes>"
      ]
     },
     "metadata": {},
     "output_type": "display_data"
    },
    {
     "data": {
      "image/png": "[encoded data removed]",
      "text/plain": [
       "<Figure size 640x480 with 1 Axes>"
      ]
     },
     "metadata": {},
     "output_type": "display_data"
    },
    {
     "data": {
      "image/png": "[encoded data removed]",
      "text/plain": [
       "<Figure size 640x480 with 1 Axes>"
      ]
     },
     "metadata": {},
     "output_type": "display_data"
    },
    {
     "data": {
      "image/png": "[encoded data removed]",
      "text/plain": [
       "<Figure size 640x480 with 1 Axes>"
      ]
     },
     "metadata": {},
     "output_type": "display_data"
    },
    {
     "data": {
      "image/png": "[encoded data removed]",
      "text/plain": [
       "<Figure size 640x480 with 1 Axes>"
      ]
     },
     "metadata": {},
     "output_type": "display_data"
    }
   ],
   "source": [
    "im = random.randint(0, len(dataset_one_one))\n",
    "image2 = dataset_one_one[im : im + 16].to(dtype=torch.float32)\n",
    "\n",
    "c1 = encoder_big(image)[9]\n",
    "c2 = encoder_big(image2)[13]\n",
    "\n",
    "for i in range(10):\n",
    "    c = i / 10 * c1 + (10 - i) / 10 * c2\n",
    "    recon = generator_big(c)[0]\n",
    "    img1 = recon.permute(1, 2, 0).detach().numpy()\n",
    "    plt.imshow(img1)\n",
    "    plt.axis('off')  # Optional: Turn off axis ticks and labels\n",
    "    plt.show()"
   ]
  },
  {
   "cell_type": "code",
   "execution_count": null,
   "id": "cddec539",
   "metadata": {},
   "outputs": [],
   "source": []
  },
  {
   "cell_type": "markdown",
   "id": "ed4abf1c",
   "metadata": {},
   "source": [
    "# boost consistency"
   ]
  },
  {
   "cell_type": "code",
   "execution_count": 42,
   "id": "31f92205",
   "metadata": {},
   "outputs": [
    {
     "data": {
      "image/png": "[encoded data removed]",
      "text/plain": [
       "<Figure size 1200x500 with 3 Axes>"
      ]
     },
     "metadata": {},
     "output_type": "display_data"
    }
   ],
   "source": [
    "import torch\n",
    "from useful_functions_notebook_14to18 import *\n",
    "from useful_functions_notebook_8to13 import variable_consistancy_check, mass_not_preserved_percentage_decrease, check_branch_length, analyze_data\n",
    "\n",
    "data = torch.load(\"models/attempt1/6_branch_generated_trees.pt\")\n",
    "\n",
    "dist = data[:, 0]\n",
    "mass = data[:, 1]\n",
    "subh = data[:, 2]\n",
    "\n",
    "fig, axs = plt.subplots(1, 3, figsize=(12, 5))\n",
    "\n",
    "# Display the first image in the first subplot\n",
    "axs[0].hist(dist.numpy().flatten(), bins = 50)\n",
    "axs[0].set_title('Distance')\n",
    "\n",
    "# Display the second image in the second subplot\n",
    "axs[1].hist(mass.numpy().flatten(), bins = 50)\n",
    "axs[1].set_title('Mass')\n",
    "\n",
    "# Display the second image in the second subplot\n",
    "axs[2].hist(subh.numpy().flatten(), bins = 50)\n",
    "axs[2].set_title('Subhalo')\n",
    "\n",
    "plt.show()"
   ]
  },
  {
   "cell_type": "code",
   "execution_count": 43,
   "id": "9293eb16",
   "metadata": {},
   "outputs": [
    {
     "name": "stdout",
     "output_type": "stream",
     "text": [
      "dist:\n",
      "Percentage of values between 0.1 and 0.2: 0.29%\n",
      "\n",
      "mass:\n",
      "Percentage of values between 0.1 and 0.5: 0.44%\n",
      "\n"
     ]
    }
   ],
   "source": [
    "# dist\n",
    "print(\"dist:\")\n",
    "lower_threshold = 0.1\n",
    "upper_threshold = 0.2\n",
    "count_between_thresholds = torch.sum((dist > lower_threshold) & (dist < upper_threshold)).item()\n",
    "total_elements = dist.numel()\n",
    "percentage_between_thresholds = (count_between_thresholds / total_elements) * 100\n",
    "print(f\"Percentage of values between {lower_threshold} and {upper_threshold}: {percentage_between_thresholds:.2f}%\\n\")\n",
    "\n",
    "print(\"mass:\")\n",
    "lower_threshold = 0.1\n",
    "upper_threshold = 0.5\n",
    "count_between_thresholds = torch.sum((mass > lower_threshold) & (mass < upper_threshold)).item()\n",
    "total_elements = mass.numel()\n",
    "percentage_between_thresholds = (count_between_thresholds / total_elements) * 100\n",
    "print(f\"Percentage of values between {lower_threshold} and {upper_threshold}: {percentage_between_thresholds:.2f}%\\n\")"
   ]
  },
  {
   "cell_type": "code",
   "execution_count": 44,
   "id": "c2c800e9",
   "metadata": {},
   "outputs": [
    {
     "name": "stdout",
     "output_type": "stream",
     "text": [
      "mass:\n",
      "Percentage of values below 0.6985: 1.00%\n",
      "\n",
      "==================================================================================================================================\n",
      "MASS:\n",
      "==================================================================================================================================\n",
      "monotonicity threshold = -1e-06% change\n",
      "number of occurences where mass is not preserved = 167759\n",
      "perc of occurences where mass is not preserved = 41.80% vs. 25.77% in training data\n",
      "\n",
      "\n",
      "\n",
      "\n",
      "monotonicity threshold = -0.01% change\n",
      "number of occurences where mass is not preserved = 127201\n",
      "perc of occurences where mass is not preserved = 31.70% vs. 11.12% in training data\n",
      "\n",
      "\n",
      "\n",
      "\n",
      "monotonicity threshold = -0.05% change\n",
      "number of occurences where mass is not preserved = 40945\n",
      "perc of occurences where mass is not preserved = 10.20% vs. 1.71% in training data\n",
      "\n",
      "\n",
      "\n",
      "\n",
      "monotonicity threshold = -0.1% change\n",
      "number of occurences where mass is not preserved = 13074\n",
      "perc of occurences where mass is not preserved = 3.26% vs. 0.32% in training data\n",
      "\n",
      "\n",
      "\n",
      "\n",
      "==================================================================================================================================\n",
      "==================================================================================================================================\n",
      "\n",
      "\n",
      "\n",
      "==================================================================================================================================\n",
      "DISTANCE:\n",
      "==================================================================================================================================\n",
      "total distance progentors = 277907 \n",
      "number of occurences where distance increase (not preserved) = 135253\n",
      "perc of occurences where mass increase (not preserved) = 48.67% vs. 49.67% in training data\n",
      "\n",
      "\n",
      "total branches where the last halo distance to main branche is not the lowest in the branch is =  18629\n",
      "percentage of all branches where the last halo distance to main branch is not the lowest in the branch is = 45.65% vs. 17.88% in training data\n",
      "\n",
      "\n",
      "jumps greater than 20.0% (negative or positive) = 21.71% of all jumps vs. 4.76% in training data\n",
      "==================================================================================================================================\n",
      "==================================================================================================================================\n",
      "\n",
      "\n",
      "\n",
      "==================================================================================================================================\n",
      "SUBHALO:\n",
      "==================================================================================================================================\n",
      "perc of branches where last progenitor type is not subhalo = 17.83% vs 14.52% in training data\n",
      "\n",
      "\n",
      "==================================================================================================================================\n",
      "==================================================================================================================================\n",
      "==================================================================================================================================\n",
      "Complexity:\n",
      "==================================================================================================================================\n",
      "number of images with 1 branches is: 0\n",
      "number of images with 2 branches is: 3\n",
      "number of images with 3 branches is: 52\n",
      "number of images with 4 branches is: 452\n",
      "number of images with 5 branches is: 2141\n",
      "number of images with 6 branches is: 5513\n",
      "number of images with 7 branches is: 0\n",
      "number of images with 8 branches is: 0\n",
      "number of images with 9 branches is: 0\n",
      "number of images with 10 branches is: 0\n",
      "\n",
      "total images = 8161\n",
      "\n",
      "average number of branches in an image = 5.61 vs. 7.12 in training data\n",
      "Average branch length = 10.43 vs. 9.06 in training data\n",
      "Average nonzero entries (progenitors) = 58.50 vs. 64.55 in training data\n",
      "==================================================================================================================================\n",
      "==================================================================================================================================\n",
      "\n",
      "\n",
      "\n",
      "\n",
      "\n",
      "Percentage of consistant images = 31.41%\n",
      "\n",
      "Inconsistency reasons:\n",
      "inconsistency due to zero / nonzero mistake = 42.73%\n",
      "inconsistency due to distance not zero in main branch =  0.04%\n",
      "inconsistency due to gap between branches =  37.67%\n",
      "inconsistency due to zgap in branch 63.25%\n",
      "inconsistency due to last descendant dont exist 0.66%\n",
      "\n",
      "Number of images with two or more inconsistencies = 2172, which is  38.80%\n",
      "That corresponds to 26.61% of all images\n",
      "\n",
      "\n",
      "Of all images, 29.31% have zero inconsistency\n",
      "Of all images, 0.02% have distance main branch inconsistency\n",
      "Of all images, 25.84% have gap between branches inconsistency\n",
      "Of all images, 43.39% have gap within branch inconsistency\n",
      "Of all images, 0.45% have last descendant inconsistency\n"
     ]
    }
   ],
   "source": [
    "data = transform_diffusion_image(data, d_thresh = 0.2, m_tresh = 0.5, s_low = 0.3, s_high = 0.77)\n",
    "\n",
    "original_min = 0.6985\n",
    "mass = data[:, 1]\n",
    "nonzero_indices = torch.nonzero(mass.flatten())\n",
    "nonzero_mass = mass.flatten()[nonzero_indices[:, 0]]\n",
    "print(\"mass:\")\n",
    "count_between_thresholds = torch.sum(nonzero_mass < original_min).item()\n",
    "total_elements = mass.numel()\n",
    "percentage_between_thresholds = (count_between_thresholds / total_elements) * 100\n",
    "print(f\"Percentage of values below {original_min}: {percentage_between_thresholds:.2f}%\\n\")\n",
    "\n",
    "variable_consistancy_check(data, False)\n",
    "avg_branch = check_branch_length(data)\n",
    "nearest_con, nearest_incon = check_consistency(data)"
   ]
  },
  {
   "cell_type": "code",
   "execution_count": 45,
   "id": "1ba8cb76",
   "metadata": {},
   "outputs": [
    {
     "name": "stdout",
     "output_type": "stream",
     "text": [
      "==================================================================================================================================\n",
      "MASS:\n",
      "==================================================================================================================================\n",
      "monotonicity threshold = -1e-06% change\n",
      "number of occurences where mass is not preserved = 52464\n",
      "perc of occurences where mass is not preserved = 41.39% vs. 25.77% in training data\n",
      "\n",
      "\n",
      "\n",
      "\n",
      "monotonicity threshold = -0.01% change\n",
      "number of occurences where mass is not preserved = 39657\n",
      "perc of occurences where mass is not preserved = 31.28% vs. 11.12% in training data\n",
      "\n",
      "\n",
      "\n",
      "\n",
      "monotonicity threshold = -0.05% change\n",
      "number of occurences where mass is not preserved = 12505\n",
      "perc of occurences where mass is not preserved = 9.86% vs. 1.71% in training data\n",
      "\n",
      "\n",
      "\n",
      "\n",
      "monotonicity threshold = -0.1% change\n",
      "number of occurences where mass is not preserved = 3763\n",
      "perc of occurences where mass is not preserved = 2.97% vs. 0.32% in training data\n",
      "\n",
      "\n",
      "\n",
      "\n",
      "==================================================================================================================================\n",
      "==================================================================================================================================\n",
      "\n",
      "\n",
      "\n",
      "==================================================================================================================================\n",
      "DISTANCE:\n",
      "==================================================================================================================================\n",
      "total distance progentors = 87349 \n",
      "number of occurences where distance increase (not preserved) = 42760\n",
      "perc of occurences where mass increase (not preserved) = 48.95% vs. 49.67% in training data\n",
      "\n",
      "\n",
      "total branches where the last halo distance to main branche is not the lowest in the branch is =  5751\n",
      "percentage of all branches where the last halo distance to main branch is not the lowest in the branch is = 44.88% vs. 17.88% in training data\n",
      "\n",
      "\n",
      "jumps greater than 20.0% (negative or positive) = 20.50% of all jumps vs. 4.76% in training data\n",
      "==================================================================================================================================\n",
      "==================================================================================================================================\n",
      "\n",
      "\n",
      "\n",
      "==================================================================================================================================\n",
      "SUBHALO:\n",
      "==================================================================================================================================\n",
      "perc of branches where last progenitor type is not subhalo = 18.70% vs 14.52% in training data\n",
      "\n",
      "\n",
      "==================================================================================================================================\n",
      "==================================================================================================================================\n",
      "==================================================================================================================================\n",
      "Complexity:\n",
      "==================================================================================================================================\n",
      "number of images with 1 branches is: 0\n",
      "number of images with 2 branches is: 0\n",
      "number of images with 3 branches is: 5\n",
      "number of images with 4 branches is: 53\n",
      "number of images with 5 branches is: 281\n",
      "number of images with 6 branches is: 2224\n",
      "number of images with 7 branches is: 0\n",
      "number of images with 8 branches is: 0\n",
      "number of images with 9 branches is: 0\n",
      "number of images with 10 branches is: 0\n",
      "\n",
      "total images = 2563\n",
      "\n",
      "average number of branches in an image = 5.84 vs. 7.12 in training data\n",
      "Average branch length = 10.00 vs. 9.06 in training data\n",
      "Average nonzero entries (progenitors) = 58.42 vs. 64.55 in training data\n",
      "==================================================================================================================================\n",
      "==================================================================================================================================\n",
      "\n",
      "\n",
      "\n",
      "\n",
      "\n",
      "Percentage of consistant images = 100.00%\n"
     ]
    }
   ],
   "source": [
    "variable_consistancy_check(nearest_con, False)\n",
    "avg_branch = check_branch_length(nearest_con)\n",
    "nearest_con, nearest_incon = check_consistency(nearest_con)"
   ]
  },
  {
   "cell_type": "code",
   "execution_count": 53,
   "id": "1e539e2c",
   "metadata": {},
   "outputs": [
    {
     "name": "stdout",
     "output_type": "stream",
     "text": [
      "Real images:\n"
     ]
    },
    {
     "data": {
      "image/png": "[encoded data removed]",
      "text/plain": [
       "<Figure size 640x480 with 1 Axes>"
      ]
     },
     "metadata": {},
     "output_type": "display_data"
    },
    {
     "data": {
      "image/png": "[encoded data removed]",
      "text/plain": [
       "<Figure size 640x480 with 1 Axes>"
      ]
     },
     "metadata": {},
     "output_type": "display_data"
    },
    {
     "name": "stdout",
     "output_type": "stream",
     "text": [
      "number of nonzero values = 468178\n",
      "Generated images:\n"
     ]
    },
    {
     "data": {
      "image/png": "[encoded data removed]",
      "text/plain": [
       "<Figure size 640x480 with 1 Axes>"
      ]
     },
     "metadata": {},
     "output_type": "display_data"
    },
    {
     "data": {
      "image/png": "[encoded data removed]",
      "text/plain": [
       "<Figure size 640x480 with 1 Axes>"
      ]
     },
     "metadata": {},
     "output_type": "display_data"
    },
    {
     "name": "stdout",
     "output_type": "stream",
     "text": [
      "number of nonzero values = 150372\n"
     ]
    },
    {
     "data": {
      "image/png": "[encoded data removed]",
      "text/plain": [
       "<Figure size 640x480 with 1 Axes>"
      ]
     },
     "metadata": {},
     "output_type": "display_data"
    },
    {
     "name": "stdout",
     "output_type": "stream",
     "text": [
      "Full distribution:\n",
      "KS Statistic: 0.13936593969197397\n",
      "P-value: 0.0\n",
      "\n",
      "According to regular significance level of 0.05:\n",
      "The distributions are significantly different (reject H0)\n",
      "\n",
      "According to large sample significance level of 0.05, giving significance level of 0.0022:\n",
      "The distributions are significantly different (reject H0), KS statistic 0.1394 > 0.0022\n"
     ]
    },
    {
     "data": {
      "image/png": "[encoded data removed]",
      "text/plain": [
       "<Figure size 640x480 with 1 Axes>"
      ]
     },
     "metadata": {},
     "output_type": "display_data"
    },
    {
     "name": "stdout",
     "output_type": "stream",
     "text": [
      "Nonzero distribution:\n",
      "KS Statistic: 0.024815501415875435\n",
      "P-value: 2.5536305744037238e-61\n",
      "\n",
      "According to regular significance level of 0.05:\n",
      "The distributions are significantly different (reject H0)\n",
      "\n",
      "According to large sample significance level of 0.05, giving significance level of 0.0040:\n",
      "The distributions are significantly different (reject H0), KS statistic 0.0248 > 0.0040\n"
     ]
    },
    {
     "data": {
      "text/plain": [
       "(0.13936593969197397, 0.024815501415875435)"
      ]
     },
     "execution_count": 53,
     "metadata": {},
     "output_type": "execute_result"
    }
   ],
   "source": [
    "ks_test(six_branches, nearest_con.detach(), dim = 2)"
   ]
  },
  {
   "cell_type": "code",
   "execution_count": 57,
   "id": "8a6a4bef",
   "metadata": {},
   "outputs": [
    {
     "data": {
      "text/plain": [
       "-0.0011000000000000003"
      ]
     },
     "execution_count": 57,
     "metadata": {},
     "output_type": "execute_result"
    }
   ],
   "source": [
    "0.0237-0.0248"
   ]
  },
  {
   "cell_type": "code",
   "execution_count": 21,
   "id": "f3a07c05",
   "metadata": {},
   "outputs": [
    {
     "name": "stdout",
     "output_type": "stream",
     "text": [
      "inconsistent images:\n",
      " image index = 0, inconsistent because gaps in branch 5 at row 21\n",
      " image index = 1, inconsistent because zero not same index: zero in 99.25% of same spots across channels\n",
      " image index = 1, inconsistent because gaps between branches 1 and 3 in channel 0\n",
      " image index = 1, inconsistent because gaps in branch 2 at row 13\n",
      " image index = 2, inconsistent because gaps in branch 4 at row 26\n",
      " image index = 3, inconsistent because zero not same index: zero in 99.07% of same spots across channels\n",
      " image index = 3, inconsistent because gaps in branch 2 at row 15\n",
      " image index = 4, inconsistent because gaps between branches 3 and 5 in channel 0\n",
      " image index = 5, inconsistent because gaps in branch 5 at row 19\n",
      " image index = 6, inconsistent because zero not same index: zero in 99.19% of same spots across channels\n",
      " image index = 6, inconsistent because gaps between branches 1 and 3 in channel 0\n",
      " image index = 6, inconsistent because gaps in branch 0 at row 8\n",
      " image index = 7, inconsistent because zero not same index: zero in 99.21% of same spots across channels\n",
      " image index = 8, inconsistent because zero not same index: zero in 99.19% of same spots across channels\n",
      " image index = 8, inconsistent because gaps in branch 4 at row 17\n",
      " image index = 9, inconsistent because gaps between branches 4 and 6 in channel 0\n",
      "\n",
      "\n",
      "Percentage of consistant images = 0.0%\n",
      "\n",
      "Inconsistency reasons:\n",
      "inconsistency due to zero / nonzero mistake = 50.00%\n",
      "inconsistency due to distance not zero in main branch =  0.00%\n",
      "inconsistency due to gap between branches =  40.00%\n",
      "inconsistency due to zgap in branch 70.00%\n",
      "inconsistency due to last descendant dont exist 0.00%\n",
      "\n",
      "Number of images with two or more inconsistencies = 4, which is  40.00%\n",
      "That corresponds to 40.00% of all images\n",
      "\n",
      "\n",
      "Of all images, 50.00% have zero inconsistency\n",
      "Of all images, 0.00% have distance main branch inconsistency\n",
      "Of all images, 40.00% have gap between branches inconsistency\n",
      "Of all images, 70.00% have gap within branch inconsistency\n",
      "Of all images, 0.00% have last descendant inconsistency\n"
     ]
    }
   ],
   "source": [
    "\n",
    "con, incon = check_consistency(nearest_incon[:10], True)\n"
   ]
  },
  {
   "cell_type": "code",
   "execution_count": 22,
   "id": "c5781357",
   "metadata": {},
   "outputs": [
    {
     "data": {
      "text/plain": [
       "tensor([[[0.0000, 0.0000, 0.0000, 0.0000, 0.0000, 0.0000],\n",
       "         [0.0000, 0.0000, 0.0000, 0.0000, 0.0000, 0.0000],\n",
       "         [0.0000, 0.0000, 0.0000, 0.0000, 0.0000, 0.0000],\n",
       "         [0.0000, 0.4168, 0.0000, 0.0000, 0.0000, 0.0000],\n",
       "         [0.0000, 0.3491, 0.0000, 0.0000, 0.0000, 0.0000],\n",
       "         [0.0000, 0.3994, 0.0000, 0.0000, 0.0000, 0.0000],\n",
       "         [0.0000, 0.4525, 0.0000, 0.0000, 0.0000, 0.0000],\n",
       "         [0.0000, 0.3521, 0.3607, 0.5326, 0.0000, 0.0000],\n",
       "         [0.0000, 0.3462, 0.4166, 0.4768, 0.0000, 0.0000],\n",
       "         [0.0000, 0.3512, 0.4462, 0.5082, 0.2578, 0.3582],\n",
       "         [0.0000, 0.0000, 0.4431, 0.5167, 0.5210, 0.0000],\n",
       "         [0.0000, 0.0000, 0.4637, 0.5818, 0.4979, 0.0000],\n",
       "         [0.0000, 0.0000, 0.4768, 0.5753, 0.4841, 0.0000],\n",
       "         [0.0000, 0.0000, 0.4103, 0.4953, 0.4359, 0.0000],\n",
       "         [0.0000, 0.0000, 0.3490, 0.4742, 0.4298, 0.0000],\n",
       "         [0.0000, 0.0000, 0.2929, 0.4290, 0.4171, 0.0000],\n",
       "         [0.0000, 0.0000, 0.2079, 0.3515, 0.4350, 0.0000],\n",
       "         [0.0000, 0.0000, 0.0000, 0.3622, 0.4851, 0.0000],\n",
       "         [0.0000, 0.0000, 0.0000, 0.4011, 0.5239, 0.0000],\n",
       "         [0.0000, 0.0000, 0.0000, 0.0000, 0.4494, 0.0000],\n",
       "         [0.0000, 0.0000, 0.0000, 0.0000, 0.5051, 0.4044],\n",
       "         [0.0000, 0.0000, 0.0000, 0.0000, 0.0000, 0.0000],\n",
       "         [0.0000, 0.0000, 0.0000, 0.0000, 0.0000, 0.0000],\n",
       "         [0.0000, 0.0000, 0.0000, 0.0000, 0.0000, 0.0000],\n",
       "         [0.0000, 0.0000, 0.0000, 0.0000, 0.0000, 0.0000],\n",
       "         [0.0000, 0.0000, 0.0000, 0.0000, 0.0000, 0.0000],\n",
       "         [0.0000, 0.0000, 0.0000, 0.0000, 0.0000, 0.0000],\n",
       "         [0.0000, 0.0000, 0.0000, 0.0000, 0.0000, 0.0000],\n",
       "         [0.0000, 0.0000, 0.0000, 0.0000, 0.0000, 0.0000]],\n",
       "\n",
       "        [[0.0000, 0.0000, 0.0000, 0.0000, 0.0000, 0.0000],\n",
       "         [0.0000, 0.0000, 0.0000, 0.0000, 0.0000, 0.0000],\n",
       "         [0.6348, 0.6241, 0.0000, 0.0000, 0.0000, 0.0000],\n",
       "         [0.6438, 0.6009, 0.0000, 0.0000, 0.0000, 0.0000],\n",
       "         [0.6636, 0.5983, 0.0000, 0.0000, 0.0000, 0.0000],\n",
       "         [0.6871, 0.6281, 0.0000, 0.0000, 0.0000, 0.0000],\n",
       "         [0.6681, 0.6051, 0.0000, 0.0000, 0.0000, 0.0000],\n",
       "         [0.6164, 0.6158, 0.6147, 0.6261, 0.0000, 0.0000],\n",
       "         [0.6212, 0.6097, 0.6228, 0.6494, 0.0000, 0.0000],\n",
       "         [0.6758, 0.6058, 0.6221, 0.5706, 0.0000, 0.0000],\n",
       "         [0.7028, 0.0000, 0.6548, 0.6158, 0.6222, 0.0000],\n",
       "         [0.7145, 0.0000, 0.6610, 0.6448, 0.6626, 0.0000],\n",
       "         [0.7598, 0.0000, 0.6655, 0.6659, 0.6657, 0.0000],\n",
       "         [0.7748, 0.0000, 0.6553, 0.6111, 0.7064, 0.0000],\n",
       "         [0.7933, 0.0000, 0.6716, 0.6104, 0.6952, 0.0000],\n",
       "         [0.7682, 0.0000, 0.6622, 0.5886, 0.6926, 0.0000],\n",
       "         [0.7274, 0.0000, 0.6458, 0.5871, 0.6964, 0.0000],\n",
       "         [0.7094, 0.0000, 0.0000, 0.5832, 0.6367, 0.0000],\n",
       "         [0.7006, 0.0000, 0.0000, 0.6338, 0.6075, 0.0000],\n",
       "         [0.7083, 0.0000, 0.0000, 0.0000, 0.6313, 0.0000],\n",
       "         [0.7234, 0.0000, 0.0000, 0.0000, 0.5661, 0.0000],\n",
       "         [0.7299, 0.0000, 0.0000, 0.0000, 0.0000, 0.0000],\n",
       "         [0.7158, 0.0000, 0.0000, 0.0000, 0.0000, 0.0000],\n",
       "         [0.7217, 0.0000, 0.0000, 0.0000, 0.0000, 0.0000],\n",
       "         [0.7264, 0.0000, 0.0000, 0.0000, 0.0000, 0.0000],\n",
       "         [0.7152, 0.0000, 0.0000, 0.0000, 0.0000, 0.0000],\n",
       "         [0.7146, 0.0000, 0.0000, 0.0000, 0.0000, 0.0000],\n",
       "         [0.7215, 0.0000, 0.0000, 0.0000, 0.0000, 0.0000],\n",
       "         [0.7388, 0.0000, 0.0000, 0.0000, 0.0000, 0.0000]],\n",
       "\n",
       "        [[0.0000, 0.0000, 0.0000, 0.0000, 0.0000, 0.0000],\n",
       "         [0.0000, 0.0000, 0.0000, 0.0000, 0.0000, 0.0000],\n",
       "         [1.0000, 0.5000, 0.0000, 0.0000, 0.0000, 0.0000],\n",
       "         [1.0000, 1.0000, 0.0000, 0.0000, 0.0000, 0.0000],\n",
       "         [1.0000, 0.5000, 0.0000, 0.0000, 0.0000, 0.0000],\n",
       "         [1.0000, 1.0000, 0.0000, 0.0000, 0.0000, 0.0000],\n",
       "         [0.5000, 1.0000, 0.5000, 0.0000, 0.0000, 0.0000],\n",
       "         [0.5000, 1.0000, 1.0000, 1.0000, 0.0000, 0.0000],\n",
       "         [1.0000, 0.5000, 1.0000, 1.0000, 0.0000, 0.0000],\n",
       "         [1.0000, 0.5000, 1.0000, 1.0000, 0.5000, 0.5000],\n",
       "         [1.0000, 0.0000, 1.0000, 1.0000, 1.0000, 0.0000],\n",
       "         [1.0000, 0.0000, 1.0000, 1.0000, 1.0000, 0.0000],\n",
       "         [1.0000, 0.0000, 1.0000, 1.0000, 1.0000, 0.0000],\n",
       "         [1.0000, 0.0000, 0.5000, 0.5000, 1.0000, 0.0000],\n",
       "         [1.0000, 0.0000, 0.5000, 0.5000, 1.0000, 0.0000],\n",
       "         [1.0000, 0.0000, 0.5000, 0.5000, 1.0000, 0.0000],\n",
       "         [0.5000, 0.0000, 0.5000, 0.5000, 1.0000, 0.0000],\n",
       "         [1.0000, 0.0000, 0.0000, 0.5000, 1.0000, 0.0000],\n",
       "         [1.0000, 0.0000, 0.0000, 0.5000, 1.0000, 0.0000],\n",
       "         [1.0000, 0.0000, 0.0000, 0.0000, 0.5000, 0.0000],\n",
       "         [1.0000, 0.0000, 0.0000, 0.0000, 0.5000, 0.5000],\n",
       "         [1.0000, 0.0000, 0.0000, 0.0000, 0.0000, 0.0000],\n",
       "         [1.0000, 0.0000, 0.0000, 0.0000, 0.0000, 0.0000],\n",
       "         [1.0000, 0.0000, 0.0000, 0.0000, 0.0000, 0.0000],\n",
       "         [1.0000, 0.0000, 0.0000, 0.0000, 0.0000, 0.0000],\n",
       "         [1.0000, 0.0000, 0.0000, 0.0000, 0.0000, 0.0000],\n",
       "         [1.0000, 0.0000, 0.0000, 0.0000, 0.0000, 0.0000],\n",
       "         [1.0000, 0.0000, 0.0000, 0.0000, 0.0000, 0.0000],\n",
       "         [1.0000, 0.0000, 0.0000, 0.0000, 0.0000, 0.0000]]])"
      ]
     },
     "execution_count": 22,
     "metadata": {},
     "output_type": "execute_result"
    }
   ],
   "source": [
    "nearest_incon[0]"
   ]
  },
  {
   "cell_type": "code",
   "execution_count": null,
   "id": "a36313f7",
   "metadata": {},
   "outputs": [],
   "source": []
  },
  {
   "cell_type": "code",
   "execution_count": null,
   "id": "f7a51228",
   "metadata": {},
   "outputs": [],
   "source": []
  }
 ],
 "metadata": {
  "kernelspec": {
   "display_name": "Python 3 (ipykernel)",
   "language": "python",
   "name": "python3"
  },
  "language_info": {
   "codemirror_mode": {
    "name": "ipython",
    "version": 3
   },
   "file_extension": ".py",
   "mimetype": "text/x-python",
   "name": "python",
   "nbconvert_exporter": "python",
   "pygments_lexer": "ipython3",
   "version": "3.11.4"
  }
 },
 "nbformat": 4,
 "nbformat_minor": 5
}
