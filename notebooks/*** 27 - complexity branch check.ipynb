{
 "cells": [
  {
   "cell_type": "code",
   "execution_count": 1,
   "id": "d291383a",
   "metadata": {},
   "outputs": [],
   "source": [
    "import matplotlib.pyplot as plt\n",
    "import numpy as np\n",
    "import torch\n",
    "import math\n",
    "import random\n",
    "from PIL import Image\n",
    "from useful_functions_notebook_14to18 import *\n",
    "from useful_functions_notebook_8to13 import variable_consistancy_check, mass_not_preserved_percentage_decrease, check_branch_length, analyze_data\n",
    "import warnings\n",
    "warnings.filterwarnings('ignore')\n",
    "transform = transforms.Resize((29, 10))"
   ]
  },
  {
   "cell_type": "code",
   "execution_count": 3,
   "id": "645712a4",
   "metadata": {},
   "outputs": [],
   "source": [
    "nearest_exact = torch.load(\"../testing/interpolation/nearest_exact_consistent.pt\")\n",
    "dataset = torch.load(\"data/dataset_normalized_consistent_only.pt\")"
   ]
  },
  {
   "cell_type": "code",
   "execution_count": 4,
   "id": "6d20a7e4",
   "metadata": {},
   "outputs": [
    {
     "name": "stdout",
     "output_type": "stream",
     "text": [
      "number of images with 1 branches is: 0\n",
      "number of images with 2 branches is: 0\n",
      "number of images with 3 branches is: 0\n",
      "number of images with 4 branches is: 0\n",
      "number of images with 5 branches is: 7575\n",
      "number of images with 6 branches is: 8012\n",
      "number of images with 7 branches is: 7138\n",
      "number of images with 8 branches is: 5990\n",
      "number of images with 9 branches is: 4757\n",
      "number of images with 10 branches is: 3923\n",
      "double check that all images are counted: total images is 37395 = 37395\n"
     ]
    }
   ],
   "source": [
    "\n",
    "one_branch = []\n",
    "two_branch = []\n",
    "three_branch = []\n",
    "four_branch = []\n",
    "five_branch = []\n",
    "six_branch = []\n",
    "seven_branch = []\n",
    "eight_branch = []\n",
    "nine_branch = []\n",
    "ten_branch = []\n",
    "\n",
    "for datapoint in dataset:\n",
    "    one_channel = datapoint[1]\n",
    "    branches = torch.count_nonzero(one_channel, dim=0)\n",
    "    num_branch = torch.count_nonzero(branches, dim=0)\n",
    "    if num_branch == 1:\n",
    "        one_branch.append(datapoint)\n",
    "    elif num_branch == 2:\n",
    "        two_branch.append(datapoint)\n",
    "    elif num_branch == 3:\n",
    "        three_branch.append(datapoint)\n",
    "    elif num_branch == 4:\n",
    "        four_branch.append(datapoint)\n",
    "    elif num_branch == 5:\n",
    "        five_branch.append(datapoint)\n",
    "    elif num_branch == 6:\n",
    "        six_branch.append(datapoint)\n",
    "    elif num_branch == 7:\n",
    "        seven_branch.append(datapoint)\n",
    "    elif num_branch == 8:\n",
    "        eight_branch.append(datapoint)\n",
    "    elif num_branch == 9:\n",
    "        nine_branch.append(datapoint)\n",
    "    elif num_branch == 10:\n",
    "        ten_branch.append(datapoint)\n",
    "        \n",
    "total = [one_branch, two_branch, three_branch, four_branch, five_branch,\n",
    "         six_branch, seven_branch, eight_branch, nine_branch, ten_branch]\n",
    "\n",
    "total_im = 0\n",
    "for i, branch_list in enumerate(total):\n",
    "    total_im += len(branch_list)\n",
    "    print(f\"number of images with {i + 1} branches is: {len(branch_list)}\")\n",
    "    \n",
    "print(f\"double check that all images are counted: total images is {total_im} = {dataset.shape[0]}\")"
   ]
  },
  {
   "cell_type": "code",
   "execution_count": 14,
   "id": "bbb10a26",
   "metadata": {},
   "outputs": [
    {
     "data": {
      "image/png": "[encoded data removed]",
      "text/plain": [
       "<Figure size 640x480 with 1 Axes>"
      ]
     },
     "metadata": {},
     "output_type": "display_data"
    }
   ],
   "source": [
    "plt.imshow(nearest_exact[0].permute(1, 2, 0))\n",
    "plt.show()"
   ]
  },
  {
   "cell_type": "code",
   "execution_count": 15,
   "id": "4db0403a",
   "metadata": {},
   "outputs": [
    {
     "name": "stdout",
     "output_type": "stream",
     "text": [
      "number of images with 1 branches is: 0\n",
      "number of images with 2 branches is: 0\n",
      "number of images with 3 branches is: 0\n",
      "number of images with 4 branches is: 4\n",
      "number of images with 5 branches is: 1164\n",
      "number of images with 6 branches is: 1793\n",
      "number of images with 7 branches is: 1693\n",
      "number of images with 8 branches is: 1399\n",
      "number of images with 9 branches is: 1390\n",
      "number of images with 10 branches is: 1476\n",
      "double check that all images are counted: total images is 0 = 8919\n"
     ]
    }
   ],
   "source": [
    "\n",
    "NE_one_branch = []\n",
    "NE_two_branch = []\n",
    "NE_three_branch = []\n",
    "NE_four_branch = []\n",
    "NE_five_branch = []\n",
    "NE_six_branch = []\n",
    "NE_seven_branch = []\n",
    "NE_eight_branch = []\n",
    "NE_nine_branch = []\n",
    "NE_ten_branch = []\n",
    "\n",
    "for datapoint in nearest_exact:\n",
    "    one_channel = datapoint[1]\n",
    "    branches = torch.count_nonzero(one_channel, dim=0)\n",
    "    num_branch = torch.count_nonzero(branches, dim=0)\n",
    "    if num_branch == 1:\n",
    "        NE_one_branch.append(datapoint)\n",
    "    elif num_branch == 2:\n",
    "        NE_two_branch.append(datapoint)\n",
    "    elif num_branch == 3:\n",
    "        NE_three_branch.append(datapoint)\n",
    "    elif num_branch == 4:\n",
    "        NE_four_branch.append(datapoint)\n",
    "    elif num_branch == 5:\n",
    "        NE_five_branch.append(datapoint)\n",
    "    elif num_branch == 6:\n",
    "        NE_six_branch.append(datapoint)\n",
    "    elif num_branch == 7:\n",
    "        NE_seven_branch.append(datapoint)\n",
    "    elif num_branch == 8:\n",
    "        NE_eight_branch.append(datapoint)\n",
    "    elif num_branch == 9:\n",
    "        NE_nine_branch.append(datapoint)\n",
    "    elif num_branch == 10:\n",
    "        NE_ten_branch.append(datapoint)\n",
    "        \n",
    "NE_total = [NE_one_branch, NE_two_branch, NE_three_branch, NE_four_branch, NE_five_branch,\n",
    "         NE_six_branch, NE_seven_branch, NE_eight_branch, NE_nine_branch, NE_ten_branch]\n",
    "\n",
    "NE_total_im = 0\n",
    "for i, branch_list in enumerate(NE_total):\n",
    "    total_im += len(branch_list)\n",
    "    print(f\"number of images with {i + 1} branches is: {len(branch_list)}\")\n",
    "    \n",
    "print(f\"double check that all images are counted: total images is {NE_total_im} = {nearest_exact.shape[0]}\")"
   ]
  },
  {
   "cell_type": "markdown",
   "id": "b64349a9",
   "metadata": {},
   "source": [
    "# six branches comparison"
   ]
  },
  {
   "cell_type": "code",
   "execution_count": 16,
   "id": "2df9054a",
   "metadata": {
    "scrolled": true
   },
   "outputs": [
    {
     "name": "stdout",
     "output_type": "stream",
     "text": [
      "\n",
      "\n",
      "Percentage of consistant images = 100.00%\n",
      "==================================================================================================================================\n",
      "Complexity:\n",
      "==================================================================================================================================\n",
      "number of images with 1 branches is: 0\n",
      "number of images with 2 branches is: 0\n",
      "number of images with 3 branches is: 0\n",
      "number of images with 4 branches is: 0\n",
      "number of images with 5 branches is: 0\n",
      "number of images with 6 branches is: 8012\n",
      "number of images with 7 branches is: 0\n",
      "number of images with 8 branches is: 0\n",
      "number of images with 9 branches is: 0\n",
      "number of images with 10 branches is: 0\n",
      "\n",
      "total images = 8012\n",
      "\n",
      "average number of branches in an image = 6.00 vs. 7.12 in training data\n",
      "Average branch length = 9.57 vs. 9.06 in training data\n",
      "Average nonzero entries (progenitors) = 57.41 vs. 64.55 in training data\n",
      "==================================================================================================================================\n",
      "==================================================================================================================================\n",
      "\n",
      "\n",
      "\n"
     ]
    }
   ],
   "source": [
    "six_con, six_incon = check_consistency(six)\n",
    "avg_branch = check_branch_length(six_con)"
   ]
  },
  {
   "cell_type": "code",
   "execution_count": 18,
   "id": "9b97c15f",
   "metadata": {
    "scrolled": true
   },
   "outputs": [
    {
     "name": "stdout",
     "output_type": "stream",
     "text": [
      "\n",
      "\n",
      "Percentage of consistant images = 100.00%\n",
      "==================================================================================================================================\n",
      "Complexity:\n",
      "==================================================================================================================================\n",
      "number of images with 1 branches is: 0\n",
      "number of images with 2 branches is: 0\n",
      "number of images with 3 branches is: 0\n",
      "number of images with 4 branches is: 0\n",
      "number of images with 5 branches is: 0\n",
      "number of images with 6 branches is: 1793\n",
      "number of images with 7 branches is: 0\n",
      "number of images with 8 branches is: 0\n",
      "number of images with 9 branches is: 0\n",
      "number of images with 10 branches is: 0\n",
      "\n",
      "total images = 1793\n",
      "\n",
      "average number of branches in an image = 6.00 vs. 7.12 in training data\n",
      "Average branch length = 10.10 vs. 9.06 in training data\n",
      "Average nonzero entries (progenitors) = 60.62 vs. 64.55 in training data\n",
      "==================================================================================================================================\n",
      "==================================================================================================================================\n",
      "\n",
      "\n",
      "\n"
     ]
    }
   ],
   "source": [
    "NE_six = torch.stack(NE_six_branch)\n",
    "NE_six_con, six_incon = check_consistency(NE_six)\n",
    "avg_branch = check_branch_length(NE_six_con)"
   ]
  },
  {
   "cell_type": "markdown",
   "id": "8dbdd293",
   "metadata": {},
   "source": [
    "# ten branches comparison"
   ]
  },
  {
   "cell_type": "code",
   "execution_count": 19,
   "id": "b2206ba0",
   "metadata": {},
   "outputs": [
    {
     "name": "stdout",
     "output_type": "stream",
     "text": [
      "\n",
      "\n",
      "Percentage of consistant images = 100.00%\n",
      "==================================================================================================================================\n",
      "Complexity:\n",
      "==================================================================================================================================\n",
      "number of images with 1 branches is: 0\n",
      "number of images with 2 branches is: 0\n",
      "number of images with 3 branches is: 0\n",
      "number of images with 4 branches is: 0\n",
      "number of images with 5 branches is: 0\n",
      "number of images with 6 branches is: 0\n",
      "number of images with 7 branches is: 0\n",
      "number of images with 8 branches is: 0\n",
      "number of images with 9 branches is: 0\n",
      "number of images with 10 branches is: 6875\n",
      "\n",
      "total images = 6875\n",
      "\n",
      "average number of branches in an image = 10.00 vs. 7.12 in training data\n",
      "Average branch length = 8.57 vs. 9.06 in training data\n",
      "Average nonzero entries (progenitors) = 85.67 vs. 64.55 in training data\n",
      "==================================================================================================================================\n",
      "==================================================================================================================================\n",
      "\n",
      "\n",
      "\n"
     ]
    }
   ],
   "source": [
    "ten = torch.stack(ten_branch)\n",
    "ten_con, ten_incon = check_consistency(ten)\n",
    "avg_branch = check_branch_length(ten_con)"
   ]
  },
  {
   "cell_type": "code",
   "execution_count": 22,
   "id": "a67a77f6",
   "metadata": {},
   "outputs": [
    {
     "name": "stdout",
     "output_type": "stream",
     "text": [
      "\n",
      "\n",
      "Percentage of consistant images = 100.00%\n",
      "==================================================================================================================================\n",
      "Complexity:\n",
      "==================================================================================================================================\n",
      "number of images with 1 branches is: 0\n",
      "number of images with 2 branches is: 0\n",
      "number of images with 3 branches is: 0\n",
      "number of images with 4 branches is: 0\n",
      "number of images with 5 branches is: 0\n",
      "number of images with 6 branches is: 0\n",
      "number of images with 7 branches is: 0\n",
      "number of images with 8 branches is: 0\n",
      "number of images with 9 branches is: 0\n",
      "number of images with 10 branches is: 1476\n",
      "\n",
      "total images = 1476\n",
      "\n",
      "average number of branches in an image = 10.00 vs. 7.12 in training data\n",
      "Average branch length = 8.77 vs. 9.06 in training data\n",
      "Average nonzero entries (progenitors) = 87.71 vs. 64.55 in training data\n",
      "==================================================================================================================================\n",
      "==================================================================================================================================\n",
      "\n",
      "\n",
      "\n"
     ]
    }
   ],
   "source": [
    "NE_ten = torch.stack(NE_ten_branch)\n",
    "NE_ten_con, six_incon = check_consistency(NE_ten)\n",
    "avg_branch = check_branch_length(NE_ten_con)"
   ]
  },
  {
   "cell_type": "code",
   "execution_count": null,
   "id": "1bf8407a",
   "metadata": {},
   "outputs": [],
   "source": []
  }
 ],
 "metadata": {
  "kernelspec": {
   "display_name": "Python 3 (ipykernel)",
   "language": "python",
   "name": "python3"
  },
  "language_info": {
   "codemirror_mode": {
    "name": "ipython",
    "version": 3
   },
   "file_extension": ".py",
   "mimetype": "text/x-python",
   "name": "python",
   "nbconvert_exporter": "python",
   "pygments_lexer": "ipython3",
   "version": "3.11.4"
  }
 },
 "nbformat": 4,
 "nbformat_minor": 5
}
