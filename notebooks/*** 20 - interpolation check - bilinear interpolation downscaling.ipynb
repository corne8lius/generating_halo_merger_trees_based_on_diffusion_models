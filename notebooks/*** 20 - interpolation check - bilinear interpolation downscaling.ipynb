version https://git-lfs.github.com/spec/v1
oid sha256:cdff52175f12a0f71ada09fbc84dde2df74a4002bcc51eeb535dc4a25c69cb76
size 2188594
