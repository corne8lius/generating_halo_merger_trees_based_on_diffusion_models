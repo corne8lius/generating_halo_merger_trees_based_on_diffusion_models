{
 "cells": [
  {
   "cell_type": "code",
   "execution_count": 8,
   "id": "4f1b523b",
   "metadata": {},
   "outputs": [],
   "source": [
    "import numpy as np\n",
    "import matplotlib.pyplot as plt\n",
    "from sklearn.decomposition import PCA\n",
    "from sklearn.manifold import TSNE\n",
    "import torch\n",
    "\n",
    "from useful_functions_notebook_7 import *\n",
    "from useful_functions_notebook_8to13 import *\n",
    "from useful_functions_notebook_14to18 import *"
   ]
  },
  {
   "cell_type": "markdown",
   "id": "ecb22ce1",
   "metadata": {},
   "source": [
    "# load model"
   ]
  },
  {
   "cell_type": "code",
   "execution_count": null,
   "id": "81ba4e4e",
   "metadata": {},
   "outputs": [],
   "source": [
    "latent_diffusion_name = \"diffusion_notebook/latent_diffusion/1.0/latent_diffusion_model1.0.pt\"\n",
    "encoder_path = \"diffusion_notebook/latent_diffusion/1.0/encoder_model1.0.pt\"\n",
    "\n",
    "\n",
    "nvar = 3\n",
    "num_branches = 10\n",
    "latent_dim = 300\n",
    "T = 1000\n",
    "\n",
    "\n",
    "encoder = Encoder(nvar, num_branches, latent_dim)\n",
    "latent_diffusion_model = SimpleUnet()\n",
    "\n",
    "saved_encoder_model = torch.load(encoder_path, map_location = device)\n",
    "encoder.load_state_dict(saved_encoder_model)\n",
    "\n",
    "saved_latent_model = torch.load(latent_diffusion_name, map_location = device)\n",
    "latent_diffusion_model.load_state_dict(saved_latent_model)"
   ]
  },
  {
   "cell_type": "code",
   "execution_count": 20,
   "id": "84586b20",
   "metadata": {},
   "outputs": [],
   "source": [
    "@torch.no_grad()\n",
    "def sample_timestep(model, x, t, betas):\n",
    "    \"\"\"\n",
    "    Calls the model to predict the noise in the image and returns \n",
    "    the denoised image. \n",
    "    Applies noise to this image, if we are not in the last step yet.\n",
    "    \"\"\"\n",
    "    # Pre-calculate different terms for closed form\n",
    "    alphas = 1. - betas\n",
    "    alphas_cumprod = torch.cumprod(alphas, axis=0)\n",
    "    alphas_cumprod_prev = F.pad(alphas_cumprod[:-1], (1, 0), value=1.0)\n",
    "    sqrt_recip_alphas = torch.sqrt(1.0 / alphas)\n",
    "    sqrt_alphas_cumprod = torch.sqrt(alphas_cumprod)\n",
    "    sqrt_one_minus_alphas_cumprod = torch.sqrt(1. - alphas_cumprod)\n",
    "    posterior_variance = betas * (1. - alphas_cumprod_prev) / (1. - alphas_cumprod)\n",
    "\n",
    "    betas_t = get_index_from_list(betas, t, x.shape)\n",
    "    \n",
    "    sqrt_one_minus_alphas_cumprod_t = get_index_from_list(sqrt_one_minus_alphas_cumprod, t, x.shape)\n",
    "    sqrt_recip_alphas_t = get_index_from_list(sqrt_recip_alphas, t, x.shape)\n",
    "    \n",
    "    # Call model (current image - noise prediction)\n",
    "    model_mean = sqrt_recip_alphas_t * (x - betas_t * model(x, t) / sqrt_one_minus_alphas_cumprod_t)\n",
    "    posterior_variance_t = get_index_from_list(posterior_variance, t, x.shape)\n",
    "    \n",
    "    if t == 0:\n",
    "        # As pointed out by Luis Pereira (see YouTube comment)\n",
    "        # The t's are offset from the t's in the paper\n",
    "        return model_mean\n",
    "    else:\n",
    "        noise = torch.randn_like(x)\n",
    "        return model_mean + torch.sqrt(posterior_variance_t) * noise \n",
    "\n",
    "@torch.no_grad()\n",
    "def sample_image(model, noise, T):\n",
    "    img = noise\n",
    "    betas = linear_beta_schedule(timesteps=T)\n",
    "    for i in range(0, T)[::-1]:\n",
    "        t = torch.full((1,), i, device=device, dtype=torch.long)\n",
    "        img = sample_timestep(model, img, t, betas)\n",
    "        # Edit: This is to maintain the natural range of the distribution\n",
    "        img = torch.clamp(img, -1.0, 1.0)\n",
    "\n",
    "    return img"
   ]
  },
  {
   "cell_type": "markdown",
   "id": "f82b98ae",
   "metadata": {},
   "source": [
    "# load data"
   ]
  },
  {
   "cell_type": "code",
   "execution_count": 10,
   "id": "c5e0bd55",
   "metadata": {},
   "outputs": [
    {
     "name": "stdout",
     "output_type": "stream",
     "text": [
      "number of images with 1 branches is: 0\n",
      "number of images with 2 branches is: 0\n",
      "number of images with 3 branches is: 0\n",
      "number of images with 4 branches is: 0\n",
      "number of images with 5 branches is: 7575\n",
      "number of images with 6 branches is: 8012\n",
      "number of images with 7 branches is: 7138\n",
      "number of images with 8 branches is: 5990\n",
      "number of images with 9 branches is: 4757\n",
      "number of images with 10 branches is: 3923\n",
      "double check that all images are counted: total images is 37395 = 37395\n"
     ]
    }
   ],
   "source": [
    "dataset = torch.load(\"data/dataset_normalized_consistent_only.pt\")\n",
    "one_branch = []\n",
    "two_branch = []\n",
    "three_branch = []\n",
    "four_branch = []\n",
    "five_branch = []\n",
    "six_branch = []\n",
    "seven_branch = []\n",
    "eight_branch = []\n",
    "nine_branch = []\n",
    "ten_branch = []\n",
    "\n",
    "for datapoint in dataset:\n",
    "    one_channel = datapoint[1]\n",
    "    branches = torch.count_nonzero(one_channel, dim=0)\n",
    "    num_branch = torch.count_nonzero(branches, dim=0)\n",
    "    if num_branch == 1:\n",
    "        one_branch.append(datapoint)\n",
    "    elif num_branch == 2:\n",
    "        two_branch.append(datapoint)\n",
    "    elif num_branch == 3:\n",
    "        three_branch.append(datapoint)\n",
    "    elif num_branch == 4:\n",
    "        four_branch.append(datapoint)\n",
    "    elif num_branch == 5:\n",
    "        five_branch.append(datapoint)\n",
    "    elif num_branch == 6:\n",
    "        six_branch.append(datapoint)\n",
    "    elif num_branch == 7:\n",
    "        seven_branch.append(datapoint)\n",
    "    elif num_branch == 8:\n",
    "        eight_branch.append(datapoint)\n",
    "    elif num_branch == 9:\n",
    "        nine_branch.append(datapoint)\n",
    "    elif num_branch == 10:\n",
    "        ten_branch.append(datapoint)\n",
    "        \n",
    "total = [one_branch, two_branch, three_branch, four_branch, five_branch,\n",
    "         six_branch, seven_branch, eight_branch, nine_branch, ten_branch]\n",
    "\n",
    "total_im = 0\n",
    "for i, branch_list in enumerate(total):\n",
    "    total_im += len(branch_list)\n",
    "    print(f\"number of images with {i + 1} branches is: {len(branch_list)}\")\n",
    "    \n",
    "print(f\"double check that all images are counted: total images is {total_im} = {dataset.shape[0]}\")"
   ]
  },
  {
   "cell_type": "markdown",
   "id": "be51d0d3",
   "metadata": {},
   "source": [
    "# PCA"
   ]
  },
  {
   "cell_type": "markdown",
   "id": "548d2206",
   "metadata": {},
   "source": [
    "### input merger tree of size (3, 29, 10)"
   ]
  },
  {
   "cell_type": "code",
   "execution_count": 11,
   "id": "dadeb967",
   "metadata": {},
   "outputs": [
    {
     "data": {
      "image/png": "[encoded data removed]",
      "text/plain": [
       "<Figure size 640x480 with 1 Axes>"
      ]
     },
     "metadata": {},
     "output_type": "display_data"
    }
   ],
   "source": [
    "num_samples = 10\n",
    "\n",
    "five = torch.stack(five_branch)[:num_samples].unsqueeze(0)\n",
    "six = torch.stack(six_branch)[:num_samples].unsqueeze(0)\n",
    "seven = torch.stack(seven_branch)[:num_samples].unsqueeze(0)\n",
    "eight = torch.stack(eight_branch)[:num_samples].unsqueeze(0)\n",
    "nine = torch.stack(nine_branch)[:num_samples].unsqueeze(0)\n",
    "ten = torch.stack(ten_branch)[:num_samples].unsqueeze(0)\n",
    "\n",
    "data = torch.cat([five, six, seven, eight, nine, ten], dim = 0)\n",
    "data = data.view(data.shape[0], data.shape[1], -1).numpy()\n",
    "\n",
    "colors = ['red', 'green', 'blue', 'violet', 'black', 'yellow']\n",
    "branches = [\"five\", \"six\", \"seven\", \"eight\", \"nine\", \"ten\"]\n",
    "\n",
    "\n",
    "# Perform PCA\n",
    "pca = PCA(n_components=2)  # Reduce to 2 components for visualization\n",
    "\n",
    "for i, data_set_branch in enumerate(data):\n",
    "    data_pca = data_set_branch\n",
    "    data_reduced = pca.fit_transform(data_pca)\n",
    "    plt.scatter(data_reduced[:, 0], data_reduced[:, 1], c=colors[i], label=f'{branches[i]} branches')\n",
    "\n",
    "plt.xlabel('Principal Component 1')\n",
    "plt.ylabel('Principal Component 2')\n",
    "plt.title('PCA Analysis')\n",
    "plt.legend()\n",
    "plt.show()"
   ]
  },
  {
   "cell_type": "markdown",
   "id": "7925f951",
   "metadata": {},
   "source": [
    "### latent representation of size 300"
   ]
  },
  {
   "cell_type": "code",
   "execution_count": 25,
   "id": "a24b8296",
   "metadata": {},
   "outputs": [
    {
     "name": "stdout",
     "output_type": "stream",
     "text": [
      "torch.Size([10, 300])\n",
      "torch.Size([10, 3, 10, 10])\n",
      "torch.Size([10, 3, 64, 64])\n"
     ]
    }
   ],
   "source": [
    "transform = transforms.Resize((64, 64))\n",
    "transform_back = transforms.Resize((10, 10))\n",
    "\n",
    "five_latent = encoder(five.squeeze().float())\n",
    "print(five_latent.shape)\n",
    "\n",
    "five_latent_view = five_latent.reshape(-1, 3, 10, 10)\n",
    "print(five_latent_view.shape)\n",
    "\n",
    "five_latent_reshape = transform(five_latent_view)\n",
    "print(five_latent_reshape.shape)"
   ]
  },
  {
   "cell_type": "code",
   "execution_count": 26,
   "id": "c847c2eb",
   "metadata": {},
   "outputs": [],
   "source": [
    "five_latent_out_test = sample_image(latent_diffusion_model, five_latent_reshape, T)"
   ]
  },
  {
   "cell_type": "code",
   "execution_count": 27,
   "id": "d73375cf",
   "metadata": {},
   "outputs": [
    {
     "name": "stdout",
     "output_type": "stream",
     "text": [
      "torch.Size([10, 3, 64, 64])\n",
      "torch.Size([10, 3, 10, 10])\n",
      "torch.Size([10, 300])\n"
     ]
    }
   ],
   "source": [
    "print(five_latent_reshape.shape)\n",
    "\n",
    "five_latent_out = transform_back(five_latent_out_test)\n",
    "print(five_latent_out.shape)\n",
    "\n",
    "five_latent_out_view = five_latent_out.reshape(-1, 300)\n",
    "print(five_latent_out_view.shape)\n"
   ]
  },
  {
   "cell_type": "code",
   "execution_count": null,
   "id": "ee671af7",
   "metadata": {},
   "outputs": [],
   "source": [
    "transform = transforms.Resize((64, 64))\n",
    "transform_back = transforms.Resize((10, 10))\n",
    "\n",
    "five_latent = encoder(five.squeeze().float())\n",
    "five_latent_view = five_latent.reshape(-1, 3, 10, 10)\n",
    "five_latent_reshape = transform(five_latent_view)\n",
    "five_latent_out_test = sample_image(latent_diffusion_model, five_latent_reshape, T)\n",
    "five_latent_out = transform_back(five_latent_out_test)\n",
    "five_latent_out_view = five_latent_out.reshape(-1, 300).unsqueeze(0)\n",
    "five_latent = five_latent_out_view\n",
    "\n",
    "six_latent = encoder(six.squeeze().float())\n",
    "six_latent_view = six_latent.reshape(-1, 3, 10, 10)\n",
    "six_latent_reshape = transform(six_latent_view)\n",
    "six_latent_out_test = sample_image(latent_diffusion_model, six_latent_reshape, T)\n",
    "six_latent_out = transform_back(six_latent_out_test)\n",
    "six_latent_out_view = six_latent_out.reshape(-1, 300).unsqueeze(0)\n",
    "six_latent = six_latent_out_view\n",
    "\n",
    "seven_latent = encoder(seven.squeeze().float())\n",
    "seven_latent_view = seven_latent.reshape(-1, 3, 10, 10)\n",
    "seven_latent_reshape = transform(seven_latent_view)\n",
    "seven_latent_out_test = sample_image(latent_diffusion_model, seven_latent_reshape, T)\n",
    "seven_latent_out = transform_back(seven_latent_out_test)\n",
    "seven_latent_out_view = seven_latent_out.reshape(-1, 300).unsqueeze(0)\n",
    "seven_latent = seven_latent_out_view\n",
    "\n",
    "eight_latent = encoder(eight.squeeze().float())\n",
    "eight_latent_view = eight_latent.reshape(-1, 3, 10, 10)\n",
    "eight_latent_reshape = transform(eight_latent_view)\n",
    "eight_latent_out_test = sample_image(latent_diffusion_model, eight_latent_reshape, T)\n",
    "eight_latent_out = transform_back(eight_latent_out_test)\n",
    "eight_latent_out_view = eight_latent_out.reshape(-1, 300).unsqueeze(0)\n",
    "eight_latent = eight_latent_out_view\n",
    "\n",
    "nine_latent = encoder(nine.squeeze().float())\n",
    "nine_latent_view = nine_latent.reshape(-1, 3, 10, 10)\n",
    "nine_latent_reshape = transform(nine_latent_view)\n",
    "nine_latent_out_test = sample_image(latent_diffusion_model, nine_latent_reshape, T)\n",
    "nine_latent_out = transform_back(nine_latent_out_test)\n",
    "nine_latent_out_view = nine_latent_out.reshape(-1, 300).unsqueeze(0)\n",
    "nine_latent = nine_latent_out_view\n",
    "\n",
    "ten_latent = encoder(ten.squeeze().float())\n",
    "ten_latent_view = ten_latent.reshape(-1, 3, 10, 10)\n",
    "ten_latent_reshape = transform(ten_latent_view)\n",
    "ten_latent_out_test = sample_image(latent_diffusion_model, ten_latent_reshape, T)\n",
    "ten_latent_out = transform_back(ten_latent_out_test)\n",
    "ten_latent_out_view = ten_latent_out.reshape(-1, 300).unsqueeze(0)\n",
    "ten_latent = ten_latent_out_view"
   ]
  },
  {
   "cell_type": "code",
   "execution_count": null,
   "id": "babae5f2",
   "metadata": {},
   "outputs": [],
   "source": [
    "five_latent = encoder(five.squeeze().float())\n",
    "six_latent = encoder(six.squeeze().float())\n",
    "seven_latent = encoder(seven.squeeze().float())\n",
    "eight_latent = encoder(eight.squeeze().float())\n",
    "nine_latent = encoder(nine.squeeze().float())\n",
    "ten_latent = encoder(ten.squeeze().float())\n",
    "\n",
    "data = torch.cat([five_latent, six_latent, seven_latent, eight_latent, nine_latent, ten_latent], dim = 0)\n",
    "\n",
    "colors = ['red', 'green', 'blue', 'violet', 'black', 'yellow']\n",
    "branches = [\"five\", \"six\", \"seven\", \"eight\", \"nine\", \"ten\"]\n",
    "\n",
    "# Perform PCA analysis\n",
    "pca = PCA(n_components=2)  # Reduce to 2 dimensions for visualization\n",
    "\n",
    "for i, data_set_branch in enumerate(data):\n",
    "    data_pca = data_set_branch.detach().numpy()\n",
    "    data_reduced = pca.fit_transform(data_pca)\n",
    "    plt.scatter(data_reduced[:, 0], data_reduced[:, 1], c=colors[i], label=f'{branches[i]} branches')\n",
    "\n",
    "plt.xlabel('Principal Component 1')\n",
    "plt.ylabel('Principal Component 2')\n",
    "plt.title('PCA Analysis')\n",
    "plt.legend()\n",
    "plt.show()"
   ]
  },
  {
   "cell_type": "markdown",
   "id": "61cc55ec",
   "metadata": {},
   "source": [
    "# t-SNE"
   ]
  },
  {
   "cell_type": "markdown",
   "id": "4e70cad5",
   "metadata": {},
   "source": [
    "### input merger tree of size (3, 29, 10)"
   ]
  },
  {
   "cell_type": "code",
   "execution_count": null,
   "id": "d4bbe181",
   "metadata": {},
   "outputs": [],
   "source": [
    "num_samples = 10\n",
    "\n",
    "five = torch.stack(five_branch)[:num_samples].unsqueeze(0)\n",
    "six = torch.stack(six_branch)[:num_samples].unsqueeze(0)\n",
    "seven = torch.stack(seven_branch)[:num_samples].unsqueeze(0)\n",
    "eight = torch.stack(eight_branch)[:num_samples].unsqueeze(0)\n",
    "nine = torch.stack(nine_branch)[:num_samples].unsqueeze(0)\n",
    "ten = torch.stack(ten_branch)[:num_samples].unsqueeze(0)\n",
    "\n",
    "data = torch.cat([five, six, seven, eight, nine, ten], dim = 0)\n",
    "data = data.view(data.shape[0], data.shape[1], -1).numpy()\n",
    "\n",
    "colors = ['red', 'green', 'blue', 'violet', 'black', 'yellow']\n",
    "branches = [\"five\", \"six\", \"seven\", \"eight\", \"nine\", \"ten\"]\n",
    "\n",
    "\n",
    "# Perform PCA\n",
    "\n",
    "tsne = TSNE(n_components=2, perplexity=num_samples - 5) \n",
    "\n",
    "for i, data_set_branch in enumerate(data):\n",
    "    data_t_sne = data_set_branch\n",
    "    data_tsne = tsne.fit_transform(data_t_sne)\n",
    "    plt.scatter(data_tsne[:, 0], data_tsne[:, 1], c=colors[i], label=f'{branches[i]} branches')\n",
    "    \n",
    "plt.xlabel('t-SNE Component 1')\n",
    "plt.ylabel('t-SNE Component 2')\n",
    "plt.title('t-SNE of Torch Tensor Data')\n",
    "plt.legend()\n",
    "plt.show()\n"
   ]
  },
  {
   "cell_type": "markdown",
   "id": "03c31e51",
   "metadata": {},
   "source": [
    "### latent representation of size 300"
   ]
  },
  {
   "cell_type": "code",
   "execution_count": null,
   "id": "d342e275",
   "metadata": {},
   "outputs": [],
   "source": [
    "five_latent = encoder(five.squeeze().float()).unsqueeze(0)\n",
    "six_latent = encoder(six.squeeze().float()).unsqueeze(0)\n",
    "seven_latent = encoder(seven.squeeze().float()).unsqueeze(0)\n",
    "eight_latent = encoder(eight.squeeze().float()).unsqueeze(0)\n",
    "nine_latent = encoder(nine.squeeze().float()).unsqueeze(0)\n",
    "ten_latent = encoder(ten.squeeze().float()).unsqueeze(0)\n",
    "\n",
    "data = torch.cat([five_latent, six_latent, seven_latent, eight_latent, nine_latent, ten_latent], dim = 0)\n",
    "\n",
    "colors = ['red', 'green', 'blue', 'violet', 'black', 'yellow']\n",
    "branches = [\"five\", \"six\", \"seven\", \"eight\", \"nine\", \"ten\"]\n",
    "\n",
    "\n",
    "tsne = TSNE(n_components=2, perplexity=num_samples - 9) \n",
    "\n",
    "for i, data_set_branch in enumerate(data):\n",
    "    data_t_sne = data_set_branch.detach().numpy()\n",
    "    data_tsne = tsne.fit_transform(data_t_sne)\n",
    "    plt.scatter(data_tsne[:, 0], data_tsne[:, 1], c=colors[i], label=f'{branches[i]} branches')\n",
    "    \n",
    "plt.xlabel('t-SNE Component 1')\n",
    "plt.ylabel('t-SNE Component 2')\n",
    "plt.title('t-SNE of Torch Tensor Data')\n",
    "plt.legend()\n",
    "plt.show()\n"
   ]
  }
 ],
 "metadata": {
  "kernelspec": {
   "display_name": "Python 3 (ipykernel)",
   "language": "python",
   "name": "python3"
  },
  "language_info": {
   "codemirror_mode": {
    "name": "ipython",
    "version": 3
   },
   "file_extension": ".py",
   "mimetype": "text/x-python",
   "name": "python",
   "nbconvert_exporter": "python",
   "pygments_lexer": "ipython3",
   "version": "3.11.4"
  }
 },
 "nbformat": 4,
 "nbformat_minor": 5
}
