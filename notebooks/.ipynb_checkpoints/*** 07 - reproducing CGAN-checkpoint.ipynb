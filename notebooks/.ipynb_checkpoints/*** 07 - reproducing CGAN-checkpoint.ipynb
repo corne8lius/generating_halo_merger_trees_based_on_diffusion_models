version https://git-lfs.github.com/spec/v1
oid sha256:221a2766c748d8991e9f5ce5b2634b0e7dc1d1394df1dafc1b80672dd8f9005a
size 4964188
