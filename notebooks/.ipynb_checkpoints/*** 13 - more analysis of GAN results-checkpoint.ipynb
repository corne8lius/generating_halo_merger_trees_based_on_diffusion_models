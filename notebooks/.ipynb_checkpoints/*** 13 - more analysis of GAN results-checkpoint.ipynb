{
 "cells": [
  {
   "cell_type": "code",
   "execution_count": 1,
   "id": "5c52ebc9",
   "metadata": {},
   "outputs": [
    {
     "data": {
      "text/html": [
       "<style>.container { width:70% !important; }</style>"
      ],
      "text/plain": [
       "<IPython.core.display.HTML object>"
      ]
     },
     "metadata": {},
     "output_type": "display_data"
    }
   ],
   "source": [
    "import pandas as pd\n",
    "import torch\n",
    "import torch.nn as nn\n",
    "import tqdm\n",
    "import torch.nn.functional as F\n",
    "import os\n",
    "import numpy as np\n",
    "import random\n",
    "import re\n",
    "from torch.utils.data import DataLoader\n",
    "import torchvision.transforms as transforms\n",
    "import torch.optim as optim\n",
    "import matplotlib.pyplot as plt\n",
    "from scipy.stats import ks_2samp\n",
    "import math\n",
    "import torchvision\n",
    "from IPython.display import display, HTML\n",
    "from IPython.display import display\n",
    "display(HTML(\"<style>.container { width:70% !important; }</style>\"))\n",
    "device = torch.device(\"cuda\" if torch.cuda.is_available() else \"cpu\")\n",
    "\n",
    "from useful_functions_notebook_8to13 import *"
   ]
  },
  {
   "cell_type": "code",
   "execution_count": 3,
   "id": "8a836855",
   "metadata": {},
   "outputs": [],
   "source": [
    "class Generator(nn.Module):\n",
    "    def __init__(self, nvar, nbr, latent_size):\n",
    "        super().__init__()\n",
    "\n",
    "        self.num_branches = nbr\n",
    "\n",
    "        self.layers = nn.Sequential(\n",
    "            nn.ConvTranspose2d(256, 128, kernel_size=(3, 1), stride=1),\n",
    "            nn.ELU(),\n",
    "            nn.ConvTranspose2d(128, 64, kernel_size=(3, 1), stride=1),\n",
    "            nn.ELU(),\n",
    "            nn.ConvTranspose2d(64, 32, kernel_size=(3, 1), stride=1),\n",
    "            nn.ELU(),\n",
    "            nn.ConvTranspose2d(32, 16, kernel_size=(1, 3), stride=1),\n",
    "            nn.ELU(),\n",
    "            nn.ConvTranspose2d(16, nvar, kernel_size=(1, 3), stride=1),\n",
    "            #nn.Sigmoid()\n",
    "            nn.ReLU()\n",
    "        )\n",
    "        \n",
    "        if self.num_branches == 6:\n",
    "            self.linear = nn.Linear(latent_size, 11776)\n",
    "        else:\n",
    "            self.linear = nn.Linear(latent_size, 35328)\n",
    "        self.elu = nn.ELU()\n",
    "\n",
    "    def forward(self, x):\n",
    "        x = self.elu(self.linear(x))\n",
    "        if self.num_branches == 6:\n",
    "            x = x.view(-1, 256, 23, 2)\n",
    "        else:\n",
    "            x = x.view(-1, 256, 23, 6)\n",
    "\n",
    "        return self.layers(x)\n",
    "        "
   ]
  },
  {
   "cell_type": "markdown",
   "id": "c0e9344e",
   "metadata": {},
   "source": [
    "# fox attempt 1: normalized data, relu, first full dataset success"
   ]
  },
  {
   "cell_type": "code",
   "execution_count": 4,
   "id": "a3f3e4d1",
   "metadata": {},
   "outputs": [
    {
     "data": {
      "text/plain": [
       "<All keys matched successfully>"
      ]
     },
     "execution_count": 4,
     "metadata": {},
     "output_type": "execute_result"
    }
   ],
   "source": [
    "gen_name = \"models/fox_attempt1/generator_fox_test.pt\"\n",
    "saved_generator1_state_dict = torch.load(gen_name, map_location = \"cpu\")\n",
    "generator_trained1 = saved_generator1_state_dict[\"generator\"]\n",
    "latent_dim1 = saved_generator1_state_dict[\"latent_space\"]\n",
    "num_branches1 = saved_generator1_state_dict[\"num_branches\"]\n",
    "nvar1 = saved_generator1_state_dict[\"nvar\"]\n",
    "\n",
    "model = Generator(nvar1, num_branches1, latent_dim1)\n",
    "model.load_state_dict(generator_trained1)"
   ]
  },
  {
   "cell_type": "code",
   "execution_count": 5,
   "id": "945ce775",
   "metadata": {
    "scrolled": true
   },
   "outputs": [
    {
     "name": "stdout",
     "output_type": "stream",
     "text": [
      "\n",
      "Run 1 / 10:\n",
      "reconstructed image:\n"
     ]
    },
    {
     "data": {
      "image/png": "[encoded data removed]",
      "text/plain": [
       "<Figure size 640x480 with 1 Axes>"
      ]
     },
     "metadata": {},
     "output_type": "display_data"
    },
    {
     "name": "stdout",
     "output_type": "stream",
     "text": [
      "generated 38348 images\n",
      "\n",
      "\n",
      "Percentage of consistant images = 35.39%\n",
      "\n",
      "Run 2 / 10:\n",
      "reconstructed image:\n"
     ]
    },
    {
     "data": {
      "image/png": "[encoded data removed]",
      "text/plain": [
       "<Figure size 640x480 with 1 Axes>"
      ]
     },
     "metadata": {},
     "output_type": "display_data"
    },
    {
     "name": "stdout",
     "output_type": "stream",
     "text": [
      "generated 38348 images\n",
      "\n",
      "\n",
      "Percentage of consistant images = 35.28%\n",
      "\n",
      "Run 3 / 10:\n",
      "reconstructed image:\n"
     ]
    },
    {
     "data": {
      "image/png": "[encoded data removed]",
      "text/plain": [
       "<Figure size 640x480 with 1 Axes>"
      ]
     },
     "metadata": {},
     "output_type": "display_data"
    },
    {
     "name": "stdout",
     "output_type": "stream",
     "text": [
      "generated 38348 images\n",
      "\n",
      "\n",
      "Percentage of consistant images = 35.86%\n",
      "\n",
      "Run 4 / 10:\n",
      "reconstructed image:\n"
     ]
    },
    {
     "data": {
      "image/png": "[encoded data removed]",
      "text/plain": [
       "<Figure size 640x480 with 1 Axes>"
      ]
     },
     "metadata": {},
     "output_type": "display_data"
    },
    {
     "name": "stdout",
     "output_type": "stream",
     "text": [
      "generated 38348 images\n",
      "\n",
      "\n",
      "Percentage of consistant images = 35.45%\n",
      "\n",
      "Run 5 / 10:\n",
      "reconstructed image:\n"
     ]
    },
    {
     "data": {
      "image/png": "[encoded data removed]",
      "text/plain": [
       "<Figure size 640x480 with 1 Axes>"
      ]
     },
     "metadata": {},
     "output_type": "display_data"
    },
    {
     "name": "stdout",
     "output_type": "stream",
     "text": [
      "generated 38348 images\n",
      "\n",
      "\n",
      "Percentage of consistant images = 35.24%\n",
      "\n",
      "Run 6 / 10:\n",
      "reconstructed image:\n"
     ]
    },
    {
     "data": {
      "image/png": "[encoded data removed]",
      "text/plain": [
       "<Figure size 640x480 with 1 Axes>"
      ]
     },
     "metadata": {},
     "output_type": "display_data"
    },
    {
     "name": "stdout",
     "output_type": "stream",
     "text": [
      "generated 38348 images\n",
      "\n",
      "\n",
      "Percentage of consistant images = 35.18%\n",
      "\n",
      "Run 7 / 10:\n",
      "reconstructed image:\n"
     ]
    },
    {
     "data": {
      "image/png": "[encoded data removed]",
      "text/plain": [
       "<Figure size 640x480 with 1 Axes>"
      ]
     },
     "metadata": {},
     "output_type": "display_data"
    },
    {
     "name": "stdout",
     "output_type": "stream",
     "text": [
      "generated 38348 images\n",
      "\n",
      "\n",
      "Percentage of consistant images = 35.87%\n",
      "\n",
      "Run 8 / 10:\n",
      "reconstructed image:\n"
     ]
    },
    {
     "data": {
      "image/png": "[encoded data removed]",
      "text/plain": [
       "<Figure size 640x480 with 1 Axes>"
      ]
     },
     "metadata": {},
     "output_type": "display_data"
    },
    {
     "name": "stdout",
     "output_type": "stream",
     "text": [
      "generated 38348 images\n",
      "\n",
      "\n",
      "Percentage of consistant images = 35.45%\n",
      "\n",
      "Run 9 / 10:\n",
      "reconstructed image:\n"
     ]
    },
    {
     "data": {
      "image/png": "[encoded data removed]",
      "text/plain": [
       "<Figure size 640x480 with 1 Axes>"
      ]
     },
     "metadata": {},
     "output_type": "display_data"
    },
    {
     "name": "stdout",
     "output_type": "stream",
     "text": [
      "generated 38348 images\n",
      "\n",
      "\n",
      "Percentage of consistant images = 35.44%\n",
      "\n",
      "Run 10 / 10:\n",
      "reconstructed image:\n"
     ]
    },
    {
     "data": {
      "image/png": "[encoded data removed]",
      "text/plain": [
       "<Figure size 640x480 with 1 Axes>"
      ]
     },
     "metadata": {},
     "output_type": "display_data"
    },
    {
     "name": "stdout",
     "output_type": "stream",
     "text": [
      "generated 38348 images\n",
      "\n",
      "\n",
      "Percentage of consistant images = 35.18%\n",
      "Constistancy average = 35.43%\n",
      "Constistancy min = 35.18%\n",
      "Constistancy max = 35.87%\n"
     ]
    }
   ],
   "source": [
    "dataset = torch.load(\"data/dataset_distlognorm_massnorm.pt\")\n",
    "consistancy = []\n",
    "for i in range(10):\n",
    "    print(f\"\\nRun {i + 1} / 10:\")\n",
    "    generated_images_model1 = create_generated_images(model, latent_dim1, dataset.shape, noise_uniform = True)\n",
    "    consist_data, inconsistent_images, percentage = check_consistency(generated_images_model1)\n",
    "    consistancy.append(percentage)\n",
    "    \n",
    "consistancy = torch.tensor(consistancy, dtype=torch.float32)\n",
    "    \n",
    "print(f\"Constistancy average = {consistancy.mean():.2f}%\")\n",
    "print(f\"Constistancy min = {consistancy.min():.2f}%\")\n",
    "print(f\"Constistancy max = {consistancy.max():.2f}%\")"
   ]
  },
  {
   "cell_type": "markdown",
   "id": "7d20e43c",
   "metadata": {},
   "source": [
    "# fox attempt 2: normalized data, sigmoid activation"
   ]
  },
  {
   "cell_type": "code",
   "execution_count": 6,
   "id": "fff6ac29",
   "metadata": {},
   "outputs": [
    {
     "name": "stdout",
     "output_type": "stream",
     "text": [
      "\n",
      "Run 1 / 10:\n",
      "reconstructed image:\n"
     ]
    },
    {
     "name": "stderr",
     "output_type": "stream",
     "text": [
      "Clipping input data to the valid range for imshow with RGB data ([0..1] for floats or [0..255] for integers).\n"
     ]
    },
    {
     "data": {
      "image/png": "[encoded data removed]",
      "text/plain": [
       "<Figure size 640x480 with 1 Axes>"
      ]
     },
     "metadata": {},
     "output_type": "display_data"
    },
    {
     "name": "stdout",
     "output_type": "stream",
     "text": [
      "generated 38348 images\n",
      "\n",
      "\n",
      "Percentage of consistant images = 0.29%\n",
      "\n",
      "Run 2 / 10:\n",
      "reconstructed image:\n"
     ]
    },
    {
     "name": "stderr",
     "output_type": "stream",
     "text": [
      "Clipping input data to the valid range for imshow with RGB data ([0..1] for floats or [0..255] for integers).\n"
     ]
    },
    {
     "data": {
      "image/png": "[encoded data removed]",
      "text/plain": [
       "<Figure size 640x480 with 1 Axes>"
      ]
     },
     "metadata": {},
     "output_type": "display_data"
    },
    {
     "name": "stdout",
     "output_type": "stream",
     "text": [
      "generated 38348 images\n",
      "\n",
      "\n",
      "Percentage of consistant images = 0.26%\n",
      "\n",
      "Run 3 / 10:\n",
      "reconstructed image:\n"
     ]
    },
    {
     "name": "stderr",
     "output_type": "stream",
     "text": [
      "Clipping input data to the valid range for imshow with RGB data ([0..1] for floats or [0..255] for integers).\n"
     ]
    },
    {
     "data": {
      "image/png": "[encoded data removed]",
      "text/plain": [
       "<Figure size 640x480 with 1 Axes>"
      ]
     },
     "metadata": {},
     "output_type": "display_data"
    },
    {
     "name": "stdout",
     "output_type": "stream",
     "text": [
      "generated 38348 images\n",
      "\n",
      "\n",
      "Percentage of consistant images = 0.32%\n",
      "\n",
      "Run 4 / 10:\n",
      "reconstructed image:\n"
     ]
    },
    {
     "name": "stderr",
     "output_type": "stream",
     "text": [
      "Clipping input data to the valid range for imshow with RGB data ([0..1] for floats or [0..255] for integers).\n"
     ]
    },
    {
     "data": {
      "image/png": "[encoded data removed]",
      "text/plain": [
       "<Figure size 640x480 with 1 Axes>"
      ]
     },
     "metadata": {},
     "output_type": "display_data"
    },
    {
     "name": "stdout",
     "output_type": "stream",
     "text": [
      "generated 38348 images\n",
      "\n",
      "\n",
      "Percentage of consistant images = 0.25%\n",
      "\n",
      "Run 5 / 10:\n",
      "reconstructed image:\n"
     ]
    },
    {
     "name": "stderr",
     "output_type": "stream",
     "text": [
      "Clipping input data to the valid range for imshow with RGB data ([0..1] for floats or [0..255] for integers).\n"
     ]
    },
    {
     "data": {
      "image/png": "[encoded data removed]",
      "text/plain": [
       "<Figure size 640x480 with 1 Axes>"
      ]
     },
     "metadata": {},
     "output_type": "display_data"
    },
    {
     "name": "stdout",
     "output_type": "stream",
     "text": [
      "generated 38348 images\n",
      "\n",
      "\n",
      "Percentage of consistant images = 0.31%\n",
      "\n",
      "Run 6 / 10:\n",
      "reconstructed image:\n"
     ]
    },
    {
     "name": "stderr",
     "output_type": "stream",
     "text": [
      "Clipping input data to the valid range for imshow with RGB data ([0..1] for floats or [0..255] for integers).\n"
     ]
    },
    {
     "data": {
      "image/png": "[encoded data removed]",
      "text/plain": [
       "<Figure size 640x480 with 1 Axes>"
      ]
     },
     "metadata": {},
     "output_type": "display_data"
    },
    {
     "name": "stdout",
     "output_type": "stream",
     "text": [
      "generated 38348 images\n",
      "\n",
      "\n",
      "Percentage of consistant images = 0.34%\n",
      "\n",
      "Run 7 / 10:\n"
     ]
    },
    {
     "name": "stderr",
     "output_type": "stream",
     "text": [
      "Clipping input data to the valid range for imshow with RGB data ([0..1] for floats or [0..255] for integers).\n"
     ]
    },
    {
     "name": "stdout",
     "output_type": "stream",
     "text": [
      "reconstructed image:\n"
     ]
    },
    {
     "data": {
      "image/png": "[encoded data removed]",
      "text/plain": [
       "<Figure size 640x480 with 1 Axes>"
      ]
     },
     "metadata": {},
     "output_type": "display_data"
    },
    {
     "name": "stdout",
     "output_type": "stream",
     "text": [
      "generated 38348 images\n",
      "\n",
      "\n",
      "Percentage of consistant images = 0.31%\n",
      "\n",
      "Run 8 / 10:\n",
      "reconstructed image:\n"
     ]
    },
    {
     "name": "stderr",
     "output_type": "stream",
     "text": [
      "Clipping input data to the valid range for imshow with RGB data ([0..1] for floats or [0..255] for integers).\n"
     ]
    },
    {
     "data": {
      "image/png": "[encoded data removed]",
      "text/plain": [
       "<Figure size 640x480 with 1 Axes>"
      ]
     },
     "metadata": {},
     "output_type": "display_data"
    },
    {
     "name": "stdout",
     "output_type": "stream",
     "text": [
      "generated 38348 images\n",
      "\n",
      "\n",
      "Percentage of consistant images = 0.27%\n",
      "\n",
      "Run 9 / 10:\n"
     ]
    },
    {
     "name": "stderr",
     "output_type": "stream",
     "text": [
      "Clipping input data to the valid range for imshow with RGB data ([0..1] for floats or [0..255] for integers).\n"
     ]
    },
    {
     "name": "stdout",
     "output_type": "stream",
     "text": [
      "reconstructed image:\n"
     ]
    },
    {
     "data": {
      "image/png": "[encoded data removed]",
      "text/plain": [
       "<Figure size 640x480 with 1 Axes>"
      ]
     },
     "metadata": {},
     "output_type": "display_data"
    },
    {
     "name": "stdout",
     "output_type": "stream",
     "text": [
      "generated 38348 images\n",
      "\n",
      "\n",
      "Percentage of consistant images = 0.23%\n",
      "\n",
      "Run 10 / 10:\n"
     ]
    },
    {
     "name": "stderr",
     "output_type": "stream",
     "text": [
      "Clipping input data to the valid range for imshow with RGB data ([0..1] for floats or [0..255] for integers).\n"
     ]
    },
    {
     "name": "stdout",
     "output_type": "stream",
     "text": [
      "reconstructed image:\n"
     ]
    },
    {
     "data": {
      "image/png": "[encoded data removed]",
      "text/plain": [
       "<Figure size 640x480 with 1 Axes>"
      ]
     },
     "metadata": {},
     "output_type": "display_data"
    },
    {
     "name": "stdout",
     "output_type": "stream",
     "text": [
      "generated 38348 images\n",
      "\n",
      "\n",
      "Percentage of consistant images = 0.31%\n",
      "Constistancy average = 0.29%\n",
      "Constistancy min = 0.23%\n",
      "Constistancy max = 0.34%\n"
     ]
    }
   ],
   "source": [
    "gen_name = \"models/fox_attempt2/generator_fox_norm_data_sigmoid.pt\"\n",
    "saved_generator1_state_dict = torch.load(gen_name, map_location = \"cpu\")\n",
    "generator_trained1 = saved_generator1_state_dict[\"generator\"]\n",
    "latent_dim1 = saved_generator1_state_dict[\"latent_space\"]\n",
    "num_branches1 = saved_generator1_state_dict[\"num_branches\"]\n",
    "nvar1 = saved_generator1_state_dict[\"nvar\"]\n",
    "\n",
    "model = Generator(nvar1, num_branches1, latent_dim1)\n",
    "model.load_state_dict(generator_trained1)\n",
    "\n",
    "dataset = torch.load(\"data/dataset_distlognorm_massnorm.pt\")\n",
    "consistancy = []\n",
    "for i in range(10):\n",
    "    print(f\"\\nRun {i + 1} / 10:\")\n",
    "    generated_images_model1 = create_generated_images(model, latent_dim1, dataset.shape, noise_uniform = True)\n",
    "    consist_data, inconsistent_images, percentage = check_consistency(generated_images_model1)\n",
    "    consistancy.append(percentage)\n",
    "    \n",
    "consistancy = torch.tensor(consistancy, dtype=torch.float32)\n",
    "    \n",
    "print(f\"Constistancy average = {consistancy.mean():.2f}%\")\n",
    "print(f\"Constistancy min = {consistancy.min():.2f}%\")\n",
    "print(f\"Constistancy max = {consistancy.max():.2f}%\")"
   ]
  },
  {
   "cell_type": "markdown",
   "id": "c7a839a9",
   "metadata": {},
   "source": [
    "# fox attempt 3: original data, relu function"
   ]
  },
  {
   "cell_type": "code",
   "execution_count": 7,
   "id": "cbc09bae",
   "metadata": {},
   "outputs": [
    {
     "name": "stdout",
     "output_type": "stream",
     "text": [
      "\n",
      "Run 1 / 10:\n"
     ]
    },
    {
     "name": "stderr",
     "output_type": "stream",
     "text": [
      "Clipping input data to the valid range for imshow with RGB data ([0..1] for floats or [0..255] for integers).\n"
     ]
    },
    {
     "name": "stdout",
     "output_type": "stream",
     "text": [
      "reconstructed image:\n"
     ]
    },
    {
     "data": {
      "image/png": "[encoded data removed]",
      "text/plain": [
       "<Figure size 640x480 with 1 Axes>"
      ]
     },
     "metadata": {},
     "output_type": "display_data"
    },
    {
     "name": "stdout",
     "output_type": "stream",
     "text": [
      "generated 38348 images\n",
      "\n",
      "\n",
      "Percentage of consistant images = 35.12%\n",
      "\n",
      "Run 2 / 10:\n",
      "reconstructed image:\n"
     ]
    },
    {
     "name": "stderr",
     "output_type": "stream",
     "text": [
      "Clipping input data to the valid range for imshow with RGB data ([0..1] for floats or [0..255] for integers).\n"
     ]
    },
    {
     "data": {
      "image/png": "[encoded data removed]",
      "text/plain": [
       "<Figure size 640x480 with 1 Axes>"
      ]
     },
     "metadata": {},
     "output_type": "display_data"
    },
    {
     "name": "stdout",
     "output_type": "stream",
     "text": [
      "generated 38348 images\n",
      "\n",
      "\n",
      "Percentage of consistant images = 35.24%\n",
      "\n",
      "Run 3 / 10:\n",
      "reconstructed image:\n"
     ]
    },
    {
     "name": "stderr",
     "output_type": "stream",
     "text": [
      "Clipping input data to the valid range for imshow with RGB data ([0..1] for floats or [0..255] for integers).\n"
     ]
    },
    {
     "data": {
      "image/png": "[encoded data removed]",
      "text/plain": [
       "<Figure size 640x480 with 1 Axes>"
      ]
     },
     "metadata": {},
     "output_type": "display_data"
    },
    {
     "name": "stdout",
     "output_type": "stream",
     "text": [
      "generated 38348 images\n",
      "\n",
      "\n",
      "Percentage of consistant images = 34.94%\n",
      "\n",
      "Run 4 / 10:\n"
     ]
    },
    {
     "name": "stderr",
     "output_type": "stream",
     "text": [
      "Clipping input data to the valid range for imshow with RGB data ([0..1] for floats or [0..255] for integers).\n"
     ]
    },
    {
     "name": "stdout",
     "output_type": "stream",
     "text": [
      "reconstructed image:\n"
     ]
    },
    {
     "data": {
      "image/png": "[encoded data removed]",
      "text/plain": [
       "<Figure size 640x480 with 1 Axes>"
      ]
     },
     "metadata": {},
     "output_type": "display_data"
    },
    {
     "name": "stdout",
     "output_type": "stream",
     "text": [
      "generated 38348 images\n",
      "\n",
      "\n",
      "Percentage of consistant images = 34.97%\n",
      "\n",
      "Run 5 / 10:\n",
      "reconstructed image:\n"
     ]
    },
    {
     "name": "stderr",
     "output_type": "stream",
     "text": [
      "Clipping input data to the valid range for imshow with RGB data ([0..1] for floats or [0..255] for integers).\n"
     ]
    },
    {
     "data": {
      "image/png": "[encoded data removed]",
      "text/plain": [
       "<Figure size 640x480 with 1 Axes>"
      ]
     },
     "metadata": {},
     "output_type": "display_data"
    },
    {
     "name": "stdout",
     "output_type": "stream",
     "text": [
      "generated 38348 images\n",
      "\n",
      "\n",
      "Percentage of consistant images = 35.14%\n",
      "\n",
      "Run 6 / 10:\n",
      "reconstructed image:\n"
     ]
    },
    {
     "name": "stderr",
     "output_type": "stream",
     "text": [
      "Clipping input data to the valid range for imshow with RGB data ([0..1] for floats or [0..255] for integers).\n"
     ]
    },
    {
     "data": {
      "image/png": "[encoded data removed]",
      "text/plain": [
       "<Figure size 640x480 with 1 Axes>"
      ]
     },
     "metadata": {},
     "output_type": "display_data"
    },
    {
     "name": "stdout",
     "output_type": "stream",
     "text": [
      "generated 38348 images\n",
      "\n",
      "\n",
      "Percentage of consistant images = 35.56%\n",
      "\n",
      "Run 7 / 10:\n",
      "reconstructed image:\n"
     ]
    },
    {
     "name": "stderr",
     "output_type": "stream",
     "text": [
      "Clipping input data to the valid range for imshow with RGB data ([0..1] for floats or [0..255] for integers).\n"
     ]
    },
    {
     "data": {
      "image/png": "[encoded data removed]",
      "text/plain": [
       "<Figure size 640x480 with 1 Axes>"
      ]
     },
     "metadata": {},
     "output_type": "display_data"
    },
    {
     "name": "stdout",
     "output_type": "stream",
     "text": [
      "generated 38348 images\n",
      "\n",
      "\n",
      "Percentage of consistant images = 35.28%\n",
      "\n",
      "Run 8 / 10:\n",
      "reconstructed image:\n"
     ]
    },
    {
     "name": "stderr",
     "output_type": "stream",
     "text": [
      "Clipping input data to the valid range for imshow with RGB data ([0..1] for floats or [0..255] for integers).\n"
     ]
    },
    {
     "data": {
      "image/png": "[encoded data removed]",
      "text/plain": [
       "<Figure size 640x480 with 1 Axes>"
      ]
     },
     "metadata": {},
     "output_type": "display_data"
    },
    {
     "name": "stdout",
     "output_type": "stream",
     "text": [
      "generated 38348 images\n",
      "\n",
      "\n",
      "Percentage of consistant images = 35.51%\n",
      "\n",
      "Run 9 / 10:\n",
      "reconstructed image:\n"
     ]
    },
    {
     "name": "stderr",
     "output_type": "stream",
     "text": [
      "Clipping input data to the valid range for imshow with RGB data ([0..1] for floats or [0..255] for integers).\n"
     ]
    },
    {
     "data": {
      "image/png": "[encoded data removed]",
      "text/plain": [
       "<Figure size 640x480 with 1 Axes>"
      ]
     },
     "metadata": {},
     "output_type": "display_data"
    },
    {
     "name": "stdout",
     "output_type": "stream",
     "text": [
      "generated 38348 images\n",
      "\n",
      "\n",
      "Percentage of consistant images = 35.52%\n",
      "\n",
      "Run 10 / 10:\n"
     ]
    },
    {
     "name": "stderr",
     "output_type": "stream",
     "text": [
      "Clipping input data to the valid range for imshow with RGB data ([0..1] for floats or [0..255] for integers).\n"
     ]
    },
    {
     "name": "stdout",
     "output_type": "stream",
     "text": [
      "reconstructed image:\n"
     ]
    },
    {
     "data": {
      "image/png": "[encoded data removed]",
      "text/plain": [
       "<Figure size 640x480 with 1 Axes>"
      ]
     },
     "metadata": {},
     "output_type": "display_data"
    },
    {
     "name": "stdout",
     "output_type": "stream",
     "text": [
      "generated 38348 images\n",
      "\n",
      "\n",
      "Percentage of consistant images = 35.14%\n",
      "Constistancy average = 35.24%\n",
      "Constistancy min = 34.94%\n",
      "Constistancy max = 35.56%\n"
     ]
    }
   ],
   "source": [
    "gen_name = \"models/fox_attempt3/generator_fox_original_data_relu.pt\"\n",
    "saved_generator1_state_dict = torch.load(gen_name, map_location = \"cpu\")\n",
    "generator_trained1 = saved_generator1_state_dict[\"generator\"]\n",
    "latent_dim1 = saved_generator1_state_dict[\"latent_space\"]\n",
    "num_branches1 = saved_generator1_state_dict[\"num_branches\"]\n",
    "nvar1 = saved_generator1_state_dict[\"nvar\"]\n",
    "\n",
    "model = Generator(nvar1, num_branches1, latent_dim1)\n",
    "model.load_state_dict(generator_trained1)\n",
    "\n",
    "dataset = torch.load(\"data/dataset_distlognorm_massnorm.pt\")\n",
    "consistancy = []\n",
    "for i in range(10):\n",
    "    print(f\"\\nRun {i + 1} / 10:\")\n",
    "    generated_images_model1 = create_generated_images(model, latent_dim1, dataset.shape, noise_uniform = True)\n",
    "    consist_data, inconsistent_images, percentage = check_consistency(generated_images_model1)\n",
    "    consistancy.append(percentage)\n",
    "    \n",
    "consistancy = torch.tensor(consistancy, dtype=torch.float32)\n",
    "    \n",
    "print(f\"Constistancy average = {consistancy.mean():.2f}%\")\n",
    "print(f\"Constistancy min = {consistancy.min():.2f}%\")\n",
    "print(f\"Constistancy max = {consistancy.max():.2f}%\")"
   ]
  },
  {
   "cell_type": "code",
   "execution_count": null,
   "id": "9d097b5e",
   "metadata": {},
   "outputs": [],
   "source": []
  }
 ],
 "metadata": {
  "kernelspec": {
   "display_name": "Python 3 (ipykernel)",
   "language": "python",
   "name": "python3"
  },
  "language_info": {
   "codemirror_mode": {
    "name": "ipython",
    "version": 3
   },
   "file_extension": ".py",
   "mimetype": "text/x-python",
   "name": "python",
   "nbconvert_exporter": "python",
   "pygments_lexer": "ipython3",
   "version": "3.11.4"
  }
 },
 "nbformat": 4,
 "nbformat_minor": 5
}
