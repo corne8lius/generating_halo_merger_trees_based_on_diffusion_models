version https://git-lfs.github.com/spec/v1
oid sha256:93d8e1e155e32b674b7b07f7872b43a043ceca9ee6d16a5a48b4facf5297ca8c
size 574370
