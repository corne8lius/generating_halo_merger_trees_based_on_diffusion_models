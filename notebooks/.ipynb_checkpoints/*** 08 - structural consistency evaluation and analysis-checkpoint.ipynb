version https://git-lfs.github.com/spec/v1
oid sha256:1cf85d31da7bc4b9e0b25b7081a7e3387c9f4d5f838e71030aae830cce85aef2
size 544770
