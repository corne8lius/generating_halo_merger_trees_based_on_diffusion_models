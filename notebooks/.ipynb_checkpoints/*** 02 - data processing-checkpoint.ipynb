{
 "cells": [
  {
   "cell_type": "code",
   "execution_count": 1,
   "id": "2e36b2c0",
   "metadata": {},
   "outputs": [
    {
     "data": {
      "text/html": [
       "<style>.container { width:70% !important; }</style>"
      ],
      "text/plain": [
       "<IPython.core.display.HTML object>"
      ]
     },
     "metadata": {},
     "output_type": "display_data"
    }
   ],
   "source": [
    "import pandas as pd\n",
    "import torch\n",
    "import torch.nn as nn\n",
    "import tqdm\n",
    "import torch.nn.functional as F\n",
    "import os\n",
    "import numpy as np\n",
    "import random\n",
    "import re\n",
    "from torch.utils.data import DataLoader\n",
    "import torchvision.transforms as transforms\n",
    "import torch.optim as optim\n",
    "import matplotlib.pyplot as plt\n",
    "import eagleSqlTools\n",
    "from torch.utils.tensorboard import SummaryWriter\n",
    "import torchvision\n",
    "from IPython.display import display, HTML\n",
    "from IPython.display import display\n",
    "display(HTML(\"<style>.container { width:70% !important; }</style>\"))\n",
    "\n",
    "from useful_functions_notebook_1to5 import *"
   ]
  },
  {
   "cell_type": "code",
   "execution_count": 2,
   "id": "468636d1",
   "metadata": {},
   "outputs": [],
   "source": [
    "dataset = torch.load('data/dataset.pt')"
   ]
  },
  {
   "cell_type": "code",
   "execution_count": 3,
   "id": "92522b2e",
   "metadata": {},
   "outputs": [
    {
     "name": "stdout",
     "output_type": "stream",
     "text": [
      "Are different data variables sorted the same: True\n",
      "Shape of merged tensor =  [3, 38348, 29, 10]\n",
      "This is equal to [num variables, num datapoints, rows, columns]\n",
      "The 3 variables are in the order: dist, mass, subh\n",
      "\n",
      "One image has size [(29, 10)] = [snapshot, branch]\n"
     ]
    }
   ],
   "source": [
    "dist_path = \"mtrees10_dist\"\n",
    "mass_path = \"mtrees10_mass\"\n",
    "subh_path = \"mtrees10_subh\"\n",
    "\n",
    "dist_df1 = read_folder(dist_path)\n",
    "mass_df1 = read_folder(mass_path)\n",
    "subh_df1 = read_folder(subh_path)\n",
    "\n",
    "idx_dist, dist_values = zip(*dist_df1)\n",
    "idx_mass, mass_values = zip(*mass_df1)\n",
    "idx_subhalo, subh_values = zip(*subh_df1)\n",
    "\n",
    "are_lists_same = idx_dist == idx_mass == idx_subhalo\n",
    "print(\"Are different data variables sorted the same:\", are_lists_same)\n",
    "\n",
    "dist_values = torch.stack(list(dist_values))\n",
    "mass_values = torch.stack(list(mass_values))\n",
    "subh_values = torch.stack(list(subh_values))\n",
    "\n",
    "dataset = torch.stack([dist_values, mass_values, subh_values])\n",
    "test_dataset = dataset\n",
    "\n",
    "snap = dataset.shape[2]\n",
    "branches = dataset.shape[3]\n",
    "\n",
    "print(\"Shape of merged tensor = \", [dim for dim in dataset.shape])\n",
    "print(\"This is equal to [num variables, num datapoints, rows, columns]\")\n",
    "print(\"The 3 variables are in the order: dist, mass, subh\\n\")\n",
    "\n",
    "print(f\"One image has size [{snap, branches}] = [snapshot, branch]\")"
   ]
  },
  {
   "cell_type": "code",
   "execution_count": 4,
   "id": "f59a7240",
   "metadata": {},
   "outputs": [
    {
     "name": "stdout",
     "output_type": "stream",
     "text": [
      "not minmax\n",
      "not minmax\n",
      "not normalize\n"
     ]
    }
   ],
   "source": [
    "test_dataset = dataset\n",
    "normalized_dataset_minus_one_one = normalize(test_dataset, False, [0, 1])"
   ]
  },
  {
   "cell_type": "code",
   "execution_count": 5,
   "id": "70e4cae0",
   "metadata": {},
   "outputs": [
    {
     "name": "stdout",
     "output_type": "stream",
     "text": [
      "Saved [-1,1] normalized dataset as dataset_minus_one_one.pt\n"
     ]
    }
   ],
   "source": [
    "dataset_minus_one_one = normalized_dataset_minus_one_one.permute(1, 0, 2 , 3)\n",
    "dataset_minus_one_one.shape\n",
    "torch.save(dataset_minus_one_one, 'data/dataset_minus_one_one.pt')\n",
    "print(\"Saved [-1,1] normalized dataset as dataset_minus_one_one.pt\")"
   ]
  },
  {
   "cell_type": "code",
   "execution_count": 6,
   "id": "e5d14411",
   "metadata": {},
   "outputs": [
    {
     "name": "stdout",
     "output_type": "stream",
     "text": [
      "minmax\n",
      "minmax\n",
      "not normalize\n",
      "torch.Size([3, 38348, 29, 10])\n",
      "min: tensor(0., dtype=torch.float64)\n",
      "max: tensor(1., dtype=torch.float64)\n",
      "torch.Size([38348, 3, 29, 10])\n"
     ]
    }
   ],
   "source": [
    "dataset = torch.load('data/dataset.pt')\n",
    "normalized_dataset_zero_one = normalize(test_dataset, True, [0, 1])\n",
    "print(normalized_dataset_zero_one.shape)\n",
    "print(\"min:\", normalized_dataset_zero_one.min())\n",
    "print(\"max:\", normalized_dataset_zero_one.max())\n",
    "dataset_zero_one = normalized_dataset_zero_one.permute(1, 0, 2, 3)\n",
    "print(dataset_zero_one.shape)"
   ]
  },
  {
   "cell_type": "code",
   "execution_count": 7,
   "id": "952d5f87",
   "metadata": {},
   "outputs": [
    {
     "name": "stdout",
     "output_type": "stream",
     "text": [
      "Saved [0,1] normalized dataset as dataset_zero_one.pt\n"
     ]
    }
   ],
   "source": [
    "#torch.save(dataset_zero_one, 'data/dataset_zero_one.pt')\n",
    "print(\"Saved [0,1] normalized dataset as dataset_zero_one.pt\")"
   ]
  },
  {
   "cell_type": "code",
   "execution_count": 8,
   "id": "eb752f14",
   "metadata": {},
   "outputs": [],
   "source": [
    "dataset_real_shape = dataset.permute(1, 0, 2, 3)\n",
    "five_channel = one_hot_encode_tensor(dataset_real_shape)"
   ]
  },
  {
   "cell_type": "code",
   "execution_count": 9,
   "id": "2c2fa5aa",
   "metadata": {},
   "outputs": [
    {
     "name": "stdout",
     "output_type": "stream",
     "text": [
      "Saved one-hot encoded dataset with 5 channels as five_channel_one_one.pt\n"
     ]
    }
   ],
   "source": [
    "#torch.save(five_channel, 'data/five_channel.pt')\n",
    "print(\"Saved one-hot encoded dataset with 5 channels as five_channel_one_one.pt\")"
   ]
  },
  {
   "cell_type": "code",
   "execution_count": 10,
   "id": "addf39c7",
   "metadata": {},
   "outputs": [
    {
     "data": {
      "text/plain": [
       "torch.Size([38348, 3, 29, 10])"
      ]
     },
     "execution_count": 10,
     "metadata": {},
     "output_type": "execute_result"
    }
   ],
   "source": [
    "dataset_standard_normalized = torch.load('data/dataset_distlognorm_massnorm.pt')\n",
    "dataset_standard_normalized.shape"
   ]
  },
  {
   "cell_type": "code",
   "execution_count": 11,
   "id": "1d3d323d",
   "metadata": {},
   "outputs": [
    {
     "name": "stdout",
     "output_type": "stream",
     "text": [
      "Saved\n"
     ]
    }
   ],
   "source": [
    "five_channel_standard_normalized =  one_hot_encode_tensor(dataset_standard_normalized)\n",
    "#torch.save(five_channel_standard_normalized, 'data/five_channel_distlognorm_massnorm.pt')\n",
    "print(\"Saved\")"
   ]
  },
  {
   "cell_type": "code",
   "execution_count": 12,
   "id": "b3453851",
   "metadata": {},
   "outputs": [
    {
     "name": "stdout",
     "output_type": "stream",
     "text": [
      "torch.Size([38348, 3, 29, 10])\n"
     ]
    }
   ],
   "source": [
    "dataset_one_one = torch.load('data/dataset_distlognorm_massnorm.pt')\n",
    "print(dataset_one_one.shape)\n",
    "assert dataset_one_one.shape == torch.Size([38348, 3, 29, 10])"
   ]
  },
  {
   "cell_type": "code",
   "execution_count": 15,
   "id": "9194105b",
   "metadata": {},
   "outputs": [
    {
     "name": "stdout",
     "output_type": "stream",
     "text": [
      "torch.Size([38348, 5, 29, 10])\n"
     ]
    }
   ],
   "source": [
    "five_channel = torch.load('data/five_channel_distlognorm_massnorm.pt')\n",
    "print(five_channel.shape)\n",
    "assert five_channel.shape == torch.Size([38348, 5, 29, 10])"
   ]
  },
  {
   "cell_type": "code",
   "execution_count": 16,
   "id": "05fd46e7",
   "metadata": {},
   "outputs": [],
   "source": [
    "assert torch.sum(five_channel[0, 2] + five_channel[0, 3] + five_channel[0, 4]) == 29 * 10"
   ]
  },
  {
   "cell_type": "code",
   "execution_count": 17,
   "id": "5a3ba567",
   "metadata": {},
   "outputs": [
    {
     "name": "stdout",
     "output_type": "stream",
     "text": [
      "torch.Size([38348, 3, 29, 10])\n",
      "reversed is identical to the original data before one hot encoding: True\n"
     ]
    }
   ],
   "source": [
    "reversed_data = reverse_one_hot_tensor(five_channel)\n",
    "print(reversed_data.shape)\n",
    "assert reversed_data.shape == torch.Size([38348, 3, 29, 10])\n",
    "assert torch.equal(dataset_one_one, reversed_data)\n",
    "print(\"reversed is identical to the original data before one hot encoding:\", torch.equal(dataset_one_one, reversed_data))"
   ]
  },
  {
   "cell_type": "code",
   "execution_count": 18,
   "id": "da1c49f7",
   "metadata": {},
   "outputs": [
    {
     "name": "stdout",
     "output_type": "stream",
     "text": [
      "tensor(0., dtype=torch.float64) tensor(1.0919, dtype=torch.float64) tensor(0.0070, dtype=torch.float64)\n",
      "tensor(0., dtype=torch.float64) tensor(10.8590, dtype=torch.float64) tensor(1.8114, dtype=torch.float64)\n"
     ]
    }
   ],
   "source": [
    "six = torch.load('data/six_branches_data.pt')\n",
    "dist = six[:, 0]\n",
    "mass = six[:, 1]\n",
    "print(dist.min(), dist.max(), dist.mean())\n",
    "print(mass.min(), mass.max(), mass.mean())"
   ]
  },
  {
   "cell_type": "code",
   "execution_count": 19,
   "id": "8ae079af",
   "metadata": {},
   "outputs": [
    {
     "name": "stdout",
     "output_type": "stream",
     "text": [
      "tensor(0., dtype=torch.float64) tensor(1., dtype=torch.float64) tensor(0.0633, dtype=torch.float64)\n",
      "tensor(0., dtype=torch.float64) tensor(1., dtype=torch.float64) tensor(0.1668, dtype=torch.float64)\n"
     ]
    }
   ],
   "source": [
    "min_values_mass = mass.min()\n",
    "max_values_mass = mass.max()\n",
    "mass_normalized = (mass - min_values_mass) / (max_values_mass - min_values_mass)\n",
    "\n",
    "six[:, 1] = mass_normalized\n",
    "\n",
    "\n",
    "def log_normalization(tensor, in_scale = 1, in_add = 1):\n",
    "    return torch.log10(in_scale * tensor + in_add)\n",
    "\n",
    "scale_in_dist = 1000\n",
    "\n",
    "log_normalized_dist = log_normalization(dist, in_scale = scale_in_dist)\n",
    "min_values_log_dist = log_normalized_dist.min()\n",
    "max_values_log_dist = log_normalized_dist.max()\n",
    "logg_dist_normalized = (log_normalized_dist - min_values_log_dist) / (max_values_log_dist - min_values_log_dist)\n",
    "\n",
    "six[:, 0] = logg_dist_normalized\n",
    "\n",
    "dist_norm = six[:, 0]\n",
    "mass_norm = six[:, 1]\n",
    "print(dist_norm.min(), dist_norm.max(), dist_norm.mean())\n",
    "print(mass_norm.min(), mass_norm.max(), mass_norm.mean())"
   ]
  },
  {
   "cell_type": "code",
   "execution_count": 20,
   "id": "2731c0da",
   "metadata": {},
   "outputs": [
    {
     "data": {
      "image/png": "[encoded data removed]",
      "text/plain": [
       "<Figure size 640x480 with 1 Axes>"
      ]
     },
     "metadata": {},
     "output_type": "display_data"
    },
    {
     "data": {
      "image/png": "[encoded data removed]",
      "text/plain": [
       "<Figure size 640x480 with 1 Axes>"
      ]
     },
     "metadata": {},
     "output_type": "display_data"
    }
   ],
   "source": [
    "dist_norm_indices = torch.nonzero(dist_norm.flatten())\n",
    "dist_norm_nonzero = dist_norm.flatten()[dist_norm_indices[:, 0]]\n",
    "plt.hist(dist_norm_nonzero.flatten().numpy(), bins=100, color='blue')\n",
    "\n",
    "# Customize the plot\n",
    "plt.xlabel('Values')\n",
    "plt.ylabel('Frequency')\n",
    "plt.title('Histogram of distance Values')\n",
    "\n",
    "# Show the plot\n",
    "plt.show()\n",
    "\n",
    "mass_norm_indices = torch.nonzero(mass_norm.flatten())\n",
    "mass_norm_nonzero = mass_norm.flatten()[mass_norm_indices[:, 0]]\n",
    "plt.hist(mass_norm_nonzero.flatten().numpy(), bins=100, color='blue')\n",
    "\n",
    "# Customize the plot\n",
    "plt.xlabel('Values')\n",
    "plt.ylabel('Frequency')\n",
    "plt.title('Histogram of mass Values')\n",
    "\n",
    "# Show the plot\n",
    "plt.show()"
   ]
  },
  {
   "cell_type": "code",
   "execution_count": 21,
   "id": "acf0b13f",
   "metadata": {},
   "outputs": [
    {
     "name": "stdout",
     "output_type": "stream",
     "text": [
      "saved\n"
     ]
    }
   ],
   "source": [
    "#torch.save(six, 'data/six_branch_norm.pt')\n",
    "print(\"saved\")"
   ]
  },
  {
   "cell_type": "code",
   "execution_count": null,
   "id": "5005a1c1",
   "metadata": {},
   "outputs": [],
   "source": []
  }
 ],
 "metadata": {
  "kernelspec": {
   "display_name": "Python 3 (ipykernel)",
   "language": "python",
   "name": "python3"
  },
  "language_info": {
   "codemirror_mode": {
    "name": "ipython",
    "version": 3
   },
   "file_extension": ".py",
   "mimetype": "text/x-python",
   "name": "python",
   "nbconvert_exporter": "python",
   "pygments_lexer": "ipython3",
   "version": "3.11.4"
  }
 },
 "nbformat": 4,
 "nbformat_minor": 5
}
