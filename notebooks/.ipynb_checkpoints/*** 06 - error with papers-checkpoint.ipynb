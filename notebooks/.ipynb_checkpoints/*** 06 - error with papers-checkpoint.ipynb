{
 "cells": [
  {
   "cell_type": "markdown",
   "id": "9c00fb5a",
   "metadata": {},
   "source": [
    "# load modules and random image"
   ]
  },
  {
   "cell_type": "code",
   "execution_count": 18,
   "id": "d503bed8",
   "metadata": {},
   "outputs": [
    {
     "data": {
      "text/html": [
       "<style>.container { width:70% !important; }</style>"
      ],
      "text/plain": [
       "<IPython.core.display.HTML object>"
      ]
     },
     "metadata": {},
     "output_type": "display_data"
    }
   ],
   "source": [
    "import pandas as pd\n",
    "import torch\n",
    "import torch.nn as nn\n",
    "import tqdm\n",
    "import torch.nn.functional as F\n",
    "import os\n",
    "import numpy as np\n",
    "import random\n",
    "import re\n",
    "from torch.utils.data import DataLoader\n",
    "import torchvision.transforms as transforms\n",
    "import torch.optim as optim\n",
    "import matplotlib.pyplot as plt\n",
    "import eagleSqlTools\n",
    "from torch.utils.tensorboard import SummaryWriter\n",
    "import torchvision\n",
    "from IPython.display import display, HTML\n",
    "display(HTML(\"<style>.container { width:70% !important; }</style>\"))"
   ]
  },
  {
   "cell_type": "code",
   "execution_count": 19,
   "id": "55d83708",
   "metadata": {},
   "outputs": [
    {
     "data": {
      "text/plain": [
       "torch.Size([38500, 3, 29, 10])"
      ]
     },
     "execution_count": 19,
     "metadata": {},
     "output_type": "execute_result"
    }
   ],
   "source": [
    "fake_dataset = torch.load('data/fake_dataset.pt')\n",
    "fake_dataset.shape"
   ]
  },
  {
   "cell_type": "code",
   "execution_count": 20,
   "id": "dfeee3d1",
   "metadata": {},
   "outputs": [],
   "source": [
    "#im = random.randint(0, len(fake_dataset))\n",
    "test = fake_dataset[0]"
   ]
  },
  {
   "cell_type": "markdown",
   "id": "eb14747d",
   "metadata": {},
   "source": [
    "# plot image, all channels"
   ]
  },
  {
   "cell_type": "code",
   "execution_count": 21,
   "id": "c44db7cd",
   "metadata": {},
   "outputs": [
    {
     "name": "stderr",
     "output_type": "stream",
     "text": [
      "Clipping input data to the valid range for imshow with RGB data ([0..1] for floats or [0..255] for integers).\n"
     ]
    },
    {
     "data": {
      "image/png": "[encoded data removed]",
      "text/plain": [
       "<Figure size 640x480 with 1 Axes>"
      ]
     },
     "metadata": {},
     "output_type": "display_data"
    },
    {
     "name": "stdout",
     "output_type": "stream",
     "text": [
      "dist min =  tensor(0., dtype=torch.float64)\n",
      "dist max =  tensor(0.1382, dtype=torch.float64)\n",
      "mass min =  tensor(0., dtype=torch.float64)\n",
      "mass max =  tensor(10.4085, dtype=torch.float64)\n",
      "subh min =  tensor(0., dtype=torch.float64)\n",
      "subh max =  tensor(1., dtype=torch.float64)\n"
     ]
    }
   ],
   "source": [
    "img1 = test\n",
    "img1 = img1.permute(1, 2, 0).numpy()\n",
    "plt.imshow(img1)\n",
    "plt.axis('off')  # Optional: Turn off axis ticks and labels\n",
    "plt.show()\n",
    "print(\"dist min = \", test[0].min())\n",
    "print(\"dist max = \", test[0].max())\n",
    "print(\"mass min = \", test[1].min())\n",
    "print(\"mass max = \", test[1].max())\n",
    "print(\"subh min = \", test[2].min())\n",
    "print(\"subh max = \", test[2].max())"
   ]
  },
  {
   "cell_type": "markdown",
   "id": "70f5d737",
   "metadata": {},
   "source": [
    "#### seems ok??"
   ]
  },
  {
   "cell_type": "markdown",
   "id": "03e2c596",
   "metadata": {},
   "source": [
    "# plot each channel"
   ]
  },
  {
   "cell_type": "code",
   "execution_count": 22,
   "id": "c9488c24",
   "metadata": {},
   "outputs": [
    {
     "name": "stdout",
     "output_type": "stream",
     "text": [
      "\n",
      "Dist:\n"
     ]
    },
    {
     "data": {
      "image/png": "[encoded data removed]",
      "text/plain": [
       "<Figure size 640x480 with 1 Axes>"
      ]
     },
     "metadata": {},
     "output_type": "display_data"
    },
    {
     "name": "stdout",
     "output_type": "stream",
     "text": [
      "\n",
      "Mass:\n"
     ]
    },
    {
     "data": {
      "image/png": "[encoded data removed]",
      "text/plain": [
       "<Figure size 640x480 with 1 Axes>"
      ]
     },
     "metadata": {},
     "output_type": "display_data"
    },
    {
     "name": "stdout",
     "output_type": "stream",
     "text": [
      "\n",
      "Subhalo\n"
     ]
    },
    {
     "data": {
      "image/png": "[encoded data removed]",
      "text/plain": [
       "<Figure size 640x480 with 1 Axes>"
      ]
     },
     "metadata": {},
     "output_type": "display_data"
    }
   ],
   "source": [
    "for j in range(3):\n",
    "    if j == 0:\n",
    "        print(\"\\nDist:\")\n",
    "    elif j == 1:\n",
    "        print(\"\\nMass:\")\n",
    "    else:\n",
    "        print(\"\\nSubhalo\")\n",
    "    img1 = test[j].unsqueeze(0)\n",
    "    img1 = img1.permute(1, 2, 0).numpy()\n",
    "    plt.imshow(img1)\n",
    "    plt.axis('off')  # Optional: Turn off axis ticks and labels\n",
    "    plt.show()\n",
    "    \n"
   ]
  },
  {
   "cell_type": "markdown",
   "id": "c5a263a9",
   "metadata": {},
   "source": [
    "#### also seems ok?"
   ]
  },
  {
   "cell_type": "markdown",
   "id": "bb4af9c1",
   "metadata": {},
   "source": [
    "# check zero and nonzero pixels, do all channels predict same for absence/presence of progenitor?"
   ]
  },
  {
   "cell_type": "code",
   "execution_count": 23,
   "id": "4bd404dc",
   "metadata": {},
   "outputs": [
    {
     "name": "stdout",
     "output_type": "stream",
     "text": [
      "distance and mass:\n",
      "the two tensors have zeroes in the same spots = False\n",
      "the two tensors have zeroes and nonzero values in 92.07% of the same spots\n",
      "\n",
      "\n",
      "subhalo and mass:\n",
      "the two tensors have zeroes in the same spots = False\n",
      "the two tensors have zeroes and nonzero values in 89.66% of the same spots\n",
      "\n",
      "\n",
      "distance and subhalo:\n",
      "the two tensors have zeroes in the same spots = False\n",
      "the two tensors have zeroes and nonzero values in 97.59% of the same spots\n",
      "\n",
      "\n",
      "Zero elements:\n",
      "Percentage of zero elements: 63.79 %\n",
      "Percentage of zero elements: 55.86 %\n",
      "Percentage of zero elements: 66.21 %\n"
     ]
    }
   ],
   "source": [
    "def have_same_zero_values(tensor1, tensor2):\n",
    "    # Create boolean masks for zero values\n",
    "    zero_mask1 = (tensor1 == 0)\n",
    "    zero_mask2 = (tensor2 == 0)\n",
    "    \n",
    "    # Compare the boolean masks\n",
    "    print(\"the two tensors have zeroes in the same spots =\", torch.all(zero_mask1 == zero_mask2).item())\n",
    "    \n",
    "    percentage = 100 * torch.sum(zero_mask1 == zero_mask2) / len(zero_mask1.flatten())\n",
    "    \n",
    "    print(f\"the two tensors have zeroes and nonzero values in {percentage:.2f}% of the same spots\")\n",
    "    \n",
    "    return\n",
    "\n",
    "print(\"distance and mass:\")\n",
    "have_same_zero_values(test[0], test[1])\n",
    "print(\"\\n\")\n",
    "print(\"subhalo and mass:\")\n",
    "have_same_zero_values(test[1], test[2])\n",
    "print(\"\\n\")\n",
    "print(\"distance and subhalo:\")\n",
    "have_same_zero_values(test[2], test[0])\n",
    "\n",
    "print(\"\\n\")\n",
    "print(\"Zero elements:\")\n",
    "for i in range(3):\n",
    "    zero_count = (test[i] == 0).sum().item()\n",
    "    total_elements = test[j].numel()\n",
    "    percentage_zero = (zero_count / total_elements) * 100\n",
    "    print(\"Percentage of zero elements:\", round(percentage_zero, 2), \"%\")\n"
   ]
  },
  {
   "cell_type": "markdown",
   "id": "acfd3be1",
   "metadata": {},
   "source": [
    "#### very interesting, none of the channels have the same generation in terms of absence/presence of progenitor.\n",
    "#### we also see that there is a difference between how many zeros each channel predicts. distance is usually a bit lower than the other two since distance to the main branch in the main branch is 0, but here, mass have a lot more nonezero values than the other two channels"
   ]
  },
  {
   "cell_type": "markdown",
   "id": "6b73831e",
   "metadata": {},
   "source": [
    "# see number of nonzero entries"
   ]
  },
  {
   "cell_type": "code",
   "execution_count": 24,
   "id": "f01fe65e",
   "metadata": {},
   "outputs": [
    {
     "data": {
      "text/plain": [
       "torch.Size([105])"
      ]
     },
     "execution_count": 24,
     "metadata": {},
     "output_type": "execute_result"
    }
   ],
   "source": [
    "nonzero_indices_dist = torch.nonzero(test[0].flatten())\n",
    "nonzero_values_dist = test[0].flatten()[nonzero_indices_dist[:, 0]]\n",
    "nonzero_values_dist.shape"
   ]
  },
  {
   "cell_type": "code",
   "execution_count": 25,
   "id": "292f5897",
   "metadata": {},
   "outputs": [
    {
     "data": {
      "text/plain": [
       "torch.Size([128])"
      ]
     },
     "execution_count": 25,
     "metadata": {},
     "output_type": "execute_result"
    }
   ],
   "source": [
    "nonzero_indices_mass = torch.nonzero(test[1].flatten())\n",
    "nonzero_values_mass = test[1].flatten()[nonzero_indices_mass[:, 0]]\n",
    "nonzero_values_mass.shape"
   ]
  },
  {
   "cell_type": "code",
   "execution_count": 26,
   "id": "7c4856c7",
   "metadata": {},
   "outputs": [
    {
     "data": {
      "text/plain": [
       "torch.Size([98])"
      ]
     },
     "execution_count": 26,
     "metadata": {},
     "output_type": "execute_result"
    }
   ],
   "source": [
    "nonzero_indices_subh = torch.nonzero(test[2].flatten())\n",
    "nonzero_values_subh = test[2].flatten()[nonzero_indices_subh[:, 0]]\n",
    "nonzero_values_subh.shape"
   ]
  },
  {
   "cell_type": "markdown",
   "id": "fd6da099",
   "metadata": {},
   "source": [
    "# plot nonzero values for each channel"
   ]
  },
  {
   "cell_type": "markdown",
   "id": "ad9c5f94",
   "metadata": {},
   "source": [
    "# subhalo"
   ]
  },
  {
   "cell_type": "code",
   "execution_count": 27,
   "id": "f71f2a40",
   "metadata": {},
   "outputs": [
    {
     "data": {
      "image/png": "[encoded data removed]",
      "text/plain": [
       "<Figure size 640x480 with 1 Axes>"
      ]
     },
     "metadata": {},
     "output_type": "display_data"
    },
    {
     "data": {
      "text/plain": [
       "tensor([1.0000, 1.0000, 1.0000, 1.0000, 1.0000, 1.0000, 1.0000, 1.0000, 1.0000,\n",
       "        1.0000, 1.0000, 1.0000, 1.0000, 1.0000, 1.0000, 1.0000, 1.0000, 1.0000,\n",
       "        1.0000, 1.0000, 1.0000, 1.0000, 1.0000, 1.0000, 1.0000, 1.0000, 0.5100,\n",
       "        1.0000, 1.0000, 1.0000, 1.0000, 1.0000, 1.0000, 1.0000, 1.0000, 1.0000,\n",
       "        1.0000, 1.0000, 1.0000, 1.0000, 1.0000, 1.0000, 1.0000, 1.0000, 1.0000,\n",
       "        1.0000, 1.0000, 0.5000, 1.0000, 1.0000, 1.0000, 0.5000, 1.0000, 1.0000,\n",
       "        0.5100, 1.0000, 1.0000, 1.0000, 1.0000, 0.5000, 1.0000, 0.5000, 1.0000,\n",
       "        0.4800, 1.0000, 0.5100, 0.5000, 1.0000, 0.5000, 1.0000, 0.4900, 1.0000,\n",
       "        0.5000, 0.5000, 0.5000, 0.5000, 0.5000, 1.0000, 0.5000, 0.5000, 0.5000,\n",
       "        0.5000, 0.5000, 0.5300, 0.5000, 0.5000, 1.0000, 0.5100, 1.0000, 0.5000,\n",
       "        0.5000, 1.0000, 0.5100, 1.0000, 1.0000, 1.0000, 1.0000, 1.0000],\n",
       "       dtype=torch.float64)"
      ]
     },
     "execution_count": 27,
     "metadata": {},
     "output_type": "execute_result"
    }
   ],
   "source": [
    "plt.hist(torch.round(nonzero_values_subh, decimals = 10).numpy(), bins=100, color='blue')\n",
    "\n",
    "# Customize the plot\n",
    "plt.xlabel('Values')\n",
    "plt.ylabel('Frequency')\n",
    "plt.title('subh')\n",
    "\n",
    "# Show the plot\n",
    "plt.show()\n",
    "\n",
    "nonzero_values_subh"
   ]
  },
  {
   "cell_type": "markdown",
   "id": "cf0239fa",
   "metadata": {},
   "source": [
    "#### we see that there are multiple values that are not exactly 0.5, values like 0.48, 0.49, 0.51, 0.52, 0.53  have been observed. Is this accurate??? if the categorical value is 0.5 exactly. And why is nothing mentioned about this? For me, it is a little bit suspicious that the \"off-values\" are -/+ 0.01 - 0.03, when the problem uses floats. in the other two variables, the predicted floats have many decimals. Did they do something to deal with it? and if so, what?"
   ]
  },
  {
   "cell_type": "markdown",
   "id": "75bb4b58",
   "metadata": {},
   "source": [
    "# mass"
   ]
  },
  {
   "cell_type": "code",
   "execution_count": 28,
   "id": "a245b4ee",
   "metadata": {},
   "outputs": [
    {
     "data": {
      "image/png": "[encoded data removed]",
      "text/plain": [
       "<Figure size 640x480 with 1 Axes>"
      ]
     },
     "metadata": {},
     "output_type": "display_data"
    },
    {
     "data": {
      "text/plain": [
       "(30,\n",
       " tensor([1.0000e-06, 1.0000e-06, 1.0000e-06, 1.0000e-06, 2.0000e-06, 2.0000e-06,\n",
       "         8.0000e-06, 4.0000e-06, 1.4000e-05, 1.0000e-06, 5.0000e-06, 3.0000e-06,\n",
       "         6.0000e-06, 2.0000e-05, 1.9000e-05, 7.0000e-06, 1.2000e-05, 2.4000e-05,\n",
       "         3.3000e-05, 5.0000e-05, 8.1900e-04, 3.8100e-04, 1.9910e-03, 4.8600e-04,\n",
       "         1.1000e-05, 2.0000e-06, 1.7900e-04, 1.8800e-04, 1.0000e-06, 7.0000e-06],\n",
       "        dtype=torch.float64))"
      ]
     },
     "execution_count": 28,
     "metadata": {},
     "output_type": "execute_result"
    }
   ],
   "source": [
    "plt.hist(torch.round(nonzero_values_mass, decimals = 10).numpy(), bins=100, color='blue')\n",
    "\n",
    "# Customize the plot\n",
    "plt.xlabel('Values')\n",
    "plt.ylabel('Frequency')\n",
    "plt.title('mass')\n",
    "\n",
    "# Show the plot\n",
    "plt.show()\n",
    "\n",
    "len(nonzero_values_mass[nonzero_values_mass < 2]), nonzero_values_mass[nonzero_values_mass < 2]"
   ]
  },
  {
   "cell_type": "markdown",
   "id": "cf029485",
   "metadata": {},
   "source": [
    "#### we see that there are multiple nonzero values that are close to 0. In fact, there are 30 very small nonzero values. remember the variable representation has a total of 29 * 10 = 290 pixels, so 30 is over 10% of the variable pixels. That means over 12% of the mass variable generated has progenitor present when it shouldnt be. In my eyes, that is a discontinuity. It could have been delt with in some way, but they obviously didnt"
   ]
  },
  {
   "cell_type": "markdown",
   "id": "4727afbe",
   "metadata": {},
   "source": [
    "# dist"
   ]
  },
  {
   "cell_type": "code",
   "execution_count": 29,
   "id": "34148b0e",
   "metadata": {},
   "outputs": [
    {
     "data": {
      "image/png": "[encoded data removed]",
      "text/plain": [
       "<Figure size 640x480 with 1 Axes>"
      ]
     },
     "metadata": {},
     "output_type": "display_data"
    },
    {
     "data": {
      "text/plain": [
       "(32,\n",
       " tensor([2.3600e-04, 1.0000e-06, 2.0000e-06, 3.0000e-06, 4.0000e-06, 6.0000e-06,\n",
       "         8.0000e-06, 9.0000e-06, 1.0000e-05, 2.8000e-05, 9.0000e-06, 7.0000e-06,\n",
       "         1.7000e-05, 1.0000e-06, 7.0000e-06, 1.3000e-05, 2.3000e-05, 5.0000e-06,\n",
       "         8.0000e-06, 2.4000e-05, 9.0000e-06, 4.0000e-06, 1.2000e-05, 1.4000e-05,\n",
       "         1.0000e-06, 1.6000e-05, 1.0000e-06, 2.4000e-05, 2.6000e-05, 2.5000e-05,\n",
       "         2.3000e-05, 1.0000e-06], dtype=torch.float64))"
      ]
     },
     "execution_count": 29,
     "metadata": {},
     "output_type": "execute_result"
    }
   ],
   "source": [
    "plt.hist(torch.round(nonzero_values_dist, decimals = 10).numpy(), bins=100, color='blue')\n",
    "\n",
    "# Customize the plot\n",
    "plt.xlabel('Values')\n",
    "plt.ylabel('Frequency')\n",
    "plt.title('dist')\n",
    "\n",
    "# Show the plot\n",
    "plt.show()\n",
    "\n",
    "len(nonzero_values_dist[nonzero_values_dist < 0.01]), nonzero_values_dist[nonzero_values_dist < 0.01]"
   ]
  },
  {
   "cell_type": "markdown",
   "id": "482700aa",
   "metadata": {},
   "source": [
    "#### the same is true for the distance variable"
   ]
  },
  {
   "cell_type": "code",
   "execution_count": 30,
   "id": "56200980",
   "metadata": {
    "scrolled": false
   },
   "outputs": [
    {
     "name": "stderr",
     "output_type": "stream",
     "text": [
      "Clipping input data to the valid range for imshow with RGB data ([0..1] for floats or [0..255] for integers).\n"
     ]
    },
    {
     "name": "stdout",
     "output_type": "stream",
     "text": [
      "original:\n"
     ]
    },
    {
     "data": {
      "image/png": "[encoded data removed]",
      "text/plain": [
       "<Figure size 640x480 with 1 Axes>"
      ]
     },
     "metadata": {},
     "output_type": "display_data"
    },
    {
     "name": "stderr",
     "output_type": "stream",
     "text": [
      "Clipping input data to the valid range for imshow with RGB data ([0..1] for floats or [0..255] for integers).\n"
     ]
    },
    {
     "name": "stdout",
     "output_type": "stream",
     "text": [
      "zero detection:\n"
     ]
    },
    {
     "data": {
      "image/png": "[encoded data removed]",
      "text/plain": [
       "<Figure size 640x480 with 1 Axes>"
      ]
     },
     "metadata": {},
     "output_type": "display_data"
    },
    {
     "name": "stdout",
     "output_type": "stream",
     "text": [
      "\n",
      "Dist:\n"
     ]
    },
    {
     "data": {
      "image/png": "[encoded data removed]",
      "text/plain": [
       "<Figure size 640x480 with 1 Axes>"
      ]
     },
     "metadata": {},
     "output_type": "display_data"
    },
    {
     "name": "stdout",
     "output_type": "stream",
     "text": [
      "\n",
      "Mass:\n"
     ]
    },
    {
     "data": {
      "image/png": "[encoded data removed]",
      "text/plain": [
       "<Figure size 640x480 with 1 Axes>"
      ]
     },
     "metadata": {},
     "output_type": "display_data"
    }
   ],
   "source": [
    "test_zeroes = test.clone()\n",
    "\n",
    "lower_bound = 0.0\n",
    "upper_bound = 1.0e-4\n",
    "\n",
    "# Mask the tensor based on the condition (value between lower_bound and upper_bound)\n",
    "mask = (test_zeroes > lower_bound) & (test_zeroes <= upper_bound)\n",
    "\n",
    "# Edit values based on the condition\n",
    "test_zeroes[mask] = 100\n",
    "\n",
    "print(\"original:\")\n",
    "img1 = test\n",
    "img1 = img1.permute(1, 2, 0).numpy()\n",
    "plt.imshow(img1)\n",
    "plt.axis('off')  # Optional: Turn off axis ticks and labels\n",
    "plt.show()\n",
    "\n",
    "print(\"zero detection:\")\n",
    "img1 = test_zeroes\n",
    "img1 = img1.permute(1, 2, 0).numpy()\n",
    "plt.imshow(img1)\n",
    "plt.axis('off')  # Optional: Turn off axis ticks and labels\n",
    "plt.show()\n",
    "\n",
    "for j in range(2):\n",
    "    if j == 0:\n",
    "        print(\"\\nDist:\")\n",
    "    elif j == 1:\n",
    "        print(\"\\nMass:\")\n",
    "    else:\n",
    "        print(\"\\nSubhalo\")\n",
    "    img1 = test_zeroes[j].unsqueeze(0)\n",
    "    img1 = img1.permute(1, 2, 0).numpy()\n",
    "    plt.imshow(img1)\n",
    "    plt.axis('off')  # Optional: Turn off axis ticks and labels\n",
    "    plt.show()\n",
    "    \n"
   ]
  },
  {
   "cell_type": "markdown",
   "id": "cab19588",
   "metadata": {},
   "source": [
    "#### here there are a lot going on, so here is a list of behaviors and patterns observed:\n",
    "- in some cases, both mass and distane have a very low nonzero value predicted, which means both channels technically say its a progenitor present, when it is not.\n",
    "- mass predict a progenitor present in the beginning of the main branch, so it adds one timestep to the main branch which is bad.\n",
    "- most of the distance variables \"off-values\" is in the main branch. The distance variable in the main branch should be 0.0 since distance is a measure from the main branch.\n",
    "- most of the \"off-values\" are close to good generated values, however there are multiple issuess:\n",
    "    - the \"off-values\" extend a branch with more than 9 values\n",
    "    - the \"off-values\" creates discontinuities in branches, that is gaps between progenitors in a branch\n",
    "    - the \"off-values\" have created new branches that are not supposed to exist. with \"off-values\" in both the mass and distance variable"
   ]
  },
  {
   "cell_type": "markdown",
   "id": "8d2c6343",
   "metadata": {},
   "source": [
    "# check total dataset"
   ]
  },
  {
   "cell_type": "markdown",
   "id": "bd7948e7",
   "metadata": {},
   "source": [
    "### dist"
   ]
  },
  {
   "cell_type": "code",
   "execution_count": 31,
   "id": "0e9e9514",
   "metadata": {},
   "outputs": [
    {
     "data": {
      "image/png": "[encoded data removed]",
      "text/plain": [
       "<Figure size 640x480 with 1 Axes>"
      ]
     },
     "metadata": {},
     "output_type": "display_data"
    },
    {
     "name": "stdout",
     "output_type": "stream",
     "text": [
      "Number of bad nonzero values = 1014873\n",
      "Percentage of bad nonzero values overall = 9.0898%\n",
      "\n",
      "Just remember, minimum distance value in training data is 0.000273, and over 9% of total generated data is less than 0.00005\n"
     ]
    }
   ],
   "source": [
    "dist = fake_dataset[:, 0]\n",
    "mass = fake_dataset[:, 1]\n",
    "subh = fake_dataset[:, 2]\n",
    "\n",
    "nonzero_indices_dist = torch.nonzero(dist.flatten())\n",
    "nonzero_values_dist = dist.flatten()[nonzero_indices_dist[:, 0]]\n",
    "\n",
    "plt.hist(torch.round(nonzero_values_dist, decimals = 4).numpy(), bins=100, color='blue')\n",
    "\n",
    "# Customize the plot\n",
    "plt.xlabel('Distance values')\n",
    "plt.ylabel('Frequency')\n",
    "plt.title('Histogram of Distance values, 100 bins')\n",
    "\n",
    "# Show the plot\n",
    "plt.show()\n",
    "\n",
    "off_nonzero_values = len(nonzero_values_dist[nonzero_values_dist < 5.0e-5])\n",
    "\n",
    "print(\"Number of bad nonzero values =\", off_nonzero_values)\n",
    "print(f\"Percentage of bad nonzero values overall = {100 * off_nonzero_values / len(dist.flatten()):.4f}%\")\n",
    "print(\"\\nJust remember, minimum distance value in training data is 0.000273, and over 9% of total generated data is less than 0.00005\")"
   ]
  },
  {
   "cell_type": "markdown",
   "id": "0899f93d",
   "metadata": {},
   "source": [
    "### just below 10% of all distance values are \"off-values\", that is nonzero values extremely close to zero, mostly are in the main branch"
   ]
  },
  {
   "cell_type": "markdown",
   "id": "e6adc70c",
   "metadata": {},
   "source": [
    "## only sub branches"
   ]
  },
  {
   "cell_type": "code",
   "execution_count": 32,
   "id": "f8b21975",
   "metadata": {},
   "outputs": [
    {
     "data": {
      "image/png": "[encoded data removed]",
      "text/plain": [
       "<Figure size 640x480 with 1 Axes>"
      ]
     },
     "metadata": {},
     "output_type": "display_data"
    },
    {
     "name": "stdout",
     "output_type": "stream",
     "text": [
      "Number of bad nonzero values = 99593\n",
      "Percentage of bad nonzero values overall = 0.8920%\n"
     ]
    }
   ],
   "source": [
    "dist_branches = fake_dataset[:, 0, :, 1:]\n",
    "\n",
    "\n",
    "nonzero_indices_dist_branches = torch.nonzero(dist_branches.flatten())\n",
    "nonzero_values_dist_branches = dist_branches.flatten()[nonzero_indices_dist_branches[:, 0]]\n",
    "\n",
    "plt.hist(torch.round(nonzero_values_dist_branches, decimals = 4).numpy(), bins=100, color='blue')\n",
    "\n",
    "# Customize the plot\n",
    "plt.xlabel('Distance only sub branches values')\n",
    "plt.ylabel('Frequency')\n",
    "plt.title('Histogram of Distance values, 100 bins')\n",
    "\n",
    "# Show the plot\n",
    "plt.show()\n",
    "\n",
    "off_nonzero_values = len(nonzero_values_dist_branches[nonzero_values_dist_branches < 5.0e-5])\n",
    "\n",
    "print(\"Number of bad nonzero values =\", off_nonzero_values)\n",
    "print(f\"Percentage of bad nonzero values overall = {100 * off_nonzero_values / len(dist.flatten()):.4f}%\")"
   ]
  },
  {
   "cell_type": "markdown",
   "id": "f7d90fb4",
   "metadata": {},
   "source": [
    "### mass"
   ]
  },
  {
   "cell_type": "code",
   "execution_count": 33,
   "id": "9e8d90c8",
   "metadata": {},
   "outputs": [
    {
     "data": {
      "image/png": "[encoded data removed]",
      "text/plain": [
       "<Figure size 640x480 with 1 Axes>"
      ]
     },
     "metadata": {},
     "output_type": "display_data"
    },
    {
     "name": "stdout",
     "output_type": "stream",
     "text": [
      "Number of bad nonzero values = 1549243\n",
      "Percentage of bad nonzero values overall = 13.8759%\n",
      "\n",
      "Just remember, minimum distance value in training data is 7.6377, and here we test numbers below 0.001\n"
     ]
    }
   ],
   "source": [
    "nonzero_indices_mass = torch.nonzero(mass.flatten())\n",
    "nonzero_values_mass = mass.flatten()[nonzero_indices_mass[:, 0]]\n",
    "\n",
    "plt.hist(torch.round(nonzero_values_mass, decimals = 4).numpy(), bins=100, color='blue')\n",
    "\n",
    "# Customize the plot\n",
    "plt.xlabel('Mass values')\n",
    "plt.ylabel('Frequency')\n",
    "plt.title('Histogram of Distance values, 100 bins')\n",
    "\n",
    "# Show the plot\n",
    "plt.show()\n",
    "\n",
    "off_nonzero_values = len(nonzero_values_mass[nonzero_values_mass < 1.0e-3])\n",
    "\n",
    "print(\"Number of bad nonzero values =\", off_nonzero_values)\n",
    "print(f\"Percentage of bad nonzero values overall = {100 * off_nonzero_values / len(mass.flatten()):.4f}%\")\n",
    "print(\"\\nJust remember, minimum distance value in training data is 7.6377, and here we test numbers below 0.001\")"
   ]
  },
  {
   "cell_type": "markdown",
   "id": "328a42df",
   "metadata": {},
   "source": [
    "### Over 13% of all mass values are \"off-values\", that is nonzero values extremely close to zero"
   ]
  },
  {
   "cell_type": "markdown",
   "id": "e34200b5",
   "metadata": {},
   "source": [
    "### subhalo"
   ]
  },
  {
   "cell_type": "code",
   "execution_count": 34,
   "id": "405767ad",
   "metadata": {
    "scrolled": false
   },
   "outputs": [
    {
     "data": {
      "image/png": "[encoded data removed]",
      "text/plain": [
       "<Figure size 640x480 with 1 Axes>"
      ]
     },
     "metadata": {},
     "output_type": "display_data"
    },
    {
     "name": "stdout",
     "output_type": "stream",
     "text": [
      "Number of bad nonzero values = 276005\n",
      "Percentage of bad nonzero values overall = 2.4721%\n",
      "These values range from 0.01 - 0.99\n"
     ]
    }
   ],
   "source": [
    "nonzero_indices_subh = torch.nonzero(subh.flatten())\n",
    "nonzero_values_subh = subh.flatten()[nonzero_indices_mass[:, 0]]\n",
    "\n",
    "\n",
    "nonzero_values_subh = nonzero_values_subh[nonzero_values_subh < 1.0]\n",
    "nonzero_values_subh = nonzero_values_subh[nonzero_values_subh > 0.0]\n",
    "nonzero_values_subh = nonzero_values_subh[nonzero_values_subh != 0.5]\n",
    "\n",
    "plt.hist(torch.round(nonzero_values_subh, decimals = 4).numpy(), bins=100, color='blue')\n",
    "\n",
    "# Customize the plot\n",
    "plt.xlabel('Mass values')\n",
    "plt.ylabel('Frequency')\n",
    "plt.title('Histogram of Distance values, 100 bins')\n",
    "\n",
    "# Show the plot\n",
    "plt.show()\n",
    "\n",
    "off_nonzero_values = len(nonzero_values_subh)\n",
    "\n",
    "print(\"Number of bad nonzero values =\", off_nonzero_values)\n",
    "print(f\"Percentage of bad nonzero values overall = {100 * off_nonzero_values / len(subh.flatten()):.4f}%\")\n",
    "print(f\"These values range from {nonzero_values_subh.min()} - {nonzero_values_subh.max()}\")"
   ]
  },
  {
   "cell_type": "code",
   "execution_count": 35,
   "id": "da63242d",
   "metadata": {
    "scrolled": true
   },
   "outputs": [
    {
     "name": "stdout",
     "output_type": "stream",
     "text": [
      "Value: 0.01, Count: 138\n",
      "Value: 0.02, Count: 27\n",
      "Value: 0.03, Count: 21\n",
      "Value: 0.04, Count: 10\n",
      "Value: 0.05, Count: 10\n",
      "Value: 0.06, Count: 5\n",
      "Value: 0.07, Count: 1\n",
      "Value: 0.08, Count: 1\n",
      "Value: 0.09, Count: 4\n",
      "Value: 0.1, Count: 1\n",
      "Value: 0.11, Count: 7\n",
      "Value: 0.12, Count: 1\n",
      "Value: 0.14, Count: 1\n",
      "Value: 0.16, Count: 1\n",
      "Value: 0.17, Count: 2\n",
      "Value: 0.18, Count: 2\n",
      "Value: 0.19, Count: 1\n",
      "Value: 0.2, Count: 1\n",
      "Value: 0.21, Count: 2\n",
      "Value: 0.22, Count: 2\n",
      "Value: 0.23, Count: 1\n",
      "Value: 0.25, Count: 2\n",
      "Value: 0.3, Count: 1\n",
      "Value: 0.31, Count: 1\n",
      "Value: 0.32, Count: 1\n",
      "Value: 0.33, Count: 2\n",
      "Value: 0.35, Count: 4\n",
      "Value: 0.36, Count: 2\n",
      "Value: 0.37, Count: 2\n",
      "Value: 0.38, Count: 4\n",
      "Value: 0.39, Count: 8\n",
      "Value: 0.4, Count: 7\n",
      "Value: 0.41, Count: 3\n",
      "Value: 0.42, Count: 6\n",
      "Value: 0.43, Count: 15\n",
      "Value: 0.44, Count: 20\n",
      "Value: 0.45, Count: 66\n",
      "Value: 0.46, Count: 387\n",
      "Value: 0.47, Count: 2924\n",
      "Value: 0.48, Count: 20479\n",
      "Value: 0.49, Count: 128872\n",
      "Value: 0.51, Count: 102890\n",
      "Value: 0.52, Count: 15240\n",
      "Value: 0.53, Count: 2848\n",
      "Value: 0.54, Count: 747\n",
      "Value: 0.55, Count: 267\n",
      "Value: 0.56, Count: 115\n",
      "Value: 0.57, Count: 42\n",
      "Value: 0.58, Count: 17\n",
      "Value: 0.59, Count: 9\n",
      "Value: 0.6, Count: 9\n",
      "Value: 0.61, Count: 8\n",
      "Value: 0.62, Count: 3\n",
      "Value: 0.63, Count: 4\n",
      "Value: 0.64, Count: 6\n",
      "Value: 0.65, Count: 4\n",
      "Value: 0.66, Count: 2\n",
      "Value: 0.67, Count: 2\n",
      "Value: 0.69, Count: 3\n",
      "Value: 0.7, Count: 4\n",
      "Value: 0.71, Count: 3\n",
      "Value: 0.72, Count: 4\n",
      "Value: 0.73, Count: 5\n",
      "Value: 0.74, Count: 6\n",
      "Value: 0.75, Count: 4\n",
      "Value: 0.76, Count: 3\n",
      "Value: 0.77, Count: 1\n",
      "Value: 0.78, Count: 4\n",
      "Value: 0.79, Count: 4\n",
      "Value: 0.8, Count: 2\n",
      "Value: 0.81, Count: 5\n",
      "Value: 0.82, Count: 6\n",
      "Value: 0.83, Count: 3\n",
      "Value: 0.84, Count: 7\n",
      "Value: 0.85, Count: 6\n",
      "Value: 0.86, Count: 5\n",
      "Value: 0.87, Count: 10\n",
      "Value: 0.88, Count: 11\n",
      "Value: 0.89, Count: 7\n",
      "Value: 0.9, Count: 11\n",
      "Value: 0.91, Count: 10\n",
      "Value: 0.92, Count: 14\n",
      "Value: 0.93, Count: 17\n",
      "Value: 0.94, Count: 20\n",
      "Value: 0.95, Count: 25\n",
      "Value: 0.96, Count: 34\n",
      "Value: 0.97, Count: 48\n",
      "Value: 0.98, Count: 96\n",
      "Value: 0.99, Count: 369\n"
     ]
    }
   ],
   "source": [
    "def count_unique(tensor):\n",
    "    unique_values, counts = tensor.unique(return_counts=True)\n",
    "    return unique_values, counts\n",
    "\n",
    "unique_values, counts = count_unique(nonzero_values_subh)\n",
    "for value, count in zip(unique_values, counts):\n",
    "    print(f\"Value: {value}, Count: {count}\")"
   ]
  },
  {
   "cell_type": "code",
   "execution_count": 36,
   "id": "af914db9",
   "metadata": {},
   "outputs": [
    {
     "name": "stdout",
     "output_type": "stream",
     "text": [
      "The total number of unique values that are not 0.0, 0.5 or 1.0 is 89\n",
      "The number range from 0.01 - 0.99 with increments of 0.01, and contains all numbers except 0.13, 0.15, 0.24, 0.26, 0.27, 0.28, 0.29, 0.24, 0.68\n"
     ]
    }
   ],
   "source": [
    "print(f\"The total number of unique values that are not 0.0, 0.5 or 1.0 is {len(unique_values)}\")\n",
    "print(f\"The number range from 0.01 - 0.99 with increments of 0.01, and contains all numbers except 0.13, 0.15, 0.24, 0.26, 0.27, 0.28, 0.29, 0.24, 0.68\")"
   ]
  },
  {
   "cell_type": "markdown",
   "id": "5cf1071d",
   "metadata": {},
   "source": [
    "# This is a huge discontinuity and is not mentioned at all. How do you classify a halo if the generated value is 0.75 or 0.25???"
   ]
  },
  {
   "cell_type": "markdown",
   "id": "76baff08",
   "metadata": {},
   "source": [
    "# In my opinion, these are results that should have been mentioned, and then delt with to create consistent generated merger trees."
   ]
  },
  {
   "cell_type": "markdown",
   "id": "7e6ce73c",
   "metadata": {},
   "source": [
    "# check algorithms presented in the papers\n",
    "# paper 2:"
   ]
  },
  {
   "cell_type": "markdown",
   "id": "0d91b979",
   "metadata": {},
   "source": [
    "### load data, only uses merger trees with six branches\n",
    "### no normalization since it is not mentioned in the paper"
   ]
  },
  {
   "cell_type": "code",
   "execution_count": 37,
   "id": "2ab09719",
   "metadata": {},
   "outputs": [
    {
     "data": {
      "text/plain": [
       "(torch.Size([8161, 3, 29, 10]), tensor(10.8590, dtype=torch.float64))"
      ]
     },
     "execution_count": 37,
     "metadata": {},
     "output_type": "execute_result"
    }
   ],
   "source": [
    "six_branches = torch.load('data/six_branches_data.pt')\n",
    "six_branches.shape, six_branches.max()"
   ]
  },
  {
   "cell_type": "code",
   "execution_count": 38,
   "id": "b310d80a",
   "metadata": {},
   "outputs": [
    {
     "data": {
      "text/plain": [
       "torch.Size([8161, 3, 29, 6])"
      ]
     },
     "execution_count": 38,
     "metadata": {},
     "output_type": "execute_result"
    }
   ],
   "source": [
    "six_dataset_short = six_branches[:, :, :, :6]\n",
    "six_dataset_short.shape"
   ]
  },
  {
   "cell_type": "markdown",
   "id": "633c5139",
   "metadata": {},
   "source": [
    "### make model"
   ]
  },
  {
   "cell_type": "code",
   "execution_count": 39,
   "id": "6dc38c61",
   "metadata": {},
   "outputs": [],
   "source": [
    "class Discriminator_big(nn.Module):\n",
    "    def __init__(self, nvar, nsnap, nbr, printer):\n",
    "        super().__init__()\n",
    "\n",
    "        self.layers = nn.Sequential(\n",
    "            nn.Conv2d(nvar, 16, kernel_size=(1, 3), stride=1),\n",
    "            nn.ELU(),\n",
    "            nn.Conv2d(16, 32, kernel_size=(1, 3), stride=1),\n",
    "            nn.ELU(),\n",
    "            nn.Conv2d(32, 64, kernel_size=(3, 1), stride=1),\n",
    "            nn.ELU(),\n",
    "            nn.Conv2d(64, 128, kernel_size=(3, 1), stride=1),\n",
    "            nn.ELU(),\n",
    "            nn.Conv2d(128, 256, kernel_size=(3, 1), stride=1),\n",
    "            nn.ELU(),\n",
    "            nn.Flatten(),\n",
    "            nn.Linear(11776, 1)\n",
    "        )\n",
    "        \n",
    "        \n",
    "        self.conv1 = nn.Conv2d(nvar, 16, kernel_size=(1, 3), stride=1)\n",
    "        self.conv2 = nn.Conv2d(16, 32, kernel_size=(1, 3), stride=1)\n",
    "        self.conv3 = nn.Conv2d(32, 64, kernel_size=(3, 1), stride=1)\n",
    "        self.conv4 = nn.Conv2d(64, 128, kernel_size=(3, 1), stride=1)\n",
    "        self.conv5 = nn.Conv2d(128, 256, kernel_size=(3, 1), stride=1)\n",
    "        self.elu = nn.ELU()\n",
    "        self.flatten = nn.Flatten()\n",
    "        self.linear = nn.Linear(11776, 1)\n",
    "        self.sigmoid = nn.Sigmoid()\n",
    "        \n",
    "        self.printer = printer\n",
    "\n",
    "    def forward(self, x):\n",
    "        if self.printer:\n",
    "            print(\"\\nDiscriminator:\")\n",
    "            print(\"0:\", x.shape)\n",
    "            x = self.conv1(x)\n",
    "            print(\"1:\", x.shape)\n",
    "            x = self.elu(x)\n",
    "            print(\"2:\", x.shape)\n",
    "            x = self.conv2(x)\n",
    "            print(\"3:\", x.shape)\n",
    "            x = self.elu(x)\n",
    "            print(\"4:\", x.shape)\n",
    "            x = self.conv3(x)\n",
    "            print(\"5:\", x.shape)\n",
    "            x = self.elu(x)\n",
    "            print(\"6:\", x.shape)\n",
    "            x = self.conv4(x)\n",
    "            print(\"7:\", x.shape)\n",
    "            x = self.elu(x)\n",
    "            print(\"8:\", x.shape)\n",
    "            x = self.conv5(x)\n",
    "            print(\"9:\", x.shape)\n",
    "            x = self.elu(x)\n",
    "            print(\"10:\", x.shape)\n",
    "            x = self.flatten(x)\n",
    "            print(\"11:\", x.shape)\n",
    "            x = self.linear(x)\n",
    "            print(\"12:\", x.shape)\n",
    "            return x\n",
    "        else:\n",
    "            \n",
    "            return self.layers(x)\n",
    "\n",
    "\n",
    "class Encoder_big(nn.Module):\n",
    "    def __init__(self, nvar, nsnap, nbr, latent_size, printer):\n",
    "        super().__init__()\n",
    "\n",
    "        self.layers = nn.Sequential(\n",
    "            nn.Conv2d(nvar, 16, kernel_size=(1, 3), stride=1),\n",
    "            nn.ELU(),\n",
    "            nn.Conv2d(16, 32, kernel_size=(1, 3), stride=1),\n",
    "            nn.ELU(),\n",
    "            nn.Conv2d(32, 64, kernel_size=(3, 1), stride=1),\n",
    "            nn.ELU(),\n",
    "            nn.Conv2d(64, 128, kernel_size=(3, 1), stride=1),\n",
    "            nn.ELU(),\n",
    "            nn.Conv2d(128, 256, kernel_size=(3, 1), stride=1),\n",
    "            nn.ELU(),\n",
    "            nn.Flatten(),\n",
    "            nn.Linear(44544, latent_size),\n",
    "        )\n",
    "        \n",
    "        self.conv1 = nn.Conv2d(nvar, 16, kernel_size=(1, 3), stride=1)\n",
    "        self.conv2 = nn.Conv2d(16, 32, kernel_size=(1, 3), stride=1)\n",
    "        self.conv3 = nn.Conv2d(32, 64, kernel_size=(3, 1), stride=1)\n",
    "        self.conv4 = nn.Conv2d(64, 128, kernel_size=(3, 1), stride=1)\n",
    "        self.conv5 = nn.Conv2d(128, 256, kernel_size=(3, 1), stride=1)\n",
    "        self.elu = nn.ELU()\n",
    "        self.flatten = nn.Flatten()\n",
    "        self.linear = nn.Linear(11776, latent_size)\n",
    "        \n",
    "        self.printer = printer\n",
    "\n",
    "    def forward(self, x):\n",
    "        if self.printer:\n",
    "            print(\"\\nEncoder:\")\n",
    "            print(\"0:\", x.shape)\n",
    "            x = self.conv1(x)\n",
    "            print(\"1:\", x.shape)\n",
    "            x = self.elu(x)\n",
    "            print(\"2:\", x.shape)\n",
    "            x = self.conv2(x)\n",
    "            print(\"3:\", x.shape)\n",
    "            x = self.elu(x)\n",
    "            print(\"4:\", x.shape)\n",
    "            x = self.conv3(x)\n",
    "            print(\"5:\", x.shape)\n",
    "            x = self.elu(x)\n",
    "            print(\"6:\", x.shape)\n",
    "            x = self.conv4(x)\n",
    "            print(\"7:\", x.shape)\n",
    "            x = self.elu(x)\n",
    "            print(\"8:\", x.shape)\n",
    "            x = self.conv5(x)\n",
    "            print(\"9:\", x.shape)\n",
    "            x = self.elu(x)\n",
    "            print(\"10:\", x.shape)\n",
    "            x = self.flatten(x)\n",
    "            print(\"11:\", x.shape)\n",
    "            x = self.linear(x)\n",
    "            print(\"12:\", x.shape)\n",
    "\n",
    "            return x\n",
    "        \n",
    "        else:\n",
    "            x = self.layers(x)\n",
    "            return x\n",
    "\n",
    "\n",
    "class Generator_big(nn.Module):\n",
    "    def __init__(self, nvar, nsnap, nbr, latent_size, printer):\n",
    "        super().__init__()\n",
    "\n",
    "        self.layers = nn.Sequential(\n",
    "            nn.ConvTranspose2d(256, 128, kernel_size=(3, 1), stride=1),\n",
    "            nn.ELU(),\n",
    "            nn.ConvTranspose2d(128, 64, kernel_size=(3, 1), stride=1),\n",
    "            nn.ELU(),\n",
    "            nn.ConvTranspose2d(64, 32, kernel_size=(1, 3), stride=1),\n",
    "            nn.ELU(),\n",
    "            nn.ConvTranspose2d(32, 16, kernel_size=(1, 3), stride=1),\n",
    "            nn.ELU(),\n",
    "            nn.ConvTranspose2d(16, nvar, kernel_size=(1, 3), stride=1),\n",
    "            nn.Sigmoid(),\n",
    "        )\n",
    "        \n",
    "        self.linear = nn.Linear(latent_size, 11776)\n",
    "        self.elu = nn.ELU()\n",
    "        self.sigmoid = nn.Sigmoid()\n",
    "        self.deconv1 = nn.ConvTranspose2d(256, 128, kernel_size=(3, 1), stride=1)\n",
    "        self.deconv2 = nn.ConvTranspose2d(128, 64, kernel_size=(3, 1), stride=1)\n",
    "        self.deconv3 = nn.ConvTranspose2d(64, 32, kernel_size=(1, 3), stride=1)\n",
    "        self.deconv4 = nn.ConvTranspose2d(32, 16, kernel_size=(1, 3), stride=1)\n",
    "        self.deconv5 = nn.ConvTranspose2d(16, nvar, kernel_size=(1, 3), stride=1)\n",
    "        \n",
    "        self.printer = printer\n",
    "\n",
    "\n",
    "    def forward(self, x):\n",
    "        if self.printer:\n",
    "            print(\"\\nGenerator:\")\n",
    "            print(\"0:\", x.shape)\n",
    "            x = self.linear(x)\n",
    "            print(\"1:\", x.shape)\n",
    "            x = self.elu(x)\n",
    "            print(\"2:\", x.shape)\n",
    "            x = x.view(-1, 256, 23, 2)\n",
    "            print(\"3:\", x.shape)\n",
    "            x = self.deconv1(x)\n",
    "            print(\"4:\", x.shape)\n",
    "            x = self.elu(x)\n",
    "            print(\"5:\", x.shape)\n",
    "            x = self.deconv2(x)\n",
    "            print(\"6:\", x.shape)\n",
    "            x = self.elu(x)\n",
    "            print(\"7:\", x.shape)\n",
    "            x = self.deconv3(x)\n",
    "            print(\"8:\", x.shape)\n",
    "            x = self.elu(x)\n",
    "            print(\"9:\", x.shape)\n",
    "            x = self.deconv4(x)\n",
    "            print(\"10:\", x.shape)\n",
    "            x = self.elu(x)\n",
    "            print(\"11:\", x.shape)\n",
    "            x = self.deconv5(x)\n",
    "            print(\"12:\", x.shape)\n",
    "            x = self.sigmoid(x)\n",
    "            print(\"13:\", x.shape)\n",
    "\n",
    "            return x\n",
    "        else:\n",
    "            x = self.elu(self.linear(x))\n",
    "            x = x.view(-1, 256, 23, 2)\n",
    "\n",
    "            return self.layers(x)\n",
    "        "
   ]
  },
  {
   "cell_type": "markdown",
   "id": "d210f1c4",
   "metadata": {},
   "source": [
    "### pass a batch through and check layer output"
   ]
  },
  {
   "cell_type": "code",
   "execution_count": 40,
   "id": "f2b246ab",
   "metadata": {},
   "outputs": [
    {
     "name": "stderr",
     "output_type": "stream",
     "text": [
      "\r",
      "  0%|                                                    | 0/64 [00:00<?, ?it/s]"
     ]
    },
    {
     "name": "stdout",
     "output_type": "stream",
     "text": [
      "\n",
      "Discriminator:\n",
      "0: torch.Size([128, 3, 29, 6])\n",
      "1: torch.Size([128, 16, 29, 4])\n",
      "2: torch.Size([128, 16, 29, 4])\n",
      "3: torch.Size([128, 32, 29, 2])\n",
      "4: torch.Size([128, 32, 29, 2])\n",
      "5: torch.Size([128, 64, 27, 2])\n",
      "6: torch.Size([128, 64, 27, 2])\n",
      "7: torch.Size([128, 128, 25, 2])\n",
      "8: torch.Size([128, 128, 25, 2])\n",
      "9: torch.Size([128, 256, 23, 2])\n",
      "10: torch.Size([128, 256, 23, 2])\n",
      "11: torch.Size([128, 11776])\n",
      "12: torch.Size([128, 1])\n",
      "\n",
      "Encoder:\n",
      "0: torch.Size([128, 3, 29, 6])\n",
      "1: torch.Size([128, 16, 29, 4])\n",
      "2: torch.Size([128, 16, 29, 4])\n",
      "3: torch.Size([128, 32, 29, 2])\n",
      "4: torch.Size([128, 32, 29, 2])\n",
      "5: torch.Size([128, 64, 27, 2])\n",
      "6: torch.Size([128, 64, 27, 2])\n",
      "7: torch.Size([128, 128, 25, 2])\n",
      "8: torch.Size([128, 128, 25, 2])\n"
     ]
    },
    {
     "name": "stderr",
     "output_type": "stream",
     "text": [
      "\r",
      "  0%|                                                    | 0/64 [00:00<?, ?it/s]"
     ]
    },
    {
     "name": "stdout",
     "output_type": "stream",
     "text": [
      "9: torch.Size([128, 256, 23, 2])\n",
      "10: torch.Size([128, 256, 23, 2])\n",
      "11: torch.Size([128, 11776])\n",
      "12: torch.Size([128, 100])\n",
      "\n",
      "Generator:\n",
      "0: torch.Size([128, 100])\n",
      "1: torch.Size([128, 11776])\n",
      "2: torch.Size([128, 11776])\n",
      "3: torch.Size([128, 256, 23, 2])\n",
      "4: torch.Size([128, 128, 25, 2])\n",
      "5: torch.Size([128, 128, 25, 2])\n",
      "6: torch.Size([128, 64, 27, 2])\n",
      "7: torch.Size([128, 64, 27, 2])\n",
      "8: torch.Size([128, 32, 27, 4])\n",
      "9: torch.Size([128, 32, 27, 4])\n",
      "10: torch.Size([128, 16, 27, 6])\n",
      "11: torch.Size([128, 16, 27, 6])\n",
      "12: torch.Size([128, 3, 27, 8])\n",
      "13: torch.Size([128, 3, 27, 8])\n"
     ]
    },
    {
     "name": "stderr",
     "output_type": "stream",
     "text": [
      "\n"
     ]
    }
   ],
   "source": [
    "device = torch.device(\"cuda\" if torch.cuda.is_available() else \"cpu\")\n",
    "\n",
    "nsnap = six_dataset_short.shape[2]\n",
    "nbr = six_dataset_short.shape[3]\n",
    "nvar = six_dataset_short.shape[1]\n",
    "printer = True\n",
    "\n",
    "num_epochs = 1\n",
    "lr = 3e-4\n",
    "batch_size = 128\n",
    "latent_size = 100\n",
    "\n",
    "train_loader = DataLoader(six_dataset_short, shuffle=True, batch_size = batch_size)\n",
    "discriminator_CGAN = Discriminator_big(nvar, nsnap, nbr, printer).to(device)\n",
    "encoder_CGAN = Encoder_big(nvar, nsnap, nbr, latent_size, printer).to(device)\n",
    "generator_CGAN = Generator_big(nvar, nsnap, nbr, latent_size, printer).to(device)\n",
    "\n",
    "for real_data in tqdm.tqdm(train_loader):\n",
    "    \n",
    "    real = real_data.to(dtype=torch.float32)\n",
    "    \n",
    "    test_disc = discriminator_CGAN(real)\n",
    "    test_enc = encoder_CGAN(real)\n",
    "    test_gen = generator_CGAN(test_enc)\n",
    "\n",
    "    \n",
    "    break"
   ]
  },
  {
   "cell_type": "markdown",
   "id": "5cd43e67",
   "metadata": {},
   "source": [
    "### I made some changes in the linear layer and how to reshape the image from latent space in the generator to make sure the image is passed through the whole process. We can see that the shapes mismatch from what the paper architecure says, which makes it very hard to reproduce the model and the results"
   ]
  },
  {
   "cell_type": "code",
   "execution_count": null,
   "id": "8ec19bdc",
   "metadata": {},
   "outputs": [],
   "source": []
  }
 ],
 "metadata": {
  "kernelspec": {
   "display_name": "Python 3 (ipykernel)",
   "language": "python",
   "name": "python3"
  },
  "language_info": {
   "codemirror_mode": {
    "name": "ipython",
    "version": 3
   },
   "file_extension": ".py",
   "mimetype": "text/x-python",
   "name": "python",
   "nbconvert_exporter": "python",
   "pygments_lexer": "ipython3",
   "version": "3.11.4"
  }
 },
 "nbformat": 4,
 "nbformat_minor": 5
}
